{
 "cells": [
  {
   "cell_type": "markdown",
   "metadata": {},
   "source": [
    "#### Notes for later"
   ]
  },
  {
   "cell_type": "code",
   "execution_count": 19,
   "metadata": {},
   "outputs": [],
   "source": [
    "import polars as pl\n",
    "import plotly.express as px\n",
    "import pandas as pd\n",
    "import plotly.graph_objects as go\n",
    "import matplotlib.pyplot as plt\n",
    "from matplotlib.dates import DateFormatter, date2num\n",
    "import time\n",
    "import csv"
   ]
  },
  {
   "cell_type": "markdown",
   "metadata": {},
   "source": [
    "#### Load last month's data"
   ]
  },
  {
   "cell_type": "code",
   "execution_count": 20,
   "metadata": {},
   "outputs": [
    {
     "name": "stdout",
     "output_type": "stream",
     "text": [
      "53\n"
     ]
    },
    {
     "data": {
      "text/html": [
       "<div><style>\n",
       ".dataframe > thead > tr > th,\n",
       ".dataframe > tbody > tr > td {\n",
       "  text-align: right;\n",
       "  white-space: pre-wrap;\n",
       "}\n",
       "</style>\n",
       "<small>shape: (3, 16)</small><table border=\"1\" class=\"dataframe\"><thead><tr><th>Account Number</th><th>Post Date</th><th>Check</th><th>description</th><th>Debit</th><th>Credit</th><th>Status</th><th>month</th><th>day</th><th>year</th><th>date</th><th>monthName</th><th>weekDay</th><th>quarter</th><th>cost</th><th>cardType</th></tr><tr><td>str</td><td>str</td><td>i64</td><td>str</td><td>f64</td><td>f64</td><td>str</td><td>i32</td><td>i32</td><td>i32</td><td>str</td><td>str</td><td>str</td><td>u32</td><td>f64</td><td>str</td></tr></thead><tbody><tr><td>&quot;***0530002&quot;</td><td>&quot;5/31/2025&quot;</td><td>null</td><td>&quot;Card purchase …</td><td>24.77</td><td>0.0</td><td>&quot;Posted&quot;</td><td>5</td><td>31</td><td>2025</td><td>&quot;2025-5-31&quot;</td><td>&quot;May&quot;</td><td>&quot;Sat&quot;</td><td>2</td><td>24.77</td><td>&quot;Debit&quot;</td></tr><tr><td>&quot;***0530002&quot;</td><td>&quot;5/31/2025&quot;</td><td>null</td><td>&quot;Credit or debi…</td><td>0.0</td><td>211.99</td><td>&quot;Posted&quot;</td><td>5</td><td>31</td><td>2025</td><td>&quot;2025-5-31&quot;</td><td>&quot;May&quot;</td><td>&quot;Sat&quot;</td><td>2</td><td>211.99</td><td>&quot;Debit&quot;</td></tr><tr><td>&quot;***0530002&quot;</td><td>&quot;5/31/2025&quot;</td><td>null</td><td>&quot;POS Withdrawal…</td><td>14.36</td><td>0.0</td><td>&quot;Posted&quot;</td><td>5</td><td>31</td><td>2025</td><td>&quot;2025-5-31&quot;</td><td>&quot;May&quot;</td><td>&quot;Sat&quot;</td><td>2</td><td>14.36</td><td>&quot;Debit&quot;</td></tr></tbody></table></div>"
      ],
      "text/plain": [
       "shape: (3, 16)\n",
       "┌────────────────┬───────────┬───────┬─────────────────┬───┬─────────┬─────────┬────────┬──────────┐\n",
       "│ Account Number ┆ Post Date ┆ Check ┆ description     ┆ … ┆ weekDay ┆ quarter ┆ cost   ┆ cardType │\n",
       "│ ---            ┆ ---       ┆ ---   ┆ ---             ┆   ┆ ---     ┆ ---     ┆ ---    ┆ ---      │\n",
       "│ str            ┆ str       ┆ i64   ┆ str             ┆   ┆ str     ┆ u32     ┆ f64    ┆ str      │\n",
       "╞════════════════╪═══════════╪═══════╪═════════════════╪═══╪═════════╪═════════╪════════╪══════════╡\n",
       "│ ***0530002     ┆ 5/31/2025 ┆ null  ┆ Card purchase   ┆ … ┆ Sat     ┆ 2       ┆ 24.77  ┆ Debit    │\n",
       "│                ┆           ┆       ┆ TST*BAREFOOT    ┆   ┆         ┆         ┆        ┆          │\n",
       "│                ┆           ┆       ┆ BISTR…          ┆   ┆         ┆         ┆        ┆          │\n",
       "│ ***0530002     ┆ 5/31/2025 ┆ null  ┆ Credit or debit ┆ … ┆ Sat     ┆ 2       ┆ 211.99 ┆ Debit    │\n",
       "│                ┆           ┆       ┆ card Withdrawal ┆   ┆         ┆         ┆        ┆          │\n",
       "│                ┆           ┆       ┆ …               ┆   ┆         ┆         ┆        ┆          │\n",
       "│ ***0530002     ┆ 5/31/2025 ┆ null  ┆ POS Withdrawal  ┆ … ┆ Sat     ┆ 2       ┆ 14.36  ┆ Debit    │\n",
       "│                ┆           ┆       ┆ WM SUPERCENTER  ┆   ┆         ┆         ┆        ┆          │\n",
       "│                ┆           ┆       ┆ #5…             ┆   ┆         ┆         ┆        ┆          │\n",
       "└────────────────┴───────────┴───────┴─────────────────┴───┴─────────┴─────────┴────────┴──────────┘"
      ]
     },
     "execution_count": 20,
     "metadata": {},
     "output_type": "execute_result"
    }
   ],
   "source": [
    "last_month = time.localtime().tm_mon - 1\n",
    "\n",
    "current_yr = time.localtime().tm_year\n",
    "\n",
    "# handling if last month was January\n",
    "if last_month == 0:\n",
    "    last_month = 12\n",
    "    current_yr = current_yr - 1\n",
    "\n",
    "\n",
    "df = pl.read_csv(r'C:\\Users\\Blake Dennett\\Downloads\\StreamlineRepo\\FinancialStreamline\\BankStreamline\\Data\\DebitHistory.csv')\n",
    "\n",
    "# Date work\n",
    "df = df.with_columns(pl.col(\"Post Date\")\n",
    "                        .str.split(\"/\")\n",
    "                        .alias(\"split_str\")\n",
    "                        .list.to_struct()) \\\n",
    "                        .unnest('split_str') \\\n",
    "                        .rename({'field_0':'month', 'field_1':'day', 'field_2':'year'}) \\\n",
    "                        .cast({'day':pl.Int32, 'month':pl.Int32, 'year':pl.Int32}) \\\n",
    "        .filter((pl.col('month') == last_month) & \n",
    "                (pl.col('year') == current_yr)) \\\n",
    "        .with_columns(date = pl.concat_str([pl.col('year').cast(pl.Utf8), pl.lit('-'), pl.col('month').cast(pl.Utf8), pl.lit('-'), pl.col('day').cast(pl.Utf8)], separator=\"\")) \\\n",
    "        .with_columns(monthName = pl.col(\"date\").str.strptime(pl.Date, \"%Y-%m-%d\").dt.strftime(\"%b\")) \\\n",
    "        .with_columns(weekDay = pl.col(\"date\").str.strptime(pl.Date, \"%Y-%m-%d\").dt.strftime(\"%a\")) \\\n",
    "        .with_columns(quarter = pl.col(\"date\").str.strptime(pl.Date, \"%Y-%m-%d\").dt.quarter())\n",
    "                        \n",
    "# cost column\n",
    "df = df.with_columns(pl.col('Debit').fill_null(value=0)) \\\n",
    "        .with_columns(pl.col('Credit').fill_null(value=0)) \\\n",
    "        .with_columns(cost =pl.col('Debit') + pl.col('Credit')) \\\n",
    "        \n",
    "# the gate/clean up\n",
    "df = df.filter(~pl.col('Description').str.contains('ELECTRONIC DEPOSIT MURPHY OIL USA PPAYROLL|Funds Transfer via Mobile')) \\\n",
    "        .filter(~pl.col('Description').str.contains('DEPOSIT|deposit|Deposit|WITHDRAWAL-CASH')) \\\n",
    "        .filter(~pl.col('Description').str.contains('Withdrawal LOAN PAYMENT TRANSFER')) \\\n",
    "        .rename({'Description': 'description'}) \\\n",
    "        .with_columns(cardType = pl.lit('Debit'))\n",
    "\n",
    "print(len(df))\n",
    "df.limit(3)"
   ]
  },
  {
   "cell_type": "markdown",
   "metadata": {},
   "source": [
    "### Categorize data"
   ]
  },
  {
   "cell_type": "code",
   "execution_count": 21,
   "metadata": {},
   "outputs": [
    {
     "data": {
      "text/html": [
       "<div><style>\n",
       ".dataframe > thead > tr > th,\n",
       ".dataframe > tbody > tr > td {\n",
       "  text-align: right;\n",
       "  white-space: pre-wrap;\n",
       "}\n",
       "</style>\n",
       "<small>shape: (10, 12)</small><table border=\"1\" class=\"dataframe\"><thead><tr><th>date</th><th>category</th><th>description</th><th>cost</th><th>controllable</th><th>monthName</th><th>month</th><th>day</th><th>year</th><th>weekDay</th><th>cardType</th><th>quarter</th></tr><tr><td>str</td><td>str</td><td>str</td><td>f64</td><td>i16</td><td>str</td><td>i32</td><td>i32</td><td>i32</td><td>str</td><td>str</td><td>u32</td></tr></thead><tbody><tr><td>&quot;2025-5-31&quot;</td><td>&quot;food&quot;</td><td>&quot;Card purchase …</td><td>24.77</td><td>1</td><td>&quot;May&quot;</td><td>5</td><td>31</td><td>2025</td><td>&quot;Sat&quot;</td><td>&quot;Debit&quot;</td><td>2</td></tr><tr><td>&quot;2025-5-31&quot;</td><td>&quot;amazon&quot;</td><td>&quot;Credit or debi…</td><td>211.99</td><td>1</td><td>&quot;May&quot;</td><td>5</td><td>31</td><td>2025</td><td>&quot;Sat&quot;</td><td>&quot;Debit&quot;</td><td>2</td></tr><tr><td>&quot;2025-5-31&quot;</td><td>&quot;wmt&quot;</td><td>&quot;POS Withdrawal…</td><td>14.36</td><td>1</td><td>&quot;May&quot;</td><td>5</td><td>31</td><td>2025</td><td>&quot;Sat&quot;</td><td>&quot;Debit&quot;</td><td>2</td></tr><tr><td>&quot;2025-5-30&quot;</td><td>&quot;amazon&quot;</td><td>&quot;Card purchase …</td><td>3.9</td><td>1</td><td>&quot;May&quot;</td><td>5</td><td>30</td><td>2025</td><td>&quot;Fri&quot;</td><td>&quot;Debit&quot;</td><td>2</td></tr><tr><td>&quot;2025-5-30&quot;</td><td>&quot;amazon&quot;</td><td>&quot;Card purchase …</td><td>7.8</td><td>1</td><td>&quot;May&quot;</td><td>5</td><td>30</td><td>2025</td><td>&quot;Fri&quot;</td><td>&quot;Debit&quot;</td><td>2</td></tr><tr><td>&quot;2025-5-29&quot;</td><td>&quot;amazon&quot;</td><td>&quot;Card purchase …</td><td>18.29</td><td>1</td><td>&quot;May&quot;</td><td>5</td><td>29</td><td>2025</td><td>&quot;Thu&quot;</td><td>&quot;Debit&quot;</td><td>2</td></tr><tr><td>&quot;2025-5-29&quot;</td><td>&quot;amazon&quot;</td><td>&quot;Card purchase …</td><td>23.5</td><td>1</td><td>&quot;May&quot;</td><td>5</td><td>29</td><td>2025</td><td>&quot;Thu&quot;</td><td>&quot;Debit&quot;</td><td>2</td></tr><tr><td>&quot;2025-5-29&quot;</td><td>&quot;water&quot;</td><td>&quot;SHARE CHECK&quot;</td><td>24.47</td><td>0</td><td>&quot;May&quot;</td><td>5</td><td>29</td><td>2025</td><td>&quot;Thu&quot;</td><td>&quot;Debit&quot;</td><td>2</td></tr><tr><td>&quot;2025-5-29&quot;</td><td>&quot;wmt&quot;</td><td>&quot;POS Withdrawal…</td><td>68.36</td><td>1</td><td>&quot;May&quot;</td><td>5</td><td>29</td><td>2025</td><td>&quot;Thu&quot;</td><td>&quot;Debit&quot;</td><td>2</td></tr><tr><td>&quot;2025-5-25&quot;</td><td>&quot;amazon&quot;</td><td>&quot;Credit or debi…</td><td>25.43</td><td>1</td><td>&quot;May&quot;</td><td>5</td><td>25</td><td>2025</td><td>&quot;Sun&quot;</td><td>&quot;Debit&quot;</td><td>2</td></tr></tbody></table></div>"
      ],
      "text/plain": [
       "shape: (10, 12)\n",
       "┌───────────┬──────────┬────────────────────────┬────────┬───┬──────┬─────────┬──────────┬─────────┐\n",
       "│ date      ┆ category ┆ description            ┆ cost   ┆ … ┆ year ┆ weekDay ┆ cardType ┆ quarter │\n",
       "│ ---       ┆ ---      ┆ ---                    ┆ ---    ┆   ┆ ---  ┆ ---     ┆ ---      ┆ ---     │\n",
       "│ str       ┆ str      ┆ str                    ┆ f64    ┆   ┆ i32  ┆ str     ┆ str      ┆ u32     │\n",
       "╞═══════════╪══════════╪════════════════════════╪════════╪═══╪══════╪═════════╪══════════╪═════════╡\n",
       "│ 2025-5-31 ┆ food     ┆ Card purchase          ┆ 24.77  ┆ … ┆ 2025 ┆ Sat     ┆ Debit    ┆ 2       │\n",
       "│           ┆          ┆ TST*BAREFOOT BISTR…    ┆        ┆   ┆      ┆         ┆          ┆         │\n",
       "│ 2025-5-31 ┆ amazon   ┆ Credit or debit card   ┆ 211.99 ┆ … ┆ 2025 ┆ Sat     ┆ Debit    ┆ 2       │\n",
       "│           ┆          ┆ Withdrawal …           ┆        ┆   ┆      ┆         ┆          ┆         │\n",
       "│ 2025-5-31 ┆ wmt      ┆ POS Withdrawal WM      ┆ 14.36  ┆ … ┆ 2025 ┆ Sat     ┆ Debit    ┆ 2       │\n",
       "│           ┆          ┆ SUPERCENTER #5…        ┆        ┆   ┆      ┆         ┆          ┆         │\n",
       "│ 2025-5-30 ┆ amazon   ┆ Card purchase AMAZON   ┆ 3.9    ┆ … ┆ 2025 ┆ Fri     ┆ Debit    ┆ 2       │\n",
       "│           ┆          ┆ MKTPL*N60JO…           ┆        ┆   ┆      ┆         ┆          ┆         │\n",
       "│ …         ┆ …        ┆ …                      ┆ …      ┆ … ┆ …    ┆ …       ┆ …        ┆ …       │\n",
       "│ 2025-5-29 ┆ amazon   ┆ Card purchase AMAZON   ┆ 23.5   ┆ … ┆ 2025 ┆ Thu     ┆ Debit    ┆ 2       │\n",
       "│           ┆          ┆ MKTPL*NN8HE…           ┆        ┆   ┆      ┆         ┆          ┆         │\n",
       "│ 2025-5-29 ┆ water    ┆ SHARE CHECK            ┆ 24.47  ┆ … ┆ 2025 ┆ Thu     ┆ Debit    ┆ 2       │\n",
       "│ 2025-5-29 ┆ wmt      ┆ POS Withdrawal         ┆ 68.36  ┆ … ┆ 2025 ┆ Thu     ┆ Debit    ┆ 2       │\n",
       "│           ┆          ┆ Walmart.com  Bent…     ┆        ┆   ┆      ┆         ┆          ┆         │\n",
       "│ 2025-5-25 ┆ amazon   ┆ Credit or debit card   ┆ 25.43  ┆ … ┆ 2025 ┆ Sun     ┆ Debit    ┆ 2       │\n",
       "│           ┆          ┆ Withdrawal …           ┆        ┆   ┆      ┆         ┆          ┆         │\n",
       "└───────────┴──────────┴────────────────────────┴────────┴───┴──────┴─────────┴──────────┴─────────┘"
      ]
     },
     "execution_count": 21,
     "metadata": {},
     "output_type": "execute_result"
    }
   ],
   "source": [
    "df = df.with_columns(category = \n",
    "                  # ======================= Food =======================\n",
    "    pl.when(pl.col('description').str.contains('McDon|CORPORATE|CHICK-FIL-A|SLIM CHICKENS')).then(pl.lit('food'))\n",
    "    .when(pl.col('description').str.contains('MADDIES PLACE|RAISING CANES|Subway|HICKORY')).then(pl.lit('food'))\n",
    "    .when(pl.col('description').str.contains('JAMBA|PIZZA|GOODCENTS|SONIC|TACO BELL|BUFFET')).then(pl.lit('food'))\n",
    "    .when(pl.col('description').str.contains('Waffle House|DAIRY QUEEN|COLDSTONE|MCGRAWS')).then(pl.lit('food'))\n",
    "    .when(pl.col('description').str.contains('LITTLE CAESARS|MCDON|WENDY|APPLEBEES|PERCY')).then(pl.lit('food'))\n",
    "    .when(pl.col('description').str.contains('EL SUR|BAREFOOT BISTRO|YAMATO|SMOOTHIE|CREAMERY')).then(pl.lit('food'))\n",
    "    .when(pl.col('description').str.contains('DOLLAR GENERAL|DOLLAR TREE|FLYING BURGER|WWW.HOMECHEF.IL')).then(pl.lit('food'))\n",
    "    .when(pl.col('description').str.contains('DOMINO.S|POPEYES|COCA COLA|LA VILLA MEXICAN|PJ\\'S COFFEE')).then(pl.lit('food'))\n",
    "    .when(pl.col('description').str.contains('CRCKR BRRL|OFF THE RAIL CAFE|HOUSE-WYLIE|SWOLE FOOD')).then(pl.lit('food'))\n",
    "    .when(pl.col('description').str.contains('DC FUDDRUCKERS|THE BLACK CAT CAFE|RHEA LANA|BYUI FOOD')).then(pl.lit('food'))\n",
    "    .when(pl.col('description').str.contains('WHATABURGER|CUPBOP|TASTY DONUTS|HELLA FRESH|JOHNNY B\\'S GRILL')).then(pl.lit('food'))\n",
    "    .when(pl.col('description').str.contains('WILDCAT SNACK')).then(pl.lit('food'))\n",
    "                  # ======================= subscriptions =======================\n",
    "    .when(pl.col('description').str.contains('Adobe|Spotify|Phtoshp Lightrm|Peacock')).then(pl.lit('subscriptions'))\n",
    "    .when(pl.col('description').str.contains('WMT PLUS|HEALTHWORKS|APPLE.COM/BILL')).then(pl.lit('subscriptions'))\n",
    "                  # ======================= wmt =======================\n",
    "    .when(pl.col('description').str.contains('WM SUPER|Wal-Mart|WAL-MART|BROOKSHIRES|BROULIM|ALBERTSONS')).then(pl.lit('wmt'))\n",
    "    .when(pl.col('description').str.contains('WALGR|EVERYBODYS ANTIQUE')).then(pl.lit('wmt'))\n",
    "    .when(pl.col('description').str.contains('Walmart|WALMART') &\n",
    "          ~(pl.col('description').str.contains('MURPHY'))).then(pl.lit('wmt'))\n",
    "                  # ======================= gas =======================\n",
    "    .when(pl.col('description').str.contains('MURPHY') & \n",
    "          ~pl.col('description').str.contains('DEPOSIT')).then(pl.lit('gas'))\n",
    "    .when(pl.col('description').str.contains('SHELL|CHEVRON|CIRCLE K|LOVE\\'S|EXXON EXPRESSWAY')).then(pl.lit('gas'))\n",
    "                  # ======================= internet =======================\n",
    "    .when(pl.col('description').str.contains('VIASAT')).then(pl.lit('internet'))\n",
    "                  # ======================= shopping =======================\n",
    "    .when(pl.col('description').str.contains('T J MAXX|OLD NAVY|SHEIN|REAL DEALS|SALLY BEAUTY')).then(pl.lit('shopping'))\n",
    "    .when(pl.col('description').str.contains('LDS DIST ONLINE STORE|DC ULTA|DC H&amp|SEPHORA.COM')).then(pl.lit('shopping'))\n",
    "    .when(pl.col('description').str.contains('American Eagle|SPORTSMANS WAREHOUSE')).then(pl.lit('shopping'))\n",
    "                  # ======================= amazon =======================\n",
    "    .when(pl.col('description').str.contains('AMZN|AMAZON|Amazon.com|temu.com|eBay')).then(pl.lit('amazon'))\n",
    "                  # ======================= fun =======================\n",
    "    .when(pl.col('description').str.contains('Amazon Prime|YouTube|ZOO|MUSEUM|AQUARIUM|LION.S CLUB GOLF')).then(pl.lit('fun'))\n",
    "    .when(pl.col('description').str.contains('COMFORT INN|CINEMA|HOLIDAY INN|El Dorado Golf|PlayStation')).then(pl.lit('fun'))\n",
    "    .when(pl.col('description').str.contains('EXCALIBUR FAMILY FUN|AIRBNB|EXPEDIA|EL DORADO GOLF')).then(pl.lit('fun'))\n",
    "                  # ======================= power =======================\n",
    "    .when(pl.col('description').str.contains('ENTERGY')).then(pl.lit('power'))\n",
    "                  # ======================= car =======================\n",
    "    .when(pl.col('description').str.contains('O.REILLY|MUFFLEX MUFFLER|AUTOZONE|DC TAKE 5|KARL MALONE FORD')).then(pl.lit('car'))\n",
    "                  # ======================= progressive =======================\n",
    "    .when(pl.col('description').str.contains('PROG DIRECT')).then(pl.lit('progressive'))\n",
    "                  # ======================= water =======================\n",
    "    .when(pl.col('description').str.contains('SHARE CHECK')).then(pl.lit('water'))\n",
    "                  # ======================= tithing =======================\n",
    "    .when(pl.col('description').str.contains('Ch JesusChrist  DONATION|Ch JesusChrist DONATION')).then(pl.lit('tithing'))\n",
    "                  # ======================= rent =======================\n",
    "    .when((pl.col('description').str.contains('VENMO')) & (pl.col('cost') == 775)).then(pl.lit('rent'))\n",
    "    .when((pl.col('description').str.contains('ACH Withdrawal ELECTRONIC WITHDRAWAL')) & (pl.col('cost') == 775)).then(pl.lit('rent'))\n",
    "    .otherwise(pl.lit('unknown'))\n",
    ")\n",
    "\n",
    "\n",
    "controllables = ['food', 'wmt', 'shopping', 'subscriptions', 'fun', 'unknown', 'amazon', 'food']\n",
    "uncontrollables = ['tithing', 'progressive', 'power', 'gas', 'water', 'internet', 'rent', 'car']\n",
    "\n",
    "df = df.with_columns(controllable = pl.when(pl.col('category').is_in(controllables)).then(pl.lit(1))\n",
    "                                    .when(pl.col('category').is_in(uncontrollables)).then(pl.lit(0))\n",
    "                                    .otherwise(pl.lit('error'))) \\\n",
    "                                    .cast({'controllable':pl.Int16})\n",
    "                                    \n",
    "\n",
    "df = df.select(['date', 'category', 'description', 'cost', 'controllable', 'monthName', 'month', 'day', 'year', 'weekDay', 'cardType', 'quarter'])\n",
    "\n",
    "df.limit(10)\n",
    "\n",
    "# list(df.filter(pl.col('Category') == 'wmt')['description'].unique())\n",
    "# list(df.filter(pl.col('Category') == 'gas')['description'].unique())\n",
    "# list(df.filter(pl.col('Category') == 'unknown')['description'].unique())"
   ]
  },
  {
   "cell_type": "markdown",
   "metadata": {},
   "source": [
    "### Look at last month's unknowns"
   ]
  },
  {
   "cell_type": "code",
   "execution_count": 22,
   "metadata": {},
   "outputs": [
    {
     "data": {
      "text/plain": [
       "[\"POS Withdrawal SQ *PITMAN'S CUSTOM LEATH  EL DORADO AR\",\n",
       " 'Card purchase 5230 EL DORADO    05-20-2025',\n",
       " 'Card purchase CORNER POST    05-05-2025',\n",
       " 'Check',\n",
       " 'ACH Withdrawal VENMO PAYMENT ADANYA AND BLAKE DENNE',\n",
       " 'Card purchase ROBINHOOD SECURITIES    05-16-2025',\n",
       " 'Bill payment Withdrawal O NEALGAS INC-IGNITE 800-259-5051 LA ,',\n",
       " 'Card purchase LOY*SAMA    05-09-2025']"
      ]
     },
     "execution_count": 22,
     "metadata": {},
     "output_type": "execute_result"
    }
   ],
   "source": [
    "list(df.filter(pl.col('category') == 'unknown')['description'].unique())"
   ]
  },
  {
   "cell_type": "markdown",
   "metadata": {},
   "source": [
    "#### Make sure correct month/year is being loaded"
   ]
  },
  {
   "cell_type": "code",
   "execution_count": 24,
   "metadata": {},
   "outputs": [
    {
     "name": "stdout",
     "output_type": "stream",
     "text": [
      "[5]\n",
      "['May']\n",
      "['Thu', 'Wed', 'Sat', 'Sun', 'Fri', 'Tue', 'Mon']\n",
      "[2025]\n",
      "[1, 2, 3, 4, 5, 6, 7, 8, 9, 10, 11, 12, 13, 14, 16, 18, 20, 21, 22, 23, 25, 29, 30, 31]\n"
     ]
    }
   ],
   "source": [
    "print(list(df['month'].unique()))\n",
    "print(list(df['monthName'].unique()))\n",
    "print(list(df['weekDay'].unique()))\n",
    "print(list(df['year'].unique()))\n",
    "print(list(df['day'].unique()))\n",
    "# print(df.select(pl.col(\"date\").min()))\n",
    "# print(df.select(pl.col(\"date\").max())) # needs fixed, looking at str, not date"
   ]
  },
  {
   "cell_type": "markdown",
   "metadata": {},
   "source": [
    "### Check number of rows (40ish per month)\n",
    "Apr: 38\n",
    "<br>May: 53"
   ]
  },
  {
   "cell_type": "code",
   "execution_count": 26,
   "metadata": {},
   "outputs": [
    {
     "data": {
      "text/plain": [
       "53"
      ]
     },
     "execution_count": 26,
     "metadata": {},
     "output_type": "execute_result"
    }
   ],
   "source": [
    "len(df)"
   ]
  },
  {
   "cell_type": "markdown",
   "metadata": {},
   "source": [
    "### Load the data (handle w/ caution)"
   ]
  },
  {
   "cell_type": "code",
   "execution_count": null,
   "metadata": {},
   "outputs": [],
   "source": [
    "# path = r'C:\\Users\\Blake Dennett\\Downloads\\StreamlineRepo\\FinancialStreamline\\BankStreamline\\Data\\BankDataProd.csv'\n",
    "\n",
    "\n",
    "# with open(path, mode=\"a\") as f:\n",
    "#    df.write_csv(f, has_header=False)"
   ]
  },
  {
   "cell_type": "code",
   "execution_count": null,
   "metadata": {},
   "outputs": [],
   "source": []
  }
 ],
 "metadata": {
  "kernelspec": {
   "display_name": "Python 3",
   "language": "python",
   "name": "python3"
  },
  "language_info": {
   "codemirror_mode": {
    "name": "ipython",
    "version": 3
   },
   "file_extension": ".py",
   "mimetype": "text/x-python",
   "name": "python",
   "nbconvert_exporter": "python",
   "pygments_lexer": "ipython3",
   "version": "3.10.8"
  }
 },
 "nbformat": 4,
 "nbformat_minor": 2
}
