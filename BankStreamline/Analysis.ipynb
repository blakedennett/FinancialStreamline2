{
 "cells": [
  {
   "cell_type": "markdown",
   "id": "38d8b5b0",
   "metadata": {},
   "source": [
    "# Up Next\n",
    "\n",
    "- make a day of week chart \n",
    "- Get better colors/labels/titles for visuals\n",
    "- How up-to-date are RRCU's txns? will I need to wait a few days into month?\n",
    "    - looking like at least two days for credit card txns\n",
    "- Make the categorization code into a class\n",
    "- Maybe automatic email\n",
    "\n",
    "Categories <br>\n",
    "shopping, tithing, subscriptions, progressive, fun, power, gas, water, unknown, wmt, internet, amazon, rent, food, car "
   ]
  },
  {
   "cell_type": "code",
   "execution_count": 1,
   "id": "cb262b90",
   "metadata": {},
   "outputs": [],
   "source": [
    "import polars as pl\n",
    "import plotly.express as px\n",
    "import pandas as pd\n",
    "import plotly.graph_objects as go\n",
    "import matplotlib.pyplot as plt\n",
    "from matplotlib.dates import DateFormatter, date2num\n",
    "import time\n",
    "import csv\n",
    "from datetime import datetime, timedelta\n",
    "from dateutil.relativedelta import relativedelta"
   ]
  },
  {
   "cell_type": "markdown",
   "id": "be58fd29",
   "metadata": {},
   "source": [
    "##### Check this once, then dump it"
   ]
  },
  {
   "cell_type": "code",
   "execution_count": 2,
   "id": "83ba312c",
   "metadata": {},
   "outputs": [
    {
     "name": "stdout",
     "output_type": "stream",
     "text": [
      "startdate:  2024-05-01\n",
      "endDate:  2025-04-30 19:07:10.017652\n"
     ]
    }
   ],
   "source": [
    "\n",
    "# End date\n",
    "days_backward = time.localtime().tm_mday\n",
    "now = datetime.now()\n",
    "EndOfLastMonth = now - timedelta(days=days_backward)\n",
    "# Start date\n",
    "LastYear = EndOfLastMonth - relativedelta(years=1)\n",
    "StartDate = LastYear + relativedelta(months=1)\n",
    "StartDate = StartDate.replace(day=1).date()\n",
    "\n",
    "print('startdate: ', StartDate)\n",
    "print('endDate: ', EndOfLastMonth)"
   ]
  },
  {
   "cell_type": "code",
   "execution_count": 199,
   "id": "f73bbc32",
   "metadata": {},
   "outputs": [
    {
     "data": {
      "text/html": [
       "<div><style>\n",
       ".dataframe > thead > tr > th,\n",
       ".dataframe > tbody > tr > td {\n",
       "  text-align: right;\n",
       "  white-space: pre-wrap;\n",
       "}\n",
       "</style>\n",
       "<small>shape: (3, 11)</small><table border=\"1\" class=\"dataframe\"><thead><tr><th>date</th><th>category</th><th>description</th><th>cost</th><th>controllable</th><th>monthName</th><th>month</th><th>day</th><th>year</th><th>weekDay</th><th>cardType</th></tr><tr><td>date</td><td>str</td><td>str</td><td>f64</td><td>i64</td><td>str</td><td>i64</td><td>i64</td><td>i64</td><td>str</td><td>str</td></tr></thead><tbody><tr><td>2025-03-31</td><td>&quot;food&quot;</td><td>&quot;DC THE BLACK C…</td><td>54.61</td><td>1</td><td>&quot;Mar&quot;</td><td>3</td><td>31</td><td>2025</td><td>&quot;Mon&quot;</td><td>&quot;Debit&quot;</td></tr><tr><td>2025-03-31</td><td>&quot;amazon&quot;</td><td>&quot;DC eBay O*08-1…</td><td>125.74</td><td>1</td><td>&quot;Mar&quot;</td><td>3</td><td>31</td><td>2025</td><td>&quot;Mon&quot;</td><td>&quot;Debit&quot;</td></tr><tr><td>2025-03-28</td><td>&quot;wmt&quot;</td><td>&quot;POS 0328 0135 …</td><td>58.47</td><td>1</td><td>&quot;Mar&quot;</td><td>3</td><td>28</td><td>2025</td><td>&quot;Fri&quot;</td><td>&quot;Debit&quot;</td></tr></tbody></table></div>"
      ],
      "text/plain": [
       "shape: (3, 11)\n",
       "┌────────────┬──────────┬───────────────────────────┬────────┬───┬─────┬──────┬─────────┬──────────┐\n",
       "│ date       ┆ category ┆ description               ┆ cost   ┆ … ┆ day ┆ year ┆ weekDay ┆ cardType │\n",
       "│ ---        ┆ ---      ┆ ---                       ┆ ---    ┆   ┆ --- ┆ ---  ┆ ---     ┆ ---      │\n",
       "│ date       ┆ str      ┆ str                       ┆ f64    ┆   ┆ i64 ┆ i64  ┆ str     ┆ str      │\n",
       "╞════════════╪══════════╪═══════════════════════════╪════════╪═══╪═════╪══════╪═════════╪══════════╡\n",
       "│ 2025-03-31 ┆ food     ┆ DC THE BLACK CAT CAFE EL  ┆ 54.61  ┆ … ┆ 31  ┆ 2025 ┆ Mon     ┆ Debit    │\n",
       "│            ┆          ┆ DORADO …                  ┆        ┆   ┆     ┆      ┆         ┆          │\n",
       "│ 2025-03-31 ┆ amazon   ┆ DC eBay O*08-12892-27822  ┆ 125.74 ┆ … ┆ 31  ┆ 2025 ┆ Mon     ┆ Debit    │\n",
       "│            ┆          ┆ San Jos…                  ┆        ┆   ┆     ┆      ┆         ┆          │\n",
       "│ 2025-03-28 ┆ wmt      ┆ POS 0328 0135 698593      ┆ 58.47  ┆ … ┆ 28  ┆ 2025 ┆ Fri     ┆ Debit    │\n",
       "│            ┆          ┆ Walmart.com…              ┆        ┆   ┆     ┆      ┆         ┆          │\n",
       "└────────────┴──────────┴───────────────────────────┴────────┴───┴─────┴──────┴─────────┴──────────┘"
      ]
     },
     "execution_count": 199,
     "metadata": {},
     "output_type": "execute_result"
    }
   ],
   "source": [
    "df = pl.read_csv(r'C:\\Users\\Blake Dennett\\Downloads\\BankStreamline\\Data\\BankDataProd.csv')\n",
    "\n",
    "df = df.with_columns(\n",
    "    pl.col(\"date\").str.strptime(pl.Date, \"%Y-%m-%d\", strict=False)\n",
    ")\n",
    "\n",
    "\n",
    "# End date\n",
    "days_backward = time.localtime().tm_mday\n",
    "now = datetime.now()\n",
    "EndOfLastMonth = now - timedelta(days=days_backward)\n",
    "# Start date\n",
    "LastYear = EndOfLastMonth - relativedelta(years=1)\n",
    "StartDate = LastYear + relativedelta(months=1)\n",
    "StartDate = StartDate.replace(day=1).date()\n",
    "\n",
    "\n",
    "df = df.filter(pl.col(\"date\") >= pl.date(StartDate.year, StartDate.month, StartDate.day)) \\\n",
    "        .filter(pl.col(\"date\") <= pl.date(EndOfLastMonth.year, EndOfLastMonth.month, EndOfLastMonth.day))\n",
    "\n",
    "df.limit(3)"
   ]
  },
  {
   "cell_type": "markdown",
   "id": "ea1a9315",
   "metadata": {},
   "source": [
    "#### Check dates"
   ]
  },
  {
   "cell_type": "code",
   "execution_count": 201,
   "id": "1079a699",
   "metadata": {},
   "outputs": [
    {
     "name": "stdout",
     "output_type": "stream",
     "text": [
      "[1, 2, 3, 4, 5, 6, 7, 8, 9, 10, 11, 12]\n",
      "['Nov', 'Oct', 'Mar', 'Aug', 'Dec', 'Jul', 'Jan', 'May', 'Jun', 'Sep', 'Apr', 'Feb']\n",
      "['Wed', 'Fri', 'Sun', 'Sat', 'Thu', 'Tue', 'Mon']\n",
      "[2024, 2025]\n",
      "shape: (1, 1)\n",
      "┌────────────┐\n",
      "│ date       │\n",
      "│ ---        │\n",
      "│ date       │\n",
      "╞════════════╡\n",
      "│ 2024-04-01 │\n",
      "└────────────┘\n",
      "shape: (1, 1)\n",
      "┌────────────┐\n",
      "│ date       │\n",
      "│ ---        │\n",
      "│ date       │\n",
      "╞════════════╡\n",
      "│ 2025-03-31 │\n",
      "└────────────┘\n"
     ]
    }
   ],
   "source": [
    "print(list(df['month'].unique()))\n",
    "print(list(df['monthName'].unique()))\n",
    "print(list(df['weekDay'].unique()))\n",
    "print(list(df['year'].unique()))\n",
    "print(str(df.select(pl.col(\"date\").min())))\n",
    "print(df.select(pl.col(\"date\").max()))"
   ]
  },
  {
   "cell_type": "markdown",
   "id": "ee54f027",
   "metadata": {},
   "source": [
    "# Month Last Pie Chart"
   ]
  },
  {
   "cell_type": "code",
   "execution_count": 202,
   "id": "38d62483",
   "metadata": {},
   "outputs": [
    {
     "data": {
      "application/vnd.plotly.v1+json": {
       "config": {
        "plotlyServerURL": "https://plot.ly"
       },
       "data": [
        {
         "domain": {
          "x": [
           0,
           1
          ],
          "y": [
           0,
           1
          ]
         },
         "hovertemplate": "category=%{label}<br>cost=%{value}<extra></extra>",
         "labels": [
          "food",
          "amazon",
          "wmt",
          "wmt",
          "subscriptions",
          "water",
          "food",
          "internet",
          "wmt",
          "amazon",
          "wmt",
          "wmt",
          "amazon",
          "power",
          "amazon",
          "food",
          "amazon",
          "food",
          "amazon",
          "wmt",
          "food",
          "subscriptions",
          "unknown",
          "wmt",
          "tithing",
          "progressive",
          "wmt",
          "gas",
          "rent",
          "unknown",
          "unknown",
          "gas",
          "shopping",
          "fun",
          "subscriptions",
          "internet",
          "amazon",
          "wmt",
          "food",
          "amazon",
          "water",
          "power",
          "food",
          "gas",
          "food",
          "food",
          "subscriptions",
          "unknown",
          "unknown",
          "wmt",
          "wmt",
          "progressive",
          "food",
          "wmt",
          "car",
          "gas",
          "wmt",
          "unknown",
          "food",
          "amazon",
          "food",
          "wmt",
          "tithing",
          "food",
          "rent",
          "gas",
          "wmt",
          "gas",
          "wmt",
          "food",
          "gas",
          "food",
          "subscriptions",
          "internet",
          "water",
          "fun",
          "power",
          "gas",
          "gas",
          "food",
          "subscriptions",
          "food",
          "progressive",
          "gas",
          "shopping",
          "amazon",
          "tithing",
          "fun",
          "rent",
          "food",
          "unknown",
          "shopping",
          "shopping",
          "subscriptions",
          "internet",
          "unknown",
          "unknown",
          "fun",
          "unknown",
          "food",
          "shopping",
          "food",
          "food",
          "car",
          "unknown",
          "wmt",
          "wmt",
          "wmt",
          "wmt",
          "car",
          "car",
          "power",
          "car",
          "wmt",
          "unknown",
          "amazon",
          "wmt",
          "subscriptions",
          "wmt",
          "food",
          "progressive",
          "unknown",
          "unknown",
          "food",
          "gas",
          "rent",
          "wmt",
          "tithing",
          "amazon",
          "wmt",
          "unknown",
          "unknown",
          "amazon",
          "food",
          "subscriptions",
          "gas",
          "wmt",
          "wmt",
          "fun",
          "water",
          "wmt",
          "food",
          "unknown",
          "food",
          "amazon",
          "gas",
          "subscriptions",
          "internet",
          "wmt",
          "subscriptions",
          "car",
          "fun",
          "amazon",
          "wmt",
          "wmt",
          "wmt",
          "wmt",
          "power",
          "wmt",
          "gas",
          "car",
          "wmt",
          "unknown",
          "unknown",
          "amazon",
          "amazon",
          "amazon",
          "gas",
          "unknown",
          "unknown",
          "subscriptions",
          "food",
          "unknown",
          "progressive",
          "fun",
          "fun",
          "food",
          "gas",
          "food",
          "gas",
          "food",
          "wmt",
          "car",
          "fun",
          "rent",
          "wmt",
          "food",
          "amazon",
          "wmt",
          "wmt",
          "amazon",
          "amazon",
          "amazon",
          "wmt",
          "wmt",
          "subscriptions",
          "food",
          "unknown",
          "gas",
          "wmt",
          "shopping",
          "wmt",
          "wmt",
          "water",
          "shopping",
          "unknown",
          "food",
          "gas",
          "food",
          "gas",
          "food",
          "wmt",
          "wmt",
          "gas",
          "unknown",
          "subscriptions",
          "amazon",
          "wmt",
          "unknown",
          "wmt",
          "gas",
          "internet",
          "unknown",
          "wmt",
          "wmt",
          "fun",
          "unknown",
          "power",
          "food",
          "wmt",
          "wmt",
          "unknown",
          "gas",
          "amazon",
          "wmt",
          "food",
          "tithing",
          "unknown",
          "food",
          "food",
          "gas",
          "amazon",
          "subscriptions",
          "gas",
          "wmt",
          "fun",
          "progressive",
          "food",
          "food",
          "food",
          "gas",
          "wmt",
          "unknown",
          "unknown",
          "food",
          "subscriptions",
          "wmt",
          "rent",
          "food",
          "gas",
          "food",
          "food",
          "car",
          "food",
          "gas",
          "gas",
          "food",
          "wmt",
          "food",
          "car",
          "food",
          "wmt",
          "food",
          "food",
          "food",
          "gas",
          "car",
          "unknown",
          "food",
          "gas",
          "unknown",
          "wmt",
          "fun",
          "unknown",
          "gas",
          "gas",
          "wmt",
          "wmt",
          "amazon",
          "wmt",
          "car",
          "food",
          "wmt",
          "wmt",
          "food",
          "subscriptions",
          "wmt",
          "internet",
          "fun",
          "gas",
          "fun",
          "food",
          "food",
          "wmt",
          "wmt",
          "wmt",
          "power",
          "gas",
          "wmt",
          "food",
          "water",
          "wmt",
          "gas",
          "food",
          "food",
          "wmt",
          "wmt",
          "wmt",
          "subscriptions",
          "unknown",
          "unknown",
          "wmt",
          "progressive",
          "wmt",
          "food",
          "shopping",
          "food",
          "food",
          "gas",
          "wmt",
          "food",
          "gas",
          "wmt",
          "wmt",
          "rent",
          "tithing",
          "fun",
          "wmt",
          "unknown",
          "unknown",
          "food",
          "fun",
          "food",
          "food",
          "wmt",
          "unknown",
          "wmt",
          "gas",
          "gas",
          "food",
          "food",
          "food",
          "wmt",
          "fun",
          "food",
          "food",
          "food",
          "food",
          "water",
          "wmt",
          "subscriptions",
          "gas",
          "wmt",
          "internet",
          "wmt",
          "wmt",
          "food",
          "food",
          "shopping",
          "fun",
          "wmt",
          "gas",
          "wmt",
          "tithing",
          "power",
          "food",
          "unknown",
          "fun",
          "wmt",
          "food",
          "food",
          "food",
          "food",
          "shopping",
          "subscriptions",
          "unknown",
          "wmt",
          "gas",
          "shopping",
          "unknown",
          "wmt",
          "food",
          "subscriptions",
          "food",
          "wmt",
          "progressive",
          "food",
          "food",
          "gas",
          "food",
          "amazon",
          "wmt",
          "food",
          "shopping",
          "food",
          "gas",
          "wmt",
          "wmt",
          "rent",
          "amazon",
          "subscriptions",
          "fun",
          "food",
          "unknown",
          "wmt",
          "food",
          "fun",
          "gas",
          "wmt",
          "food",
          "food",
          "unknown",
          "unknown",
          "amazon",
          "food",
          "amazon",
          "wmt",
          "food",
          "wmt",
          "food",
          "food",
          "food",
          "wmt",
          "amazon",
          "food",
          "wmt",
          "gas",
          "shopping",
          "unknown",
          "wmt",
          "food",
          "water",
          "wmt",
          "unknown",
          "subscriptions",
          "wmt",
          "internet",
          "gas",
          "wmt",
          "food",
          "fun",
          "wmt",
          "shopping",
          "amazon",
          "gas",
          "power",
          "food",
          "wmt",
          "wmt",
          "car",
          "food",
          "wmt",
          "food",
          "food",
          "food",
          "shopping",
          "amazon",
          "food",
          "food",
          "unknown",
          "wmt",
          "subscriptions",
          "food",
          "unknown",
          "food",
          "unknown",
          "wmt",
          "gas",
          "amazon",
          "unknown",
          "food",
          "unknown",
          "unknown",
          "wmt",
          "progressive",
          "unknown",
          "food",
          "unknown",
          "food",
          "unknown",
          "wmt",
          "food",
          "rent",
          "gas",
          "wmt",
          "food",
          "unknown",
          "food",
          "unknown",
          "shopping",
          "shopping",
          "food",
          "wmt",
          "water",
          "food",
          "unknown",
          "unknown",
          "wmt",
          "gas",
          "wmt",
          "food",
          "food",
          "food",
          "shopping",
          "amazon",
          "amazon",
          "unknown",
          "subscriptions",
          "unknown",
          "gas",
          "food",
          "internet",
          "unknown",
          "wmt",
          "unknown",
          "food",
          "unknown",
          "food",
          "car",
          "wmt",
          "gas",
          "unknown",
          "fun",
          "fun",
          "amazon",
          "wmt",
          "food",
          "gas",
          "power",
          "unknown",
          "food",
          "unknown",
          "food",
          "unknown",
          "gas",
          "unknown",
          "food",
          "food",
          "unknown",
          "unknown",
          "wmt",
          "food",
          "food",
          "fun",
          "fun",
          "food",
          "wmt",
          "subscriptions",
          "subscriptions",
          "gas",
          "wmt",
          "subscriptions",
          "amazon",
          "progressive",
          "wmt",
          "wmt",
          "gas",
          "food",
          "food",
          "food",
          "food",
          "food",
          "food",
          "wmt",
          "food",
          "subscriptions",
          "gas",
          "gas",
          "wmt",
          "tithing",
          "unknown",
          "unknown",
          "unknown",
          "unknown",
          "rent",
          "wmt",
          "fun",
          "food",
          "unknown",
          "gas",
          "gas",
          "gas",
          "food",
          "food",
          "food",
          "food",
          "fun",
          "subscriptions",
          "subscriptions",
          "food",
          "wmt",
          "amazon",
          "wmt",
          "gas",
          "gas",
          "food",
          "food",
          "internet",
          "fun",
          "wmt",
          "fun",
          "food",
          "power",
          "food",
          "amazon",
          "food",
          "wmt",
          "unknown",
          "gas",
          "gas",
          "food",
          "fun",
          "wmt",
          "wmt",
          "food",
          "unknown",
          "tithing",
          "subscriptions",
          "amazon",
          "fun",
          "food",
          "amazon",
          "amazon",
          "amazon",
          "food",
          "wmt",
          "wmt",
          "progressive",
          "gas",
          "gas",
          "food",
          "food",
          "wmt",
          "food",
          "unknown",
          "wmt",
          "wmt",
          "gas",
          "gas",
          "rent",
          "wmt",
          "amazon",
          "food",
          "unknown",
          "amazon",
          "food",
          "food",
          "wmt",
          "unknown",
          "subscriptions",
          "gas",
          "subscriptions",
          "amazon",
          "food",
          "internet",
          "food",
          "food",
          "food",
          "food",
          "food",
          "fun",
          "power",
          "wmt",
          "gas",
          "rent",
          "unknown",
          "food",
          "food",
          "wmt",
          "gas",
          "food",
          "gas",
          "shopping",
          "food",
          "gas",
          "food",
          "gas",
          "food",
          "wmt",
          "gas",
          "wmt",
          "wmt",
          "food",
          "food",
          "food",
          "food",
          "wmt",
          "food",
          "wmt",
          "food",
          "wmt",
          "food",
          "food",
          "food",
          "wmt",
          "wmt",
          "gas",
          "gas",
          "wmt",
          "wmt",
          "wmt",
          "wmt",
          "food",
          "food",
          "gas",
          "unknown",
          "food",
          "wmt",
          "wmt",
          "food",
          "wmt",
          "food",
          "food",
          "gas",
          "wmt",
          "wmt",
          "food",
          "fun",
          "fun",
          "gas",
          "gas",
          "gas",
          "wmt",
          "gas",
          "gas",
          "unknown",
          "food",
          "wmt",
          "wmt",
          "subscriptions",
          "food",
          "food",
          "wmt",
          "shopping",
          "wmt",
          "wmt",
          "unknown",
          "wmt",
          "wmt",
          "wmt",
          "subscriptions",
          "wmt",
          "gas",
          "wmt",
          "wmt",
          "wmt",
          "wmt",
          "shopping",
          "gas",
          "gas",
          "gas",
          "gas",
          "wmt",
          "unknown",
          "food",
          "food",
          "food",
          "shopping",
          "food",
          "gas",
          "gas",
          "wmt",
          "wmt",
          "gas",
          "wmt",
          "food",
          "food",
          "gas",
          "food",
          "food"
         ],
         "legendgroup": "",
         "name": "",
         "showlegend": true,
         "type": "pie",
         "values": [
          54.61,
          125.74,
          58.47,
          6.42,
          11.99,
          25.62,
          1.75,
          137.66,
          64.23,
          6.5,
          10.45,
          5.42,
          8.13,
          152,
          35.28,
          17.32,
          10.84,
          1.75,
          7.58,
          250.23,
          9.87,
          9.99,
          40.64,
          65.75,
          512.07,
          173.99,
          69.89,
          42.37,
          775,
          1,
          1,
          26.01,
          8.77,
          11,
          11.99,
          147.65,
          73.18,
          32.44,
          13.25,
          8.13,
          18.67,
          129,
          40.49,
          34.73,
          5.41,
          1.75,
          9.99,
          122.5,
          128,
          57.73,
          109.75,
          173.35,
          1.75,
          68.83,
          137.18,
          45.6,
          13.04,
          1367.54,
          1.75,
          73.18,
          1.42,
          38.41,
          757.08,
          1.75,
          775,
          12.49,
          82.31,
          25.52,
          27.42,
          1.75,
          7.41,
          19.63,
          11.99,
          147.65,
          56.23,
          8.13,
          111,
          25.87,
          26.28,
          7.45,
          9.99,
          7.45,
          187.21,
          24.82,
          20.25,
          6.31,
          830.89,
          5.99,
          775,
          11,
          5,
          10.73,
          27.42,
          11.99,
          157.56,
          15,
          18.61,
          8.13,
          25.6,
          18.94,
          18.01,
          1.07,
          8.06,
          91.13,
          15,
          28.32,
          15.89,
          3.9,
          13.11,
          14.83,
          21.19,
          111,
          105.96,
          6.97,
          9.54,
          10.83,
          15.62,
          9.99,
          93.83,
          7.45,
          187.24,
          35,
          5.99,
          3.15,
          22.79,
          775,
          21.65,
          773.86,
          45.48,
          48.93,
          5,
          8.28,
          37.96,
          6.57,
          21.69,
          27.32,
          40.82,
          3.36,
          5.99,
          22.15,
          51.37,
          3.4,
          2.35,
          3.95,
          22.76,
          27.39,
          25,
          147.57,
          35.72,
          11.99,
          193.88,
          8.13,
          58.16,
          66.17,
          6.76,
          3.58,
          8.48,
          118,
          40.69,
          17.45,
          10.96,
          6.98,
          44.98,
          200,
          7.58,
          16.05,
          16.26,
          23.3,
          4.39,
          26.04,
          9.99,
          12.69,
          25,
          164.5,
          12,
          32,
          15.02,
          27.91,
          4.38,
          28.16,
          3.28,
          21.55,
          179.88,
          26.46,
          775,
          9.64,
          13.16,
          9.53,
          10.91,
          71.08,
          15.16,
          64.51,
          16.09,
          16.95,
          36.79,
          49,
          3.5,
          5,
          25.98,
          25.63,
          62.24,
          50.83,
          82.16,
          23.31,
          19.85,
          300,
          11.26,
          25.14,
          38.82,
          8.17,
          3.73,
          1.81,
          47.33,
          25.74,
          29.46,
          5.99,
          10.71,
          13.72,
          40,
          12.84,
          26.35,
          137.58,
          9,
          92.76,
          129.12,
          8.13,
          15,
          123,
          4.75,
          108.77,
          5.16,
          5,
          24.56,
          57.16,
          18.44,
          14.2,
          755,
          1.3,
          18.09,
          12.98,
          23.43,
          19.52,
          9.99,
          22.33,
          55.55,
          24,
          164.5,
          7.12,
          2.85,
          5.05,
          16.27,
          77.44,
          288.97,
          288.97,
          30,
          10,
          55.75,
          775,
          16.29,
          24.96,
          2.01,
          11.86,
          274.49,
          4.38,
          26.76,
          23.43,
          4.38,
          33.89,
          15.25,
          0.44,
          8.76,
          90.38,
          24.62,
          4.38,
          3.28,
          11.66,
          6.79,
          5,
          7.19,
          17.2,
          11.35,
          23.3,
          5.99,
          13.26,
          31.02,
          25.8,
          5.04,
          21.69,
          52.05,
          68.86,
          17.55,
          4.38,
          41.41,
          31.05,
          2.18,
          5.99,
          140.54,
          137.58,
          239.92,
          28.33,
          8.13,
          3.28,
          5.47,
          5.16,
          68.88,
          23.37,
          122,
          30.57,
          12.4,
          3.28,
          23.31,
          25.04,
          22.95,
          5.49,
          3.29,
          18.76,
          101.44,
          5.47,
          9.99,
          140.39,
          25.9,
          51.32,
          164.5,
          38.65,
          2.84,
          10.96,
          3.28,
          3.28,
          29.1,
          60.81,
          3.28,
          28.66,
          22.48,
          6.34,
          775,
          264.62,
          40.76,
          56.1,
          0.62,
          27.93,
          30.61,
          102.39,
          8.79,
          17.44,
          69.95,
          5,
          17.29,
          6.24,
          29.36,
          1.36,
          3.28,
          1.75,
          105.98,
          125.08,
          5.25,
          9.49,
          4.38,
          2.18,
          18.28,
          21.1,
          5.99,
          29.5,
          42,
          137.58,
          8.25,
          17.63,
          3.28,
          11.85,
          5.48,
          8.13,
          11.84,
          32.47,
          12.05,
          2012.12,
          118,
          25.29,
          6,
          24,
          77.3,
          6.13,
          2.78,
          5.25,
          41,
          36.16,
          9.05,
          23.08,
          51.12,
          30.63,
          25.25,
          301.63,
          13.77,
          2.84,
          9.99,
          16.34,
          82.94,
          164.54,
          4.37,
          1.37,
          27.07,
          29.03,
          13.88,
          66.21,
          4.75,
          8.77,
          2.18,
          31.7,
          13.09,
          31.58,
          775,
          29.4,
          9.05,
          5.99,
          31.55,
          17.14,
          89.2,
          8.92,
          12,
          28.66,
          27.59,
          2.84,
          4.38,
          5,
          100,
          93.12,
          4.38,
          18.43,
          20.68,
          15.77,
          78.62,
          4.38,
          6.55,
          5.55,
          24.6,
          18.43,
          7.45,
          8.49,
          31.77,
          16.45,
          10.84,
          10.83,
          3.29,
          26.01,
          7.95,
          35.05,
          5.99,
          76.23,
          137.58,
          31.79,
          64.45,
          35,
          8.13,
          38.72,
          101.38,
          9.71,
          28.26,
          116,
          4.38,
          46.01,
          0.58,
          98.75,
          7.23,
          22.94,
          3.16,
          2.84,
          4.38,
          18.72,
          10.84,
          3.28,
          4.38,
          8.47,
          85.49,
          9.99,
          8.23,
          15.12,
          23.92,
          3,
          96.2,
          26.09,
          27.77,
          16.51,
          4.38,
          1153,
          35,
          10.57,
          112.88,
          13.8,
          3.94,
          5.29,
          4.38,
          5,
          13.94,
          4.38,
          775,
          28.08,
          62.19,
          10.53,
          3.95,
          2.25,
          1.85,
          4.24,
          40.09,
          4.38,
          18.83,
          22.92,
          4.38,
          11,
          5,
          3.07,
          6.18,
          35.94,
          7.99,
          3.5,
          3.5,
          26.49,
          20.13,
          8.43,
          5.3,
          5.99,
          27.38,
          21.74,
          13.04,
          137.58,
          15,
          21.18,
          30,
          7.41,
          131.8,
          10.63,
          26.33,
          10.75,
          25.27,
          3.66,
          9.99,
          8.13,
          10.59,
          57.8,
          15.04,
          25.55,
          114,
          20,
          4.38,
          5.42,
          12,
          1.74,
          18.73,
          2.5,
          23.04,
          1.03,
          35,
          35,
          44.41,
          2.18,
          23.31,
          3.99,
          3.99,
          4.38,
          25.53,
          3.99,
          10.96,
          24.07,
          1.82,
          9.99,
          48.57,
          112.96,
          10,
          5.55,
          30.52,
          4.38,
          4.38,
          2.18,
          16.88,
          14.26,
          10.49,
          36.8,
          4.38,
          6.97,
          31.1,
          1.95,
          17.02,
          375.1,
          543.32,
          38.99,
          23.99,
          450.08,
          775,
          28.32,
          5.99,
          14.69,
          5,
          17.43,
          1.95,
          28.61,
          1.75,
          10.5,
          4.38,
          4.38,
          3.99,
          6.97,
          5.99,
          4.38,
          21.32,
          10.84,
          19.62,
          31.7,
          24.05,
          4.38,
          1.75,
          146.88,
          3.99,
          30.61,
          8.13,
          1.89,
          116,
          25.39,
          27.66,
          4.07,
          77.26,
          543.32,
          34.19,
          18.91,
          4.38,
          42.11,
          67.65,
          33.89,
          4.38,
          24.4,
          198.55,
          9.99,
          15.18,
          3.99,
          15.48,
          251.71,
          16.24,
          6.49,
          8.55,
          53.97,
          10.28,
          134.38,
          30.46,
          32.63,
          7.45,
          6.57,
          52.48,
          5.48,
          4.39,
          3.45,
          11.16,
          34.06,
          22.12,
          775,
          28.73,
          43.39,
          4.38,
          5,
          43.37,
          7.45,
          4.38,
          52.89,
          468,
          9.05,
          34.05,
          5.99,
          14.75,
          2.18,
          101.89,
          31.55,
          4.88,
          7.15,
          21.93,
          28.19,
          8.13,
          118,
          37.85,
          24.06,
          775,
          5,
          5.94,
          4.59,
          30.46,
          22.63,
          1.75,
          19.31,
          16.82,
          1.75,
          16.03,
          7.9,
          19.95,
          13.17,
          44.31,
          41.93,
          14.7,
          4.35,
          4.38,
          1.75,
          4.66,
          7.34,
          51.81,
          26.1,
          1.58,
          1.75,
          5.42,
          6.4,
          2.18,
          14.84,
          44.31,
          67.81,
          3.11,
          2.45,
          3.77,
          5.09,
          6.34,
          91.1,
          2.18,
          1.9,
          28.92,
          65,
          10.98,
          82.38,
          43.88,
          1.75,
          11.55,
          6.5,
          12.95,
          17.43,
          9.03,
          17.61,
          14.81,
          10,
          5,
          15.32,
          15.41,
          8.77,
          27.73,
          0.07,
          26.92,
          38.61,
          1.75,
          46.45,
          59.63,
          8.14,
          34.46,
          12.07,
          44.76,
          10.31,
          17.99,
          40.45,
          14.1,
          3.71,
          38.54,
          13.92,
          9.05,
          1.47,
          20.59,
          8.59,
          21.42,
          13.17,
          7.99,
          25.68,
          49.31,
          15.81,
          28.63,
          3.8,
          37.12,
          9.23,
          11.61,
          15.52,
          2.64,
          18.01,
          10.1,
          21.01,
          27.96,
          22.69,
          9.15,
          21.13,
          75.87,
          2.18,
          7.6,
          19.62,
          6.78,
          11.83
         ]
        }
       ],
       "layout": {
        "height": 400,
        "legend": {
         "tracegroupgap": 0
        },
        "margin": {
         "t": 60
        },
        "template": {
         "data": {
          "bar": [
           {
            "error_x": {
             "color": "#f2f5fa"
            },
            "error_y": {
             "color": "#f2f5fa"
            },
            "marker": {
             "line": {
              "color": "rgb(17,17,17)",
              "width": 0.5
             },
             "pattern": {
              "fillmode": "overlay",
              "size": 10,
              "solidity": 0.2
             }
            },
            "type": "bar"
           }
          ],
          "barpolar": [
           {
            "marker": {
             "line": {
              "color": "rgb(17,17,17)",
              "width": 0.5
             },
             "pattern": {
              "fillmode": "overlay",
              "size": 10,
              "solidity": 0.2
             }
            },
            "type": "barpolar"
           }
          ],
          "carpet": [
           {
            "aaxis": {
             "endlinecolor": "#A2B1C6",
             "gridcolor": "#506784",
             "linecolor": "#506784",
             "minorgridcolor": "#506784",
             "startlinecolor": "#A2B1C6"
            },
            "baxis": {
             "endlinecolor": "#A2B1C6",
             "gridcolor": "#506784",
             "linecolor": "#506784",
             "minorgridcolor": "#506784",
             "startlinecolor": "#A2B1C6"
            },
            "type": "carpet"
           }
          ],
          "choropleth": [
           {
            "colorbar": {
             "outlinewidth": 0,
             "ticks": ""
            },
            "type": "choropleth"
           }
          ],
          "contour": [
           {
            "colorbar": {
             "outlinewidth": 0,
             "ticks": ""
            },
            "colorscale": [
             [
              0,
              "#0d0887"
             ],
             [
              0.1111111111111111,
              "#46039f"
             ],
             [
              0.2222222222222222,
              "#7201a8"
             ],
             [
              0.3333333333333333,
              "#9c179e"
             ],
             [
              0.4444444444444444,
              "#bd3786"
             ],
             [
              0.5555555555555556,
              "#d8576b"
             ],
             [
              0.6666666666666666,
              "#ed7953"
             ],
             [
              0.7777777777777778,
              "#fb9f3a"
             ],
             [
              0.8888888888888888,
              "#fdca26"
             ],
             [
              1,
              "#f0f921"
             ]
            ],
            "type": "contour"
           }
          ],
          "contourcarpet": [
           {
            "colorbar": {
             "outlinewidth": 0,
             "ticks": ""
            },
            "type": "contourcarpet"
           }
          ],
          "heatmap": [
           {
            "colorbar": {
             "outlinewidth": 0,
             "ticks": ""
            },
            "colorscale": [
             [
              0,
              "#0d0887"
             ],
             [
              0.1111111111111111,
              "#46039f"
             ],
             [
              0.2222222222222222,
              "#7201a8"
             ],
             [
              0.3333333333333333,
              "#9c179e"
             ],
             [
              0.4444444444444444,
              "#bd3786"
             ],
             [
              0.5555555555555556,
              "#d8576b"
             ],
             [
              0.6666666666666666,
              "#ed7953"
             ],
             [
              0.7777777777777778,
              "#fb9f3a"
             ],
             [
              0.8888888888888888,
              "#fdca26"
             ],
             [
              1,
              "#f0f921"
             ]
            ],
            "type": "heatmap"
           }
          ],
          "heatmapgl": [
           {
            "colorbar": {
             "outlinewidth": 0,
             "ticks": ""
            },
            "colorscale": [
             [
              0,
              "#0d0887"
             ],
             [
              0.1111111111111111,
              "#46039f"
             ],
             [
              0.2222222222222222,
              "#7201a8"
             ],
             [
              0.3333333333333333,
              "#9c179e"
             ],
             [
              0.4444444444444444,
              "#bd3786"
             ],
             [
              0.5555555555555556,
              "#d8576b"
             ],
             [
              0.6666666666666666,
              "#ed7953"
             ],
             [
              0.7777777777777778,
              "#fb9f3a"
             ],
             [
              0.8888888888888888,
              "#fdca26"
             ],
             [
              1,
              "#f0f921"
             ]
            ],
            "type": "heatmapgl"
           }
          ],
          "histogram": [
           {
            "marker": {
             "pattern": {
              "fillmode": "overlay",
              "size": 10,
              "solidity": 0.2
             }
            },
            "type": "histogram"
           }
          ],
          "histogram2d": [
           {
            "colorbar": {
             "outlinewidth": 0,
             "ticks": ""
            },
            "colorscale": [
             [
              0,
              "#0d0887"
             ],
             [
              0.1111111111111111,
              "#46039f"
             ],
             [
              0.2222222222222222,
              "#7201a8"
             ],
             [
              0.3333333333333333,
              "#9c179e"
             ],
             [
              0.4444444444444444,
              "#bd3786"
             ],
             [
              0.5555555555555556,
              "#d8576b"
             ],
             [
              0.6666666666666666,
              "#ed7953"
             ],
             [
              0.7777777777777778,
              "#fb9f3a"
             ],
             [
              0.8888888888888888,
              "#fdca26"
             ],
             [
              1,
              "#f0f921"
             ]
            ],
            "type": "histogram2d"
           }
          ],
          "histogram2dcontour": [
           {
            "colorbar": {
             "outlinewidth": 0,
             "ticks": ""
            },
            "colorscale": [
             [
              0,
              "#0d0887"
             ],
             [
              0.1111111111111111,
              "#46039f"
             ],
             [
              0.2222222222222222,
              "#7201a8"
             ],
             [
              0.3333333333333333,
              "#9c179e"
             ],
             [
              0.4444444444444444,
              "#bd3786"
             ],
             [
              0.5555555555555556,
              "#d8576b"
             ],
             [
              0.6666666666666666,
              "#ed7953"
             ],
             [
              0.7777777777777778,
              "#fb9f3a"
             ],
             [
              0.8888888888888888,
              "#fdca26"
             ],
             [
              1,
              "#f0f921"
             ]
            ],
            "type": "histogram2dcontour"
           }
          ],
          "mesh3d": [
           {
            "colorbar": {
             "outlinewidth": 0,
             "ticks": ""
            },
            "type": "mesh3d"
           }
          ],
          "parcoords": [
           {
            "line": {
             "colorbar": {
              "outlinewidth": 0,
              "ticks": ""
             }
            },
            "type": "parcoords"
           }
          ],
          "pie": [
           {
            "automargin": true,
            "type": "pie"
           }
          ],
          "scatter": [
           {
            "marker": {
             "line": {
              "color": "#283442"
             }
            },
            "type": "scatter"
           }
          ],
          "scatter3d": [
           {
            "line": {
             "colorbar": {
              "outlinewidth": 0,
              "ticks": ""
             }
            },
            "marker": {
             "colorbar": {
              "outlinewidth": 0,
              "ticks": ""
             }
            },
            "type": "scatter3d"
           }
          ],
          "scattercarpet": [
           {
            "marker": {
             "colorbar": {
              "outlinewidth": 0,
              "ticks": ""
             }
            },
            "type": "scattercarpet"
           }
          ],
          "scattergeo": [
           {
            "marker": {
             "colorbar": {
              "outlinewidth": 0,
              "ticks": ""
             }
            },
            "type": "scattergeo"
           }
          ],
          "scattergl": [
           {
            "marker": {
             "line": {
              "color": "#283442"
             }
            },
            "type": "scattergl"
           }
          ],
          "scattermapbox": [
           {
            "marker": {
             "colorbar": {
              "outlinewidth": 0,
              "ticks": ""
             }
            },
            "type": "scattermapbox"
           }
          ],
          "scatterpolar": [
           {
            "marker": {
             "colorbar": {
              "outlinewidth": 0,
              "ticks": ""
             }
            },
            "type": "scatterpolar"
           }
          ],
          "scatterpolargl": [
           {
            "marker": {
             "colorbar": {
              "outlinewidth": 0,
              "ticks": ""
             }
            },
            "type": "scatterpolargl"
           }
          ],
          "scatterternary": [
           {
            "marker": {
             "colorbar": {
              "outlinewidth": 0,
              "ticks": ""
             }
            },
            "type": "scatterternary"
           }
          ],
          "surface": [
           {
            "colorbar": {
             "outlinewidth": 0,
             "ticks": ""
            },
            "colorscale": [
             [
              0,
              "#0d0887"
             ],
             [
              0.1111111111111111,
              "#46039f"
             ],
             [
              0.2222222222222222,
              "#7201a8"
             ],
             [
              0.3333333333333333,
              "#9c179e"
             ],
             [
              0.4444444444444444,
              "#bd3786"
             ],
             [
              0.5555555555555556,
              "#d8576b"
             ],
             [
              0.6666666666666666,
              "#ed7953"
             ],
             [
              0.7777777777777778,
              "#fb9f3a"
             ],
             [
              0.8888888888888888,
              "#fdca26"
             ],
             [
              1,
              "#f0f921"
             ]
            ],
            "type": "surface"
           }
          ],
          "table": [
           {
            "cells": {
             "fill": {
              "color": "#506784"
             },
             "line": {
              "color": "rgb(17,17,17)"
             }
            },
            "header": {
             "fill": {
              "color": "#2a3f5f"
             },
             "line": {
              "color": "rgb(17,17,17)"
             }
            },
            "type": "table"
           }
          ]
         },
         "layout": {
          "annotationdefaults": {
           "arrowcolor": "#f2f5fa",
           "arrowhead": 0,
           "arrowwidth": 1
          },
          "autotypenumbers": "strict",
          "coloraxis": {
           "colorbar": {
            "outlinewidth": 0,
            "ticks": ""
           }
          },
          "colorscale": {
           "diverging": [
            [
             0,
             "#8e0152"
            ],
            [
             0.1,
             "#c51b7d"
            ],
            [
             0.2,
             "#de77ae"
            ],
            [
             0.3,
             "#f1b6da"
            ],
            [
             0.4,
             "#fde0ef"
            ],
            [
             0.5,
             "#f7f7f7"
            ],
            [
             0.6,
             "#e6f5d0"
            ],
            [
             0.7,
             "#b8e186"
            ],
            [
             0.8,
             "#7fbc41"
            ],
            [
             0.9,
             "#4d9221"
            ],
            [
             1,
             "#276419"
            ]
           ],
           "sequential": [
            [
             0,
             "#0d0887"
            ],
            [
             0.1111111111111111,
             "#46039f"
            ],
            [
             0.2222222222222222,
             "#7201a8"
            ],
            [
             0.3333333333333333,
             "#9c179e"
            ],
            [
             0.4444444444444444,
             "#bd3786"
            ],
            [
             0.5555555555555556,
             "#d8576b"
            ],
            [
             0.6666666666666666,
             "#ed7953"
            ],
            [
             0.7777777777777778,
             "#fb9f3a"
            ],
            [
             0.8888888888888888,
             "#fdca26"
            ],
            [
             1,
             "#f0f921"
            ]
           ],
           "sequentialminus": [
            [
             0,
             "#0d0887"
            ],
            [
             0.1111111111111111,
             "#46039f"
            ],
            [
             0.2222222222222222,
             "#7201a8"
            ],
            [
             0.3333333333333333,
             "#9c179e"
            ],
            [
             0.4444444444444444,
             "#bd3786"
            ],
            [
             0.5555555555555556,
             "#d8576b"
            ],
            [
             0.6666666666666666,
             "#ed7953"
            ],
            [
             0.7777777777777778,
             "#fb9f3a"
            ],
            [
             0.8888888888888888,
             "#fdca26"
            ],
            [
             1,
             "#f0f921"
            ]
           ]
          },
          "colorway": [
           "#636efa",
           "#EF553B",
           "#00cc96",
           "#ab63fa",
           "#FFA15A",
           "#19d3f3",
           "#FF6692",
           "#B6E880",
           "#FF97FF",
           "#FECB52"
          ],
          "font": {
           "color": "#f2f5fa"
          },
          "geo": {
           "bgcolor": "rgb(17,17,17)",
           "lakecolor": "rgb(17,17,17)",
           "landcolor": "rgb(17,17,17)",
           "showlakes": true,
           "showland": true,
           "subunitcolor": "#506784"
          },
          "hoverlabel": {
           "align": "left"
          },
          "hovermode": "closest",
          "mapbox": {
           "style": "dark"
          },
          "paper_bgcolor": "rgb(17,17,17)",
          "plot_bgcolor": "rgb(17,17,17)",
          "polar": {
           "angularaxis": {
            "gridcolor": "#506784",
            "linecolor": "#506784",
            "ticks": ""
           },
           "bgcolor": "rgb(17,17,17)",
           "radialaxis": {
            "gridcolor": "#506784",
            "linecolor": "#506784",
            "ticks": ""
           }
          },
          "scene": {
           "xaxis": {
            "backgroundcolor": "rgb(17,17,17)",
            "gridcolor": "#506784",
            "gridwidth": 2,
            "linecolor": "#506784",
            "showbackground": true,
            "ticks": "",
            "zerolinecolor": "#C8D4E3"
           },
           "yaxis": {
            "backgroundcolor": "rgb(17,17,17)",
            "gridcolor": "#506784",
            "gridwidth": 2,
            "linecolor": "#506784",
            "showbackground": true,
            "ticks": "",
            "zerolinecolor": "#C8D4E3"
           },
           "zaxis": {
            "backgroundcolor": "rgb(17,17,17)",
            "gridcolor": "#506784",
            "gridwidth": 2,
            "linecolor": "#506784",
            "showbackground": true,
            "ticks": "",
            "zerolinecolor": "#C8D4E3"
           }
          },
          "shapedefaults": {
           "line": {
            "color": "#f2f5fa"
           }
          },
          "sliderdefaults": {
           "bgcolor": "#C8D4E3",
           "bordercolor": "rgb(17,17,17)",
           "borderwidth": 1,
           "tickwidth": 0
          },
          "ternary": {
           "aaxis": {
            "gridcolor": "#506784",
            "linecolor": "#506784",
            "ticks": ""
           },
           "baxis": {
            "gridcolor": "#506784",
            "linecolor": "#506784",
            "ticks": ""
           },
           "bgcolor": "rgb(17,17,17)",
           "caxis": {
            "gridcolor": "#506784",
            "linecolor": "#506784",
            "ticks": ""
           }
          },
          "title": {
           "x": 0.05
          },
          "updatemenudefaults": {
           "bgcolor": "#506784",
           "borderwidth": 0
          },
          "xaxis": {
           "automargin": true,
           "gridcolor": "#283442",
           "linecolor": "#506784",
           "ticks": "",
           "title": {
            "standoff": 15
           },
           "zerolinecolor": "#283442",
           "zerolinewidth": 2
          },
          "yaxis": {
           "automargin": true,
           "gridcolor": "#283442",
           "linecolor": "#506784",
           "ticks": "",
           "title": {
            "standoff": 15
           },
           "zerolinecolor": "#283442",
           "zerolinewidth": 2
          }
         }
        },
        "width": 600
       }
      }
     },
     "metadata": {},
     "output_type": "display_data"
    }
   ],
   "source": [
    "fig = px.pie(df, values='cost', names='category', template='plotly_dark', width=600, height=400)\n",
    "fig.show()"
   ]
  },
  {
   "cell_type": "code",
   "execution_count": 203,
   "id": "7c321621",
   "metadata": {},
   "outputs": [
    {
     "data": {
      "text/plain": [
       "197.4686956521739"
      ]
     },
     "execution_count": 203,
     "metadata": {},
     "output_type": "execute_result"
    }
   ],
   "source": [
    "df.filter(pl.col('category') == 'gas').select(pl.col('cost').sum())\n",
    "2270.89/11.5"
   ]
  },
  {
   "cell_type": "markdown",
   "id": "65fbc8f7",
   "metadata": {},
   "source": [
    "## Expense categories by month"
   ]
  },
  {
   "cell_type": "code",
   "execution_count": 204,
   "id": "f0e2c6d8",
   "metadata": {},
   "outputs": [
    {
     "data": {
      "application/vnd.plotly.v1+json": {
       "config": {
        "plotlyServerURL": "https://plot.ly"
       },
       "data": [
        {
         "alignmentgroup": "True",
         "customdata": [
          [
           "DC CHEVRON 0352098 EL DORADO AR Ref:502907842087 Auth:40603 PurchDate:01-29-2025",
           "Debit",
           31
          ],
          [
           "DC MURPHY7520ATWALMART EL DORADO AR Ref:501800140605 Auth:410525 PurchDate:01-18-2025",
           "Debit",
           21
          ],
          [
           "DC MURPHY7520ATWALMART EL DORADO AR Ref:501709314821 Auth:239587 PurchDate:01-17-2025",
           "Debit",
           21
          ],
          [
           "DC MURPHY7520ATWALMART EL DORADO AR Ref:500800457336 Auth:976596 PurchDate:01-08-2025",
           "Debit",
           10
          ],
          [
           "MURPHY7520ATWALMART      EL DORADO    AR",
           "Credit",
           10
          ],
          [
           "CIRCLE K 05394           HENDERSON    NV",
           "Credit",
           1
          ],
          [
           "DC MURPHY7520ATWALMART EL DORADO AR Ref:504600217021 Auth:831739 PurchDate:02-15-2025",
           "Debit",
           18
          ],
          [
           "POS 0207 1124 527975 MURPHY7520ATWALM        EL DORADO    AR",
           "Debit",
           7
          ],
          [
           "DC SHELL SERVICE STATION EL DORADO AR Ref:503110449775 Auth:436993 PurchDate:01-31-2025",
           "Debit",
           3
          ],
          [
           "POS 0201 1006 541174 MURPHY7520ATWALM        EL DORADO    AR",
           "Debit",
           1
          ],
          [
           "MURPHY USA 7884          SEARCY       AR",
           "Credit",
           28
          ],
          [
           "CIRCLE K # 09981         HENSLEY      AR",
           "Credit",
           27
          ],
          [
           "MURPHY7520ATWALMART      EL DORADO    AR",
           "Credit",
           24
          ],
          [
           "MURPHY USA 7857          RUSTON       LA",
           "Credit",
           19
          ],
          [
           "SHELL OIL 12786350004    EL DORADO    AR",
           "Credit",
           16
          ],
          [
           "SHELL OIL 12786350004    EL DORADO    AR",
           "Credit",
           16
          ],
          [
           "SHELL OIL 12786350004    EL DORADO    AR",
           "Credit",
           16
          ],
          [
           "MURPHY7520ATWALMART      EL DORADO    AR",
           "Credit",
           2
          ],
          [
           "MURPHY7520ATWALMART      EL DORADO    AR",
           "Credit",
           2
          ],
          [
           "DC MURPHY7520ATWALMART EL DORADO AR Ref:506400331177 Auth:871710 PurchDate:03-05-2025",
           "Debit",
           7
          ],
          [
           "POS 0301 0942 091050 MURPHY7520ATWALM        EL DORADO    AR",
           "Debit",
           1
          ],
          [
           "MURPHY7520ATWALMART      EL DORADO    AR",
           "Credit",
           30
          ],
          [
           "MURPHY7520ATWALMART      EL DORADO    AR",
           "Credit",
           28
          ],
          [
           "MURPHY7520ATWALMART      EL DORADO    AR",
           "Credit",
           23
          ],
          [
           "CHEVRON 0352098          EL DORADO    AR",
           "Credit",
           20
          ],
          [
           "MURPHY7520ATWALMART      EL DORADO    AR",
           "Credit",
           16
          ],
          [
           "POS 0425 1744 086085 MURPHY7520ATWALM        EL DORADO    AR",
           "Debit",
           25
          ],
          [
           "POS 0418 1302 924588 MURPHY7520ATWALM        EL DORADO    AR",
           "Debit",
           18
          ],
          [
           "POS 0530 1824 834361 MURPHY7520ATWALM        EL DORADO    AR",
           "Debit",
           30
          ],
          [
           "POS 0530 1823 834303 MURPHY7520ATWALM        EL DORADO    AR",
           "Debit",
           30
          ],
          [
           "POS 0530 1820 834013 MURPHY7520ATWALM        EL DORADO    AR",
           "Debit",
           30
          ],
          [
           "POS 0523 1721 732037 MURPHY7520ATWALM        EL DORADO    AR",
           "Debit",
           23
          ],
          [
           "POS 0523 1721 731978 MURPHY7520ATWALM        EL DORADO    AR",
           "Debit",
           23
          ],
          [
           "POS 0516 1803 597779 MURPHY7520ATWALM        EL DORADO    AR",
           "Debit",
           16
          ],
          [
           "POS 0516 1759 597390 MURPHY7520ATWALM        EL DORADO    AR",
           "Debit",
           16
          ],
          [
           "POS 0509 1817 448810 MURPHY7520ATWALM        EL DORADO    AR",
           "Debit",
           9
          ],
          [
           "POS 0509 1817 448778 MURPHY7520ATWALM        EL DORADO    AR",
           "Debit",
           9
          ],
          [
           "DC SHELL OIL 12786350004 EL DORADO AR Ref:412207473630 Auth:80236 PurchDate:05-01-2024",
           "Debit",
           4
          ],
          [
           "DC SHELL OIL 12786350004 EL DORADO AR Ref:412207473629 Auth:79852 PurchDate:05-01-2024",
           "Debit",
           4
          ],
          [
           "POS 0629 1751 749585 MURPHY7520ATWALM        EL DORADO    AR",
           "Debit",
           29
          ],
          [
           "POS 0624 1647 927187 MURPHY6739ATWALM        CONWAY       AR",
           "Debit",
           24
          ],
          [
           "POS 0622 1450 597751 MURPHY7520ATWALM        EL DORADO    AR",
           "Debit",
           22
          ],
          [
           "POS 0621 1225 396299 MURPHY7520ATWALM        EL DORADO    AR",
           "Debit",
           21
          ],
          [
           "DC CHEVRON 0352098 EL DORADO AR Ref:417002630883 Auth:964845 PurchDate:06-18-2024",
           "Debit",
           20
          ],
          [
           "POS 0614 1229 257837 MURPHY7520ATWALM        EL DORADO    AR",
           "Debit",
           14
          ],
          [
           "POS 0611 0807 761756 MURPHY7520ATWALM        EL DORADO    AR",
           "Debit",
           11
          ],
          [
           "POS 0605 1757 832499 MURPHY7520ATWALM        EL DORADO    AR",
           "Debit",
           5
          ],
          [
           "POS 0605 1757 832429 MURPHY7520ATWALM        EL DORADO    AR",
           "Debit",
           5
          ],
          [
           "POS 0726 1510 062058 MURPHY7520ATWALM        EL DORADO    AR",
           "Debit",
           26
          ],
          [
           "POS 0722 1724 453026 MURPHY7520ATWALM        EL DORADO    AR",
           "Debit",
           22
          ],
          [
           "POS 0719 1549 953725 MURPHY7520ATWALM        EL DORADO    AR",
           "Debit",
           19
          ],
          [
           "POS 0712 1643 842496 MURPHY7520ATWALM        EL DORADO    AR",
           "Debit",
           12
          ],
          [
           "POS 0708 0010 155548 MURPHY7124ATWALM        MONROE       LA",
           "Debit",
           8
          ],
          [
           "DC SHELL SERVICE STATION EL DORADO AR Ref:424200427846 Auth:529945 PurchDate:08-29-2024",
           "Debit",
           31
          ],
          [
           "DC MURPHY7520ATWALMART EL DORADO AR Ref:424100037791 Auth:349390 PurchDate:08-28-2024",
           "Debit",
           30
          ],
          [
           "DC MURPHY7520ATWALMART EL DORADO AR Ref:423500142444 Auth:430498 PurchDate:08-22-2024",
           "Debit",
           24
          ],
          [
           "POS 0821 1718 283449 MURPHY7520ATWALM        EL DORADO    AR",
           "Debit",
           21
          ],
          [
           "DC MURPHY7520ATWALMART EL DORADO AR Ref:422709152588 Auth:122718 PurchDate:08-14-2024",
           "Debit",
           17
          ],
          [
           "DC MURPHY7520ATWALMART EL DORADO AR Ref:422117502703 Auth:208010 PurchDate:08-08-2024",
           "Debit",
           12
          ],
          [
           "POS 0806 1719 904649 MURPHY7520ATWALM        EL DORADO    AR",
           "Debit",
           6
          ],
          [
           "POS 0802 1902 243658 MURPHY7520ATWALM        EL DORADO    AR",
           "Debit",
           2
          ],
          [
           "DC MURPHY6519ATWALMART BENTONVILLE AR Ref:427200341079 Auth:347750 PurchDate:09-28-2024",
           "Debit",
           30
          ],
          [
           "DC MURPHY7520ATWALMART EL DORADO AR Ref:427109910407 Auth:195184 PurchDate:09-27-2024",
           "Debit",
           30
          ],
          [
           "DC MURPHY7520ATWALMART EL DORADO AR Ref:426409571338 Auth:69741 PurchDate:09-20-2024",
           "Debit",
           23
          ],
          [
           "DC MURPHY7520ATWALMART EL DORADO AR Ref:426100447431 Auth:631843 PurchDate:09-17-2024",
           "Debit",
           19
          ],
          [
           "DC MURPHY7520ATWALMART EL DORADO AR Ref:425709602044 Auth:982768 PurchDate:09-13-2024",
           "Debit",
           16
          ],
          [
           "DC MURPHY7520ATWALMART EL DORADO AR Ref:425100044615 Auth:19712 PurchDate:09-07-2024",
           "Debit",
           9
          ],
          [
           "DC MURPHY7520ATWALMART EL DORADO AR Ref:424800036468 Auth:476825 PurchDate:09-04-2024",
           "Debit",
           6
          ],
          [
           "DC MURPHY7520ATWALMART EL DORADO AR Ref:430400020350 Auth:568371 PurchDate:10-30-2024",
           "Debit",
           31
          ],
          [
           "DC MURPHY7520ATWALMART EL DORADO AR Ref:429909196276 Auth:853230 PurchDate:10-25-2024",
           "Debit",
           28
          ],
          [
           "DC MURPHY7520ATWALMART EL DORADO AR Ref:429909933254 Auth:853320 PurchDate:10-25-2024",
           "Debit",
           28
          ],
          [
           "DC MURPHY7520ATWALMART EL DORADO AR Ref:429800716556 Auth:646751 PurchDate:10-24-2024",
           "Debit",
           26
          ],
          [
           "DC MURPHY7520ATWALMART EL DORADO AR Ref:429600875445 Auth:347218 PurchDate:10-22-2024",
           "Debit",
           24
          ],
          [
           "DC MURPHY7520ATWALMART EL DORADO AR Ref:429000418192 Auth:354223 PurchDate:10-16-2024",
           "Debit",
           18
          ],
          [
           "DC MURPHY7520ATWALMART EL DORADO AR Ref:428509480043 Auth:541693 PurchDate:10-11-2024",
           "Debit",
           15
          ],
          [
           "DC MURPHY7520ATWALMART EL DORADO AR Ref:428308688507 Auth:243357 PurchDate:10-09-2024",
           "Debit",
           12
          ],
          [
           "DC CHEVRON 0352098 EL DORADO AR Ref:428205869680 Auth:32130 PurchDate:10-08-2024",
           "Debit",
           10
          ],
          [
           "DC CHEVRON 0352098 EL DORADO AR Ref:427811042819 Auth:401112 PurchDate:10-04-2024",
           "Debit",
           7
          ],
          [
           "DC MURPHY7520ATWALMART EL DORADO AR Ref:427600137957 Auth:1202 PurchDate:10-02-2024",
           "Debit",
           4
          ],
          [
           "DC MURPHY7520ATWALMART EL DORADO AR Ref:427600217210 Auth:55954 PurchDate:10-02-2024",
           "Debit",
           4
          ],
          [
           "DC CHEVRON 0352098 EL DORADO AR Ref:427407490219 Auth:664937 PurchDate:09-30-2024",
           "Debit",
           2
          ],
          [
           "DC MURPHY6739ATWALMART CONWAY AR Ref:427300539191 Auth:516166 PurchDate:09-29-2024",
           "Debit",
           1
          ],
          [
           "DC MURPHY7520ATWALMART EL DORADO AR Ref:433200454611 Auth:142532 PurchDate:11-27-2024",
           "Debit",
           29
          ],
          [
           "DC MURPHY7520ATWALMART EL DORADO AR Ref:432900113844 Auth:606546 PurchDate:11-24-2024",
           "Debit",
           26
          ],
          [
           "DC MURPHY7520ATWALMART EL DORADO AR Ref:431900627704 Auth:46914 PurchDate:11-14-2024",
           "Debit",
           16
          ],
          [
           "POS 1114 1753 049890 MURPHY7520ATWALM        EL DORADO    AR",
           "Debit",
           14
          ],
          [
           "DC MURPHY7520ATWALMART EL DORADO AR Ref:431100465549 Auth:741213 PurchDate:11-06-2024",
           "Debit",
           8
          ],
          [
           "POS 1107 1748 940929 MURPHY7520ATWALM        EL DORADO    AR",
           "Debit",
           7
          ],
          [
           "MURPHY7520ATWALMART      EL DORADO    AR",
           "Credit",
           24
          ],
          [
           "DC MURPHY7520ATWALMART EL DORADO AR Ref:433900409028 Auth:293570 PurchDate:12-04-2024",
           "Debit",
           6
          ],
          [
           "SHELL OIL 12775524007    HENDERSON    NV",
           "Credit",
           27
          ],
          [
           "LOVE'S #0835 OUTSIDE     FILLMORE     UT",
           "Credit",
           22
          ],
          [
           "LOVE'S #0835 INSIDE      FILLMORE     UT",
           "Credit",
           22
          ],
          [
           "CHEVRON 0352098          EL DORADO    AR",
           "Credit",
           11
          ],
          [
           "MURPHY7520ATWALMART      EL DORADO    AR",
           "Credit",
           11
          ],
          [
           "MURPHY7520ATWALMART      EL DORADO    AR",
           "Credit",
           4
          ]
         ],
         "hovertemplate": "category=gas<br>monthName=%{x}<br>cost=%{y}<br>description=%{customdata[0]}<br>cardType=%{customdata[1]}<br>day=%{customdata[2]}<extra></extra>",
         "legendgroup": "gas",
         "marker": {
          "color": "#636efa",
          "pattern": {
           "shape": ""
          }
         },
         "name": "gas",
         "offsetgroup": "gas",
         "orientation": "v",
         "showlegend": true,
         "textposition": "auto",
         "texttemplate": "%{y}",
         "type": "bar",
         "x": [
          "Jan",
          "Jan",
          "Jan",
          "Jan",
          "Jan",
          "Jan",
          "Feb",
          "Feb",
          "Feb",
          "Feb",
          "Feb",
          "Feb",
          "Feb",
          "Feb",
          "Feb",
          "Feb",
          "Feb",
          "Feb",
          "Feb",
          "Mar",
          "Mar",
          "Mar",
          "Mar",
          "Mar",
          "Mar",
          "Mar",
          "Apr",
          "Apr",
          "May",
          "May",
          "May",
          "May",
          "May",
          "May",
          "May",
          "May",
          "May",
          "May",
          "May",
          "Jun",
          "Jun",
          "Jun",
          "Jun",
          "Jun",
          "Jun",
          "Jun",
          "Jun",
          "Jun",
          "Jul",
          "Jul",
          "Jul",
          "Jul",
          "Jul",
          "Aug",
          "Aug",
          "Aug",
          "Aug",
          "Aug",
          "Aug",
          "Aug",
          "Aug",
          "Sep",
          "Sep",
          "Sep",
          "Sep",
          "Sep",
          "Sep",
          "Sep",
          "Oct",
          "Oct",
          "Oct",
          "Oct",
          "Oct",
          "Oct",
          "Oct",
          "Oct",
          "Oct",
          "Oct",
          "Oct",
          "Oct",
          "Oct",
          "Oct",
          "Nov",
          "Nov",
          "Nov",
          "Nov",
          "Nov",
          "Nov",
          "Nov",
          "Dec",
          "Dec",
          "Dec",
          "Dec",
          "Dec",
          "Dec",
          "Dec"
         ],
         "xaxis": "x",
         "y": [
          7.41,
          25.87,
          26.28,
          24.82,
          20.59,
          49.31,
          34.73,
          45.6,
          12.49,
          25.52,
          3.11,
          2.45,
          28.92,
          17.43,
          15.32,
          15.41,
          8.77,
          0.07,
          26.92,
          42.37,
          26.01,
          22.63,
          19.31,
          16.03,
          19.95,
          41.93,
          34.05,
          24.06,
          17.43,
          1.95,
          28.61,
          31.7,
          24.05,
          34.19,
          18.91,
          30.46,
          32.63,
          34.06,
          22.12,
          6.18,
          21.74,
          25.27,
          25.55,
          18.73,
          24.07,
          30.52,
          31.1,
          1.95,
          31.77,
          31.79,
          28.26,
          26.09,
          28.08,
          6.24,
          29.36,
          29.5,
          32.47,
          30.63,
          27.07,
          31.7,
          28.66,
          31.02,
          25.8,
          28.33,
          30.57,
          22.95,
          29.1,
          28.66,
          25.98,
          25.14,
          8.17,
          25.74,
          26.35,
          24.56,
          23.43,
          22.33,
          16.27,
          24.96,
          26.76,
          23.43,
          11.66,
          17.2,
          27.32,
          27.39,
          17.45,
          23.3,
          27.91,
          28.16,
          19.62,
          22.79,
          15.81,
          28.63,
          3.8,
          21.01,
          27.96,
          21.13
         ],
         "yaxis": "y"
        }
       ],
       "layout": {
        "barmode": "relative",
        "legend": {
         "title": {
          "text": "category"
         },
         "tracegroupgap": 0
        },
        "template": {
         "data": {
          "bar": [
           {
            "error_x": {
             "color": "#f2f5fa"
            },
            "error_y": {
             "color": "#f2f5fa"
            },
            "marker": {
             "line": {
              "color": "rgb(17,17,17)",
              "width": 0.5
             },
             "pattern": {
              "fillmode": "overlay",
              "size": 10,
              "solidity": 0.2
             }
            },
            "type": "bar"
           }
          ],
          "barpolar": [
           {
            "marker": {
             "line": {
              "color": "rgb(17,17,17)",
              "width": 0.5
             },
             "pattern": {
              "fillmode": "overlay",
              "size": 10,
              "solidity": 0.2
             }
            },
            "type": "barpolar"
           }
          ],
          "carpet": [
           {
            "aaxis": {
             "endlinecolor": "#A2B1C6",
             "gridcolor": "#506784",
             "linecolor": "#506784",
             "minorgridcolor": "#506784",
             "startlinecolor": "#A2B1C6"
            },
            "baxis": {
             "endlinecolor": "#A2B1C6",
             "gridcolor": "#506784",
             "linecolor": "#506784",
             "minorgridcolor": "#506784",
             "startlinecolor": "#A2B1C6"
            },
            "type": "carpet"
           }
          ],
          "choropleth": [
           {
            "colorbar": {
             "outlinewidth": 0,
             "ticks": ""
            },
            "type": "choropleth"
           }
          ],
          "contour": [
           {
            "colorbar": {
             "outlinewidth": 0,
             "ticks": ""
            },
            "colorscale": [
             [
              0,
              "#0d0887"
             ],
             [
              0.1111111111111111,
              "#46039f"
             ],
             [
              0.2222222222222222,
              "#7201a8"
             ],
             [
              0.3333333333333333,
              "#9c179e"
             ],
             [
              0.4444444444444444,
              "#bd3786"
             ],
             [
              0.5555555555555556,
              "#d8576b"
             ],
             [
              0.6666666666666666,
              "#ed7953"
             ],
             [
              0.7777777777777778,
              "#fb9f3a"
             ],
             [
              0.8888888888888888,
              "#fdca26"
             ],
             [
              1,
              "#f0f921"
             ]
            ],
            "type": "contour"
           }
          ],
          "contourcarpet": [
           {
            "colorbar": {
             "outlinewidth": 0,
             "ticks": ""
            },
            "type": "contourcarpet"
           }
          ],
          "heatmap": [
           {
            "colorbar": {
             "outlinewidth": 0,
             "ticks": ""
            },
            "colorscale": [
             [
              0,
              "#0d0887"
             ],
             [
              0.1111111111111111,
              "#46039f"
             ],
             [
              0.2222222222222222,
              "#7201a8"
             ],
             [
              0.3333333333333333,
              "#9c179e"
             ],
             [
              0.4444444444444444,
              "#bd3786"
             ],
             [
              0.5555555555555556,
              "#d8576b"
             ],
             [
              0.6666666666666666,
              "#ed7953"
             ],
             [
              0.7777777777777778,
              "#fb9f3a"
             ],
             [
              0.8888888888888888,
              "#fdca26"
             ],
             [
              1,
              "#f0f921"
             ]
            ],
            "type": "heatmap"
           }
          ],
          "heatmapgl": [
           {
            "colorbar": {
             "outlinewidth": 0,
             "ticks": ""
            },
            "colorscale": [
             [
              0,
              "#0d0887"
             ],
             [
              0.1111111111111111,
              "#46039f"
             ],
             [
              0.2222222222222222,
              "#7201a8"
             ],
             [
              0.3333333333333333,
              "#9c179e"
             ],
             [
              0.4444444444444444,
              "#bd3786"
             ],
             [
              0.5555555555555556,
              "#d8576b"
             ],
             [
              0.6666666666666666,
              "#ed7953"
             ],
             [
              0.7777777777777778,
              "#fb9f3a"
             ],
             [
              0.8888888888888888,
              "#fdca26"
             ],
             [
              1,
              "#f0f921"
             ]
            ],
            "type": "heatmapgl"
           }
          ],
          "histogram": [
           {
            "marker": {
             "pattern": {
              "fillmode": "overlay",
              "size": 10,
              "solidity": 0.2
             }
            },
            "type": "histogram"
           }
          ],
          "histogram2d": [
           {
            "colorbar": {
             "outlinewidth": 0,
             "ticks": ""
            },
            "colorscale": [
             [
              0,
              "#0d0887"
             ],
             [
              0.1111111111111111,
              "#46039f"
             ],
             [
              0.2222222222222222,
              "#7201a8"
             ],
             [
              0.3333333333333333,
              "#9c179e"
             ],
             [
              0.4444444444444444,
              "#bd3786"
             ],
             [
              0.5555555555555556,
              "#d8576b"
             ],
             [
              0.6666666666666666,
              "#ed7953"
             ],
             [
              0.7777777777777778,
              "#fb9f3a"
             ],
             [
              0.8888888888888888,
              "#fdca26"
             ],
             [
              1,
              "#f0f921"
             ]
            ],
            "type": "histogram2d"
           }
          ],
          "histogram2dcontour": [
           {
            "colorbar": {
             "outlinewidth": 0,
             "ticks": ""
            },
            "colorscale": [
             [
              0,
              "#0d0887"
             ],
             [
              0.1111111111111111,
              "#46039f"
             ],
             [
              0.2222222222222222,
              "#7201a8"
             ],
             [
              0.3333333333333333,
              "#9c179e"
             ],
             [
              0.4444444444444444,
              "#bd3786"
             ],
             [
              0.5555555555555556,
              "#d8576b"
             ],
             [
              0.6666666666666666,
              "#ed7953"
             ],
             [
              0.7777777777777778,
              "#fb9f3a"
             ],
             [
              0.8888888888888888,
              "#fdca26"
             ],
             [
              1,
              "#f0f921"
             ]
            ],
            "type": "histogram2dcontour"
           }
          ],
          "mesh3d": [
           {
            "colorbar": {
             "outlinewidth": 0,
             "ticks": ""
            },
            "type": "mesh3d"
           }
          ],
          "parcoords": [
           {
            "line": {
             "colorbar": {
              "outlinewidth": 0,
              "ticks": ""
             }
            },
            "type": "parcoords"
           }
          ],
          "pie": [
           {
            "automargin": true,
            "type": "pie"
           }
          ],
          "scatter": [
           {
            "marker": {
             "line": {
              "color": "#283442"
             }
            },
            "type": "scatter"
           }
          ],
          "scatter3d": [
           {
            "line": {
             "colorbar": {
              "outlinewidth": 0,
              "ticks": ""
             }
            },
            "marker": {
             "colorbar": {
              "outlinewidth": 0,
              "ticks": ""
             }
            },
            "type": "scatter3d"
           }
          ],
          "scattercarpet": [
           {
            "marker": {
             "colorbar": {
              "outlinewidth": 0,
              "ticks": ""
             }
            },
            "type": "scattercarpet"
           }
          ],
          "scattergeo": [
           {
            "marker": {
             "colorbar": {
              "outlinewidth": 0,
              "ticks": ""
             }
            },
            "type": "scattergeo"
           }
          ],
          "scattergl": [
           {
            "marker": {
             "line": {
              "color": "#283442"
             }
            },
            "type": "scattergl"
           }
          ],
          "scattermapbox": [
           {
            "marker": {
             "colorbar": {
              "outlinewidth": 0,
              "ticks": ""
             }
            },
            "type": "scattermapbox"
           }
          ],
          "scatterpolar": [
           {
            "marker": {
             "colorbar": {
              "outlinewidth": 0,
              "ticks": ""
             }
            },
            "type": "scatterpolar"
           }
          ],
          "scatterpolargl": [
           {
            "marker": {
             "colorbar": {
              "outlinewidth": 0,
              "ticks": ""
             }
            },
            "type": "scatterpolargl"
           }
          ],
          "scatterternary": [
           {
            "marker": {
             "colorbar": {
              "outlinewidth": 0,
              "ticks": ""
             }
            },
            "type": "scatterternary"
           }
          ],
          "surface": [
           {
            "colorbar": {
             "outlinewidth": 0,
             "ticks": ""
            },
            "colorscale": [
             [
              0,
              "#0d0887"
             ],
             [
              0.1111111111111111,
              "#46039f"
             ],
             [
              0.2222222222222222,
              "#7201a8"
             ],
             [
              0.3333333333333333,
              "#9c179e"
             ],
             [
              0.4444444444444444,
              "#bd3786"
             ],
             [
              0.5555555555555556,
              "#d8576b"
             ],
             [
              0.6666666666666666,
              "#ed7953"
             ],
             [
              0.7777777777777778,
              "#fb9f3a"
             ],
             [
              0.8888888888888888,
              "#fdca26"
             ],
             [
              1,
              "#f0f921"
             ]
            ],
            "type": "surface"
           }
          ],
          "table": [
           {
            "cells": {
             "fill": {
              "color": "#506784"
             },
             "line": {
              "color": "rgb(17,17,17)"
             }
            },
            "header": {
             "fill": {
              "color": "#2a3f5f"
             },
             "line": {
              "color": "rgb(17,17,17)"
             }
            },
            "type": "table"
           }
          ]
         },
         "layout": {
          "annotationdefaults": {
           "arrowcolor": "#f2f5fa",
           "arrowhead": 0,
           "arrowwidth": 1
          },
          "autotypenumbers": "strict",
          "coloraxis": {
           "colorbar": {
            "outlinewidth": 0,
            "ticks": ""
           }
          },
          "colorscale": {
           "diverging": [
            [
             0,
             "#8e0152"
            ],
            [
             0.1,
             "#c51b7d"
            ],
            [
             0.2,
             "#de77ae"
            ],
            [
             0.3,
             "#f1b6da"
            ],
            [
             0.4,
             "#fde0ef"
            ],
            [
             0.5,
             "#f7f7f7"
            ],
            [
             0.6,
             "#e6f5d0"
            ],
            [
             0.7,
             "#b8e186"
            ],
            [
             0.8,
             "#7fbc41"
            ],
            [
             0.9,
             "#4d9221"
            ],
            [
             1,
             "#276419"
            ]
           ],
           "sequential": [
            [
             0,
             "#0d0887"
            ],
            [
             0.1111111111111111,
             "#46039f"
            ],
            [
             0.2222222222222222,
             "#7201a8"
            ],
            [
             0.3333333333333333,
             "#9c179e"
            ],
            [
             0.4444444444444444,
             "#bd3786"
            ],
            [
             0.5555555555555556,
             "#d8576b"
            ],
            [
             0.6666666666666666,
             "#ed7953"
            ],
            [
             0.7777777777777778,
             "#fb9f3a"
            ],
            [
             0.8888888888888888,
             "#fdca26"
            ],
            [
             1,
             "#f0f921"
            ]
           ],
           "sequentialminus": [
            [
             0,
             "#0d0887"
            ],
            [
             0.1111111111111111,
             "#46039f"
            ],
            [
             0.2222222222222222,
             "#7201a8"
            ],
            [
             0.3333333333333333,
             "#9c179e"
            ],
            [
             0.4444444444444444,
             "#bd3786"
            ],
            [
             0.5555555555555556,
             "#d8576b"
            ],
            [
             0.6666666666666666,
             "#ed7953"
            ],
            [
             0.7777777777777778,
             "#fb9f3a"
            ],
            [
             0.8888888888888888,
             "#fdca26"
            ],
            [
             1,
             "#f0f921"
            ]
           ]
          },
          "colorway": [
           "#636efa",
           "#EF553B",
           "#00cc96",
           "#ab63fa",
           "#FFA15A",
           "#19d3f3",
           "#FF6692",
           "#B6E880",
           "#FF97FF",
           "#FECB52"
          ],
          "font": {
           "color": "#f2f5fa"
          },
          "geo": {
           "bgcolor": "rgb(17,17,17)",
           "lakecolor": "rgb(17,17,17)",
           "landcolor": "rgb(17,17,17)",
           "showlakes": true,
           "showland": true,
           "subunitcolor": "#506784"
          },
          "hoverlabel": {
           "align": "left"
          },
          "hovermode": "closest",
          "mapbox": {
           "style": "dark"
          },
          "paper_bgcolor": "rgb(17,17,17)",
          "plot_bgcolor": "rgb(17,17,17)",
          "polar": {
           "angularaxis": {
            "gridcolor": "#506784",
            "linecolor": "#506784",
            "ticks": ""
           },
           "bgcolor": "rgb(17,17,17)",
           "radialaxis": {
            "gridcolor": "#506784",
            "linecolor": "#506784",
            "ticks": ""
           }
          },
          "scene": {
           "xaxis": {
            "backgroundcolor": "rgb(17,17,17)",
            "gridcolor": "#506784",
            "gridwidth": 2,
            "linecolor": "#506784",
            "showbackground": true,
            "ticks": "",
            "zerolinecolor": "#C8D4E3"
           },
           "yaxis": {
            "backgroundcolor": "rgb(17,17,17)",
            "gridcolor": "#506784",
            "gridwidth": 2,
            "linecolor": "#506784",
            "showbackground": true,
            "ticks": "",
            "zerolinecolor": "#C8D4E3"
           },
           "zaxis": {
            "backgroundcolor": "rgb(17,17,17)",
            "gridcolor": "#506784",
            "gridwidth": 2,
            "linecolor": "#506784",
            "showbackground": true,
            "ticks": "",
            "zerolinecolor": "#C8D4E3"
           }
          },
          "shapedefaults": {
           "line": {
            "color": "#f2f5fa"
           }
          },
          "sliderdefaults": {
           "bgcolor": "#C8D4E3",
           "bordercolor": "rgb(17,17,17)",
           "borderwidth": 1,
           "tickwidth": 0
          },
          "ternary": {
           "aaxis": {
            "gridcolor": "#506784",
            "linecolor": "#506784",
            "ticks": ""
           },
           "baxis": {
            "gridcolor": "#506784",
            "linecolor": "#506784",
            "ticks": ""
           },
           "bgcolor": "rgb(17,17,17)",
           "caxis": {
            "gridcolor": "#506784",
            "linecolor": "#506784",
            "ticks": ""
           }
          },
          "title": {
           "x": 0.05
          },
          "updatemenudefaults": {
           "bgcolor": "#506784",
           "borderwidth": 0
          },
          "xaxis": {
           "automargin": true,
           "gridcolor": "#283442",
           "linecolor": "#506784",
           "ticks": "",
           "title": {
            "standoff": 15
           },
           "zerolinecolor": "#283442",
           "zerolinewidth": 2
          },
          "yaxis": {
           "automargin": true,
           "gridcolor": "#283442",
           "linecolor": "#506784",
           "ticks": "",
           "title": {
            "standoff": 15
           },
           "zerolinecolor": "#283442",
           "zerolinewidth": 2
          }
         }
        },
        "title": {
         "text": "Total Expense by Month"
        },
        "xaxis": {
         "anchor": "y",
         "categoryarray": [
          "Jan",
          "Feb",
          "Mar",
          "Apr",
          "May",
          "Jun",
          "Jul",
          "Aug",
          "Sep",
          "Oct",
          "Nov",
          "Dec"
         ],
         "categoryorder": "array",
         "domain": [
          0,
          1
         ],
         "title": {
          "text": "monthName"
         }
        },
        "yaxis": {
         "anchor": "x",
         "domain": [
          0,
          1
         ],
         "title": {
          "text": "cost"
         }
        }
       }
      }
     },
     "metadata": {},
     "output_type": "display_data"
    }
   ],
   "source": [
    "import plotly.express as px\n",
    "\n",
    "# Define the correct month order\n",
    "month_order = [\"Jan\", \"Feb\", \"Mar\", \"Apr\", \"May\", \"Jun\", \n",
    "               \"Jul\", \"Aug\", \"Sep\", \"Oct\", \"Nov\", \"Dec\"]\n",
    "\n",
    "# Sort the dataframe by month number to ensure correct order\n",
    "df = df.sort(\"month\")\n",
    "\n",
    "df = df.filter(pl.col('category') == 'gas')\n",
    "# df = df.filter(pl.col('controllable') > 0)\n",
    "\n",
    "# Create the plot with an explicit category order\n",
    "fig = px.bar(df.to_pandas(), x=\"monthName\", y=\"cost\", color=\"category\", hover_data=['description', 'cardType', 'day'],\n",
    "             title=\"Total Expense by Month\",\n",
    "             category_orders={\"monthName\": month_order},\n",
    "             template='plotly_dark',\n",
    "             text_auto=True)  # This adds text labels on top of the bars\n",
    "\n",
    "fig.show()"
   ]
  },
  {
   "cell_type": "code",
   "execution_count": 205,
   "id": "baa3ec3f",
   "metadata": {},
   "outputs": [],
   "source": [
    "# # way to make totals at the top\n",
    "# # Aggregate total cost per month\n",
    "# monthly_totals = df.to_pandas().groupby(\"monthName\")[\"cost\"].sum().reset_index()\n",
    "\n",
    "# # Create the bar chart\n",
    "# fig = px.bar(df.to_pandas(), x=\"monthName\", y=\"cost\", color=\"category\", hover_data=['description', 'cardType', 'day'],\n",
    "#              title=\"Total Expense by Month\",\n",
    "#              category_orders={\"monthName\": month_order})\n",
    "\n",
    "# # Add text labels for monthly totals\n",
    "# fig.add_trace(go.Scatter(\n",
    "#     x=monthly_totals[\"monthName\"], \n",
    "#     y=monthly_totals[\"cost\"],\n",
    "#     text=monthly_totals[\"cost\"],\n",
    "#     mode='text',  \n",
    "#     textposition=\"top center\", \n",
    "#     showlegend=False  # Hide legend for this trace\n",
    "# ))\n",
    "\n",
    "# fig.show()"
   ]
  },
  {
   "cell_type": "markdown",
   "id": "e5fcfce4",
   "metadata": {},
   "source": [
    "#### Expense by month"
   ]
  },
  {
   "cell_type": "code",
   "execution_count": 206,
   "id": "5a83ce8d",
   "metadata": {},
   "outputs": [
    {
     "data": {
      "application/vnd.plotly.v1+json": {
       "config": {
        "plotlyServerURL": "https://plot.ly"
       },
       "data": [
        {
         "alignmentgroup": "True",
         "hovertemplate": "monthName=%{x}<br>cost=%{y}<extra></extra>",
         "legendgroup": "",
         "marker": {
          "color": "#228B22",
          "pattern": {
           "shape": ""
          }
         },
         "name": "",
         "offsetgroup": "",
         "orientation": "v",
         "showlegend": false,
         "textposition": "auto",
         "type": "bar",
         "x": [
          "Jan",
          "Feb",
          "Mar",
          "Apr",
          "May",
          "Jun",
          "Jul",
          "Aug",
          "Sep",
          "Oct",
          "Nov",
          "Dec"
         ],
         "xaxis": "x",
         "y": [
          154.28,
          236.74,
          188.23,
          58.11,
          276.11,
          185.10999999999999,
          145.99,
          215.62999999999997,
          196.42999999999998,
          301.98,
          171.15,
          141.13
         ],
         "yaxis": "y"
        },
        {
         "mode": "text",
         "showlegend": false,
         "text": [
          154,
          237,
          188,
          58,
          276,
          185,
          146,
          216,
          196,
          302,
          171,
          141
         ],
         "textposition": "top center",
         "type": "scatter",
         "x": [
          "Jan",
          "Feb",
          "Mar",
          "Apr",
          "May",
          "Jun",
          "Jul",
          "Aug",
          "Sep",
          "Oct",
          "Nov",
          "Dec"
         ],
         "y": [
          154.28,
          236.74,
          188.23,
          58.11,
          276.11,
          185.10999999999999,
          145.99,
          215.62999999999997,
          196.42999999999998,
          301.98,
          171.15,
          141.13
         ]
        }
       ],
       "layout": {
        "annotations": [
         {
          "font": {
           "color": "white",
           "size": 12
          },
          "showarrow": false,
          "text": "Avg: 189",
          "x": "Dec",
          "y": 208.16491666666664
         }
        ],
        "barmode": "relative",
        "legend": {
         "tracegroupgap": 0
        },
        "shapes": [
         {
          "line": {
           "color": "white",
           "dash": "dash",
           "width": 2
          },
          "type": "line",
          "x0": "Jan",
          "x1": "Dec",
          "y0": 189.2408333333333,
          "y1": 189.2408333333333
         }
        ],
        "template": {
         "data": {
          "bar": [
           {
            "error_x": {
             "color": "#f2f5fa"
            },
            "error_y": {
             "color": "#f2f5fa"
            },
            "marker": {
             "line": {
              "color": "rgb(17,17,17)",
              "width": 0.5
             },
             "pattern": {
              "fillmode": "overlay",
              "size": 10,
              "solidity": 0.2
             }
            },
            "type": "bar"
           }
          ],
          "barpolar": [
           {
            "marker": {
             "line": {
              "color": "rgb(17,17,17)",
              "width": 0.5
             },
             "pattern": {
              "fillmode": "overlay",
              "size": 10,
              "solidity": 0.2
             }
            },
            "type": "barpolar"
           }
          ],
          "carpet": [
           {
            "aaxis": {
             "endlinecolor": "#A2B1C6",
             "gridcolor": "#506784",
             "linecolor": "#506784",
             "minorgridcolor": "#506784",
             "startlinecolor": "#A2B1C6"
            },
            "baxis": {
             "endlinecolor": "#A2B1C6",
             "gridcolor": "#506784",
             "linecolor": "#506784",
             "minorgridcolor": "#506784",
             "startlinecolor": "#A2B1C6"
            },
            "type": "carpet"
           }
          ],
          "choropleth": [
           {
            "colorbar": {
             "outlinewidth": 0,
             "ticks": ""
            },
            "type": "choropleth"
           }
          ],
          "contour": [
           {
            "colorbar": {
             "outlinewidth": 0,
             "ticks": ""
            },
            "colorscale": [
             [
              0,
              "#0d0887"
             ],
             [
              0.1111111111111111,
              "#46039f"
             ],
             [
              0.2222222222222222,
              "#7201a8"
             ],
             [
              0.3333333333333333,
              "#9c179e"
             ],
             [
              0.4444444444444444,
              "#bd3786"
             ],
             [
              0.5555555555555556,
              "#d8576b"
             ],
             [
              0.6666666666666666,
              "#ed7953"
             ],
             [
              0.7777777777777778,
              "#fb9f3a"
             ],
             [
              0.8888888888888888,
              "#fdca26"
             ],
             [
              1,
              "#f0f921"
             ]
            ],
            "type": "contour"
           }
          ],
          "contourcarpet": [
           {
            "colorbar": {
             "outlinewidth": 0,
             "ticks": ""
            },
            "type": "contourcarpet"
           }
          ],
          "heatmap": [
           {
            "colorbar": {
             "outlinewidth": 0,
             "ticks": ""
            },
            "colorscale": [
             [
              0,
              "#0d0887"
             ],
             [
              0.1111111111111111,
              "#46039f"
             ],
             [
              0.2222222222222222,
              "#7201a8"
             ],
             [
              0.3333333333333333,
              "#9c179e"
             ],
             [
              0.4444444444444444,
              "#bd3786"
             ],
             [
              0.5555555555555556,
              "#d8576b"
             ],
             [
              0.6666666666666666,
              "#ed7953"
             ],
             [
              0.7777777777777778,
              "#fb9f3a"
             ],
             [
              0.8888888888888888,
              "#fdca26"
             ],
             [
              1,
              "#f0f921"
             ]
            ],
            "type": "heatmap"
           }
          ],
          "heatmapgl": [
           {
            "colorbar": {
             "outlinewidth": 0,
             "ticks": ""
            },
            "colorscale": [
             [
              0,
              "#0d0887"
             ],
             [
              0.1111111111111111,
              "#46039f"
             ],
             [
              0.2222222222222222,
              "#7201a8"
             ],
             [
              0.3333333333333333,
              "#9c179e"
             ],
             [
              0.4444444444444444,
              "#bd3786"
             ],
             [
              0.5555555555555556,
              "#d8576b"
             ],
             [
              0.6666666666666666,
              "#ed7953"
             ],
             [
              0.7777777777777778,
              "#fb9f3a"
             ],
             [
              0.8888888888888888,
              "#fdca26"
             ],
             [
              1,
              "#f0f921"
             ]
            ],
            "type": "heatmapgl"
           }
          ],
          "histogram": [
           {
            "marker": {
             "pattern": {
              "fillmode": "overlay",
              "size": 10,
              "solidity": 0.2
             }
            },
            "type": "histogram"
           }
          ],
          "histogram2d": [
           {
            "colorbar": {
             "outlinewidth": 0,
             "ticks": ""
            },
            "colorscale": [
             [
              0,
              "#0d0887"
             ],
             [
              0.1111111111111111,
              "#46039f"
             ],
             [
              0.2222222222222222,
              "#7201a8"
             ],
             [
              0.3333333333333333,
              "#9c179e"
             ],
             [
              0.4444444444444444,
              "#bd3786"
             ],
             [
              0.5555555555555556,
              "#d8576b"
             ],
             [
              0.6666666666666666,
              "#ed7953"
             ],
             [
              0.7777777777777778,
              "#fb9f3a"
             ],
             [
              0.8888888888888888,
              "#fdca26"
             ],
             [
              1,
              "#f0f921"
             ]
            ],
            "type": "histogram2d"
           }
          ],
          "histogram2dcontour": [
           {
            "colorbar": {
             "outlinewidth": 0,
             "ticks": ""
            },
            "colorscale": [
             [
              0,
              "#0d0887"
             ],
             [
              0.1111111111111111,
              "#46039f"
             ],
             [
              0.2222222222222222,
              "#7201a8"
             ],
             [
              0.3333333333333333,
              "#9c179e"
             ],
             [
              0.4444444444444444,
              "#bd3786"
             ],
             [
              0.5555555555555556,
              "#d8576b"
             ],
             [
              0.6666666666666666,
              "#ed7953"
             ],
             [
              0.7777777777777778,
              "#fb9f3a"
             ],
             [
              0.8888888888888888,
              "#fdca26"
             ],
             [
              1,
              "#f0f921"
             ]
            ],
            "type": "histogram2dcontour"
           }
          ],
          "mesh3d": [
           {
            "colorbar": {
             "outlinewidth": 0,
             "ticks": ""
            },
            "type": "mesh3d"
           }
          ],
          "parcoords": [
           {
            "line": {
             "colorbar": {
              "outlinewidth": 0,
              "ticks": ""
             }
            },
            "type": "parcoords"
           }
          ],
          "pie": [
           {
            "automargin": true,
            "type": "pie"
           }
          ],
          "scatter": [
           {
            "marker": {
             "line": {
              "color": "#283442"
             }
            },
            "type": "scatter"
           }
          ],
          "scatter3d": [
           {
            "line": {
             "colorbar": {
              "outlinewidth": 0,
              "ticks": ""
             }
            },
            "marker": {
             "colorbar": {
              "outlinewidth": 0,
              "ticks": ""
             }
            },
            "type": "scatter3d"
           }
          ],
          "scattercarpet": [
           {
            "marker": {
             "colorbar": {
              "outlinewidth": 0,
              "ticks": ""
             }
            },
            "type": "scattercarpet"
           }
          ],
          "scattergeo": [
           {
            "marker": {
             "colorbar": {
              "outlinewidth": 0,
              "ticks": ""
             }
            },
            "type": "scattergeo"
           }
          ],
          "scattergl": [
           {
            "marker": {
             "line": {
              "color": "#283442"
             }
            },
            "type": "scattergl"
           }
          ],
          "scattermapbox": [
           {
            "marker": {
             "colorbar": {
              "outlinewidth": 0,
              "ticks": ""
             }
            },
            "type": "scattermapbox"
           }
          ],
          "scatterpolar": [
           {
            "marker": {
             "colorbar": {
              "outlinewidth": 0,
              "ticks": ""
             }
            },
            "type": "scatterpolar"
           }
          ],
          "scatterpolargl": [
           {
            "marker": {
             "colorbar": {
              "outlinewidth": 0,
              "ticks": ""
             }
            },
            "type": "scatterpolargl"
           }
          ],
          "scatterternary": [
           {
            "marker": {
             "colorbar": {
              "outlinewidth": 0,
              "ticks": ""
             }
            },
            "type": "scatterternary"
           }
          ],
          "surface": [
           {
            "colorbar": {
             "outlinewidth": 0,
             "ticks": ""
            },
            "colorscale": [
             [
              0,
              "#0d0887"
             ],
             [
              0.1111111111111111,
              "#46039f"
             ],
             [
              0.2222222222222222,
              "#7201a8"
             ],
             [
              0.3333333333333333,
              "#9c179e"
             ],
             [
              0.4444444444444444,
              "#bd3786"
             ],
             [
              0.5555555555555556,
              "#d8576b"
             ],
             [
              0.6666666666666666,
              "#ed7953"
             ],
             [
              0.7777777777777778,
              "#fb9f3a"
             ],
             [
              0.8888888888888888,
              "#fdca26"
             ],
             [
              1,
              "#f0f921"
             ]
            ],
            "type": "surface"
           }
          ],
          "table": [
           {
            "cells": {
             "fill": {
              "color": "#506784"
             },
             "line": {
              "color": "rgb(17,17,17)"
             }
            },
            "header": {
             "fill": {
              "color": "#2a3f5f"
             },
             "line": {
              "color": "rgb(17,17,17)"
             }
            },
            "type": "table"
           }
          ]
         },
         "layout": {
          "annotationdefaults": {
           "arrowcolor": "#f2f5fa",
           "arrowhead": 0,
           "arrowwidth": 1
          },
          "autotypenumbers": "strict",
          "coloraxis": {
           "colorbar": {
            "outlinewidth": 0,
            "ticks": ""
           }
          },
          "colorscale": {
           "diverging": [
            [
             0,
             "#8e0152"
            ],
            [
             0.1,
             "#c51b7d"
            ],
            [
             0.2,
             "#de77ae"
            ],
            [
             0.3,
             "#f1b6da"
            ],
            [
             0.4,
             "#fde0ef"
            ],
            [
             0.5,
             "#f7f7f7"
            ],
            [
             0.6,
             "#e6f5d0"
            ],
            [
             0.7,
             "#b8e186"
            ],
            [
             0.8,
             "#7fbc41"
            ],
            [
             0.9,
             "#4d9221"
            ],
            [
             1,
             "#276419"
            ]
           ],
           "sequential": [
            [
             0,
             "#0d0887"
            ],
            [
             0.1111111111111111,
             "#46039f"
            ],
            [
             0.2222222222222222,
             "#7201a8"
            ],
            [
             0.3333333333333333,
             "#9c179e"
            ],
            [
             0.4444444444444444,
             "#bd3786"
            ],
            [
             0.5555555555555556,
             "#d8576b"
            ],
            [
             0.6666666666666666,
             "#ed7953"
            ],
            [
             0.7777777777777778,
             "#fb9f3a"
            ],
            [
             0.8888888888888888,
             "#fdca26"
            ],
            [
             1,
             "#f0f921"
            ]
           ],
           "sequentialminus": [
            [
             0,
             "#0d0887"
            ],
            [
             0.1111111111111111,
             "#46039f"
            ],
            [
             0.2222222222222222,
             "#7201a8"
            ],
            [
             0.3333333333333333,
             "#9c179e"
            ],
            [
             0.4444444444444444,
             "#bd3786"
            ],
            [
             0.5555555555555556,
             "#d8576b"
            ],
            [
             0.6666666666666666,
             "#ed7953"
            ],
            [
             0.7777777777777778,
             "#fb9f3a"
            ],
            [
             0.8888888888888888,
             "#fdca26"
            ],
            [
             1,
             "#f0f921"
            ]
           ]
          },
          "colorway": [
           "#636efa",
           "#EF553B",
           "#00cc96",
           "#ab63fa",
           "#FFA15A",
           "#19d3f3",
           "#FF6692",
           "#B6E880",
           "#FF97FF",
           "#FECB52"
          ],
          "font": {
           "color": "#f2f5fa"
          },
          "geo": {
           "bgcolor": "rgb(17,17,17)",
           "lakecolor": "rgb(17,17,17)",
           "landcolor": "rgb(17,17,17)",
           "showlakes": true,
           "showland": true,
           "subunitcolor": "#506784"
          },
          "hoverlabel": {
           "align": "left"
          },
          "hovermode": "closest",
          "mapbox": {
           "style": "dark"
          },
          "paper_bgcolor": "rgb(17,17,17)",
          "plot_bgcolor": "rgb(17,17,17)",
          "polar": {
           "angularaxis": {
            "gridcolor": "#506784",
            "linecolor": "#506784",
            "ticks": ""
           },
           "bgcolor": "rgb(17,17,17)",
           "radialaxis": {
            "gridcolor": "#506784",
            "linecolor": "#506784",
            "ticks": ""
           }
          },
          "scene": {
           "xaxis": {
            "backgroundcolor": "rgb(17,17,17)",
            "gridcolor": "#506784",
            "gridwidth": 2,
            "linecolor": "#506784",
            "showbackground": true,
            "ticks": "",
            "zerolinecolor": "#C8D4E3"
           },
           "yaxis": {
            "backgroundcolor": "rgb(17,17,17)",
            "gridcolor": "#506784",
            "gridwidth": 2,
            "linecolor": "#506784",
            "showbackground": true,
            "ticks": "",
            "zerolinecolor": "#C8D4E3"
           },
           "zaxis": {
            "backgroundcolor": "rgb(17,17,17)",
            "gridcolor": "#506784",
            "gridwidth": 2,
            "linecolor": "#506784",
            "showbackground": true,
            "ticks": "",
            "zerolinecolor": "#C8D4E3"
           }
          },
          "shapedefaults": {
           "line": {
            "color": "#f2f5fa"
           }
          },
          "sliderdefaults": {
           "bgcolor": "#C8D4E3",
           "bordercolor": "rgb(17,17,17)",
           "borderwidth": 1,
           "tickwidth": 0
          },
          "ternary": {
           "aaxis": {
            "gridcolor": "#506784",
            "linecolor": "#506784",
            "ticks": ""
           },
           "baxis": {
            "gridcolor": "#506784",
            "linecolor": "#506784",
            "ticks": ""
           },
           "bgcolor": "rgb(17,17,17)",
           "caxis": {
            "gridcolor": "#506784",
            "linecolor": "#506784",
            "ticks": ""
           }
          },
          "title": {
           "x": 0.05
          },
          "updatemenudefaults": {
           "bgcolor": "#506784",
           "borderwidth": 0
          },
          "xaxis": {
           "automargin": true,
           "gridcolor": "#283442",
           "linecolor": "#506784",
           "ticks": "",
           "title": {
            "standoff": 15
           },
           "zerolinecolor": "#283442",
           "zerolinewidth": 2
          },
          "yaxis": {
           "automargin": true,
           "gridcolor": "#283442",
           "linecolor": "#506784",
           "ticks": "",
           "title": {
            "standoff": 15
           },
           "zerolinecolor": "#283442",
           "zerolinewidth": 2
          }
         }
        },
        "title": {
         "text": "Total Expense by Month"
        },
        "xaxis": {
         "anchor": "y",
         "domain": [
          0,
          1
         ],
         "title": {
          "text": "monthName"
         }
        },
        "yaxis": {
         "anchor": "x",
         "domain": [
          0,
          1
         ],
         "title": {
          "text": "cost"
         }
        }
       }
      }
     },
     "metadata": {},
     "output_type": "display_data"
    }
   ],
   "source": [
    "import plotly.express as px\n",
    "\n",
    "# Define the correct month order\n",
    "month_order = [\"Jan\", \"Feb\", \"Mar\", \"Apr\", \"May\", \"Jun\", \n",
    "               \"Jul\", \"Aug\", \"Sep\", \"Oct\", \"Nov\", \"Dec\"]\n",
    "\n",
    "# Sort the dataframe by month number to ensure correct order\n",
    "\n",
    "# df = df.filter(pl.col('controllable') > 0)\n",
    "\n",
    "# gr = df.filter(pl.col('category') == 'rent')\n",
    "\n",
    "gr = df.group_by([\"monthName\", 'month']).agg(pl.sum(\"cost\")) \n",
    "\n",
    "gr = gr.sort(\"month\")\n",
    "\n",
    "\n",
    "# Create the plot with an explicit category order\n",
    "fig = px.bar(gr.to_pandas(), x=\"monthName\", y=\"cost\",\n",
    "             title=\"Total Expense by Month\",\n",
    "             template='plotly_dark',\n",
    "             color_discrete_sequence=['#228B22'])\n",
    "            #  category_orders={\"monthName\": month_order},\n",
    "            #  text_auto=True)  # This adds text labels on top of the bars\n",
    "\n",
    "# # Add text labels for monthly totals\n",
    "fig.add_trace(go.Scatter(\n",
    "    x=gr[\"monthName\"], \n",
    "    y=gr[\"cost\"],\n",
    "    text=gr[\"cost\"].to_pandas().round(0).astype(int),\n",
    "    mode='text',  \n",
    "    textposition=\"top center\", \n",
    "    showlegend=False  # Hide legend for this trace\n",
    "))\n",
    "\n",
    "avg_cost = gr[\"cost\"].mean()\n",
    "\n",
    "fig.add_shape(\n",
    "    type=\"line\",\n",
    "    x0=month_order[0], x1=month_order[-1],  # Span the full width\n",
    "    y0=avg_cost, y1=avg_cost,  # Keep it at the average level\n",
    "    line=dict(color=\"white\", width=2, dash=\"dash\")  # Customize the line style\n",
    ")\n",
    "\n",
    "fig.add_annotation(\n",
    "    x=month_order[-1], y=avg_cost + (avg_cost * .1),\n",
    "    text=f\"Avg: {avg_cost:.0f}\",\n",
    "    showarrow=False,\n",
    "    font=dict(size=12, color=\"white\")\n",
    ")\n",
    "\n",
    "fig.show()"
   ]
  },
  {
   "cell_type": "markdown",
   "id": "b9744540",
   "metadata": {},
   "source": [
    "# Day of week"
   ]
  },
  {
   "cell_type": "code",
   "execution_count": 207,
   "id": "a4ef47a3",
   "metadata": {},
   "outputs": [
    {
     "data": {
      "application/vnd.plotly.v1+json": {
       "config": {
        "plotlyServerURL": "https://plot.ly"
       },
       "data": [
        {
         "alignmentgroup": "True",
         "hovertemplate": "weekDay=%{x}<br>cost=%{y}<extra></extra>",
         "legendgroup": "",
         "marker": {
          "color": "#228B22",
          "pattern": {
           "shape": ""
          }
         },
         "name": "",
         "offsetgroup": "",
         "orientation": "v",
         "showlegend": false,
         "textposition": "auto",
         "type": "bar",
         "x": [
          "Fri",
          "Mon",
          "Sat",
          "Sun",
          "Thu",
          "Tue",
          "Wed"
         ],
         "xaxis": "x",
         "y": [
          554.2099999999999,
          345.56,
          271.05,
          199.13000000000002,
          469.80000000000007,
          217.12,
          214.01999999999998
         ],
         "yaxis": "y"
        },
        {
         "mode": "text",
         "showlegend": false,
         "text": [
          554,
          346,
          271,
          199,
          470,
          217,
          214
         ],
         "textposition": "top center",
         "type": "scatter",
         "x": [
          "Fri",
          "Mon",
          "Sat",
          "Sun",
          "Thu",
          "Tue",
          "Wed"
         ],
         "y": [
          554.2099999999999,
          345.56,
          271.05,
          199.13000000000002,
          469.80000000000007,
          217.12,
          214.01999999999998
         ]
        }
       ],
       "layout": {
        "annotations": [
         {
          "font": {
           "color": "white",
           "size": 12
          },
          "showarrow": false,
          "text": "Avg: 324",
          "x": "Sun",
          "y": 524.4128571428571
         }
        ],
        "barmode": "relative",
        "legend": {
         "tracegroupgap": 0
        },
        "shapes": [
         {
          "line": {
           "color": "white",
           "dash": "dash",
           "width": 2
          },
          "type": "line",
          "x0": "Mon",
          "x1": "Sun",
          "y0": 324.41285714285715,
          "y1": 324.41285714285715
         }
        ],
        "template": {
         "data": {
          "bar": [
           {
            "error_x": {
             "color": "#f2f5fa"
            },
            "error_y": {
             "color": "#f2f5fa"
            },
            "marker": {
             "line": {
              "color": "rgb(17,17,17)",
              "width": 0.5
             },
             "pattern": {
              "fillmode": "overlay",
              "size": 10,
              "solidity": 0.2
             }
            },
            "type": "bar"
           }
          ],
          "barpolar": [
           {
            "marker": {
             "line": {
              "color": "rgb(17,17,17)",
              "width": 0.5
             },
             "pattern": {
              "fillmode": "overlay",
              "size": 10,
              "solidity": 0.2
             }
            },
            "type": "barpolar"
           }
          ],
          "carpet": [
           {
            "aaxis": {
             "endlinecolor": "#A2B1C6",
             "gridcolor": "#506784",
             "linecolor": "#506784",
             "minorgridcolor": "#506784",
             "startlinecolor": "#A2B1C6"
            },
            "baxis": {
             "endlinecolor": "#A2B1C6",
             "gridcolor": "#506784",
             "linecolor": "#506784",
             "minorgridcolor": "#506784",
             "startlinecolor": "#A2B1C6"
            },
            "type": "carpet"
           }
          ],
          "choropleth": [
           {
            "colorbar": {
             "outlinewidth": 0,
             "ticks": ""
            },
            "type": "choropleth"
           }
          ],
          "contour": [
           {
            "colorbar": {
             "outlinewidth": 0,
             "ticks": ""
            },
            "colorscale": [
             [
              0,
              "#0d0887"
             ],
             [
              0.1111111111111111,
              "#46039f"
             ],
             [
              0.2222222222222222,
              "#7201a8"
             ],
             [
              0.3333333333333333,
              "#9c179e"
             ],
             [
              0.4444444444444444,
              "#bd3786"
             ],
             [
              0.5555555555555556,
              "#d8576b"
             ],
             [
              0.6666666666666666,
              "#ed7953"
             ],
             [
              0.7777777777777778,
              "#fb9f3a"
             ],
             [
              0.8888888888888888,
              "#fdca26"
             ],
             [
              1,
              "#f0f921"
             ]
            ],
            "type": "contour"
           }
          ],
          "contourcarpet": [
           {
            "colorbar": {
             "outlinewidth": 0,
             "ticks": ""
            },
            "type": "contourcarpet"
           }
          ],
          "heatmap": [
           {
            "colorbar": {
             "outlinewidth": 0,
             "ticks": ""
            },
            "colorscale": [
             [
              0,
              "#0d0887"
             ],
             [
              0.1111111111111111,
              "#46039f"
             ],
             [
              0.2222222222222222,
              "#7201a8"
             ],
             [
              0.3333333333333333,
              "#9c179e"
             ],
             [
              0.4444444444444444,
              "#bd3786"
             ],
             [
              0.5555555555555556,
              "#d8576b"
             ],
             [
              0.6666666666666666,
              "#ed7953"
             ],
             [
              0.7777777777777778,
              "#fb9f3a"
             ],
             [
              0.8888888888888888,
              "#fdca26"
             ],
             [
              1,
              "#f0f921"
             ]
            ],
            "type": "heatmap"
           }
          ],
          "heatmapgl": [
           {
            "colorbar": {
             "outlinewidth": 0,
             "ticks": ""
            },
            "colorscale": [
             [
              0,
              "#0d0887"
             ],
             [
              0.1111111111111111,
              "#46039f"
             ],
             [
              0.2222222222222222,
              "#7201a8"
             ],
             [
              0.3333333333333333,
              "#9c179e"
             ],
             [
              0.4444444444444444,
              "#bd3786"
             ],
             [
              0.5555555555555556,
              "#d8576b"
             ],
             [
              0.6666666666666666,
              "#ed7953"
             ],
             [
              0.7777777777777778,
              "#fb9f3a"
             ],
             [
              0.8888888888888888,
              "#fdca26"
             ],
             [
              1,
              "#f0f921"
             ]
            ],
            "type": "heatmapgl"
           }
          ],
          "histogram": [
           {
            "marker": {
             "pattern": {
              "fillmode": "overlay",
              "size": 10,
              "solidity": 0.2
             }
            },
            "type": "histogram"
           }
          ],
          "histogram2d": [
           {
            "colorbar": {
             "outlinewidth": 0,
             "ticks": ""
            },
            "colorscale": [
             [
              0,
              "#0d0887"
             ],
             [
              0.1111111111111111,
              "#46039f"
             ],
             [
              0.2222222222222222,
              "#7201a8"
             ],
             [
              0.3333333333333333,
              "#9c179e"
             ],
             [
              0.4444444444444444,
              "#bd3786"
             ],
             [
              0.5555555555555556,
              "#d8576b"
             ],
             [
              0.6666666666666666,
              "#ed7953"
             ],
             [
              0.7777777777777778,
              "#fb9f3a"
             ],
             [
              0.8888888888888888,
              "#fdca26"
             ],
             [
              1,
              "#f0f921"
             ]
            ],
            "type": "histogram2d"
           }
          ],
          "histogram2dcontour": [
           {
            "colorbar": {
             "outlinewidth": 0,
             "ticks": ""
            },
            "colorscale": [
             [
              0,
              "#0d0887"
             ],
             [
              0.1111111111111111,
              "#46039f"
             ],
             [
              0.2222222222222222,
              "#7201a8"
             ],
             [
              0.3333333333333333,
              "#9c179e"
             ],
             [
              0.4444444444444444,
              "#bd3786"
             ],
             [
              0.5555555555555556,
              "#d8576b"
             ],
             [
              0.6666666666666666,
              "#ed7953"
             ],
             [
              0.7777777777777778,
              "#fb9f3a"
             ],
             [
              0.8888888888888888,
              "#fdca26"
             ],
             [
              1,
              "#f0f921"
             ]
            ],
            "type": "histogram2dcontour"
           }
          ],
          "mesh3d": [
           {
            "colorbar": {
             "outlinewidth": 0,
             "ticks": ""
            },
            "type": "mesh3d"
           }
          ],
          "parcoords": [
           {
            "line": {
             "colorbar": {
              "outlinewidth": 0,
              "ticks": ""
             }
            },
            "type": "parcoords"
           }
          ],
          "pie": [
           {
            "automargin": true,
            "type": "pie"
           }
          ],
          "scatter": [
           {
            "marker": {
             "line": {
              "color": "#283442"
             }
            },
            "type": "scatter"
           }
          ],
          "scatter3d": [
           {
            "line": {
             "colorbar": {
              "outlinewidth": 0,
              "ticks": ""
             }
            },
            "marker": {
             "colorbar": {
              "outlinewidth": 0,
              "ticks": ""
             }
            },
            "type": "scatter3d"
           }
          ],
          "scattercarpet": [
           {
            "marker": {
             "colorbar": {
              "outlinewidth": 0,
              "ticks": ""
             }
            },
            "type": "scattercarpet"
           }
          ],
          "scattergeo": [
           {
            "marker": {
             "colorbar": {
              "outlinewidth": 0,
              "ticks": ""
             }
            },
            "type": "scattergeo"
           }
          ],
          "scattergl": [
           {
            "marker": {
             "line": {
              "color": "#283442"
             }
            },
            "type": "scattergl"
           }
          ],
          "scattermapbox": [
           {
            "marker": {
             "colorbar": {
              "outlinewidth": 0,
              "ticks": ""
             }
            },
            "type": "scattermapbox"
           }
          ],
          "scatterpolar": [
           {
            "marker": {
             "colorbar": {
              "outlinewidth": 0,
              "ticks": ""
             }
            },
            "type": "scatterpolar"
           }
          ],
          "scatterpolargl": [
           {
            "marker": {
             "colorbar": {
              "outlinewidth": 0,
              "ticks": ""
             }
            },
            "type": "scatterpolargl"
           }
          ],
          "scatterternary": [
           {
            "marker": {
             "colorbar": {
              "outlinewidth": 0,
              "ticks": ""
             }
            },
            "type": "scatterternary"
           }
          ],
          "surface": [
           {
            "colorbar": {
             "outlinewidth": 0,
             "ticks": ""
            },
            "colorscale": [
             [
              0,
              "#0d0887"
             ],
             [
              0.1111111111111111,
              "#46039f"
             ],
             [
              0.2222222222222222,
              "#7201a8"
             ],
             [
              0.3333333333333333,
              "#9c179e"
             ],
             [
              0.4444444444444444,
              "#bd3786"
             ],
             [
              0.5555555555555556,
              "#d8576b"
             ],
             [
              0.6666666666666666,
              "#ed7953"
             ],
             [
              0.7777777777777778,
              "#fb9f3a"
             ],
             [
              0.8888888888888888,
              "#fdca26"
             ],
             [
              1,
              "#f0f921"
             ]
            ],
            "type": "surface"
           }
          ],
          "table": [
           {
            "cells": {
             "fill": {
              "color": "#506784"
             },
             "line": {
              "color": "rgb(17,17,17)"
             }
            },
            "header": {
             "fill": {
              "color": "#2a3f5f"
             },
             "line": {
              "color": "rgb(17,17,17)"
             }
            },
            "type": "table"
           }
          ]
         },
         "layout": {
          "annotationdefaults": {
           "arrowcolor": "#f2f5fa",
           "arrowhead": 0,
           "arrowwidth": 1
          },
          "autotypenumbers": "strict",
          "coloraxis": {
           "colorbar": {
            "outlinewidth": 0,
            "ticks": ""
           }
          },
          "colorscale": {
           "diverging": [
            [
             0,
             "#8e0152"
            ],
            [
             0.1,
             "#c51b7d"
            ],
            [
             0.2,
             "#de77ae"
            ],
            [
             0.3,
             "#f1b6da"
            ],
            [
             0.4,
             "#fde0ef"
            ],
            [
             0.5,
             "#f7f7f7"
            ],
            [
             0.6,
             "#e6f5d0"
            ],
            [
             0.7,
             "#b8e186"
            ],
            [
             0.8,
             "#7fbc41"
            ],
            [
             0.9,
             "#4d9221"
            ],
            [
             1,
             "#276419"
            ]
           ],
           "sequential": [
            [
             0,
             "#0d0887"
            ],
            [
             0.1111111111111111,
             "#46039f"
            ],
            [
             0.2222222222222222,
             "#7201a8"
            ],
            [
             0.3333333333333333,
             "#9c179e"
            ],
            [
             0.4444444444444444,
             "#bd3786"
            ],
            [
             0.5555555555555556,
             "#d8576b"
            ],
            [
             0.6666666666666666,
             "#ed7953"
            ],
            [
             0.7777777777777778,
             "#fb9f3a"
            ],
            [
             0.8888888888888888,
             "#fdca26"
            ],
            [
             1,
             "#f0f921"
            ]
           ],
           "sequentialminus": [
            [
             0,
             "#0d0887"
            ],
            [
             0.1111111111111111,
             "#46039f"
            ],
            [
             0.2222222222222222,
             "#7201a8"
            ],
            [
             0.3333333333333333,
             "#9c179e"
            ],
            [
             0.4444444444444444,
             "#bd3786"
            ],
            [
             0.5555555555555556,
             "#d8576b"
            ],
            [
             0.6666666666666666,
             "#ed7953"
            ],
            [
             0.7777777777777778,
             "#fb9f3a"
            ],
            [
             0.8888888888888888,
             "#fdca26"
            ],
            [
             1,
             "#f0f921"
            ]
           ]
          },
          "colorway": [
           "#636efa",
           "#EF553B",
           "#00cc96",
           "#ab63fa",
           "#FFA15A",
           "#19d3f3",
           "#FF6692",
           "#B6E880",
           "#FF97FF",
           "#FECB52"
          ],
          "font": {
           "color": "#f2f5fa"
          },
          "geo": {
           "bgcolor": "rgb(17,17,17)",
           "lakecolor": "rgb(17,17,17)",
           "landcolor": "rgb(17,17,17)",
           "showlakes": true,
           "showland": true,
           "subunitcolor": "#506784"
          },
          "hoverlabel": {
           "align": "left"
          },
          "hovermode": "closest",
          "mapbox": {
           "style": "dark"
          },
          "paper_bgcolor": "rgb(17,17,17)",
          "plot_bgcolor": "rgb(17,17,17)",
          "polar": {
           "angularaxis": {
            "gridcolor": "#506784",
            "linecolor": "#506784",
            "ticks": ""
           },
           "bgcolor": "rgb(17,17,17)",
           "radialaxis": {
            "gridcolor": "#506784",
            "linecolor": "#506784",
            "ticks": ""
           }
          },
          "scene": {
           "xaxis": {
            "backgroundcolor": "rgb(17,17,17)",
            "gridcolor": "#506784",
            "gridwidth": 2,
            "linecolor": "#506784",
            "showbackground": true,
            "ticks": "",
            "zerolinecolor": "#C8D4E3"
           },
           "yaxis": {
            "backgroundcolor": "rgb(17,17,17)",
            "gridcolor": "#506784",
            "gridwidth": 2,
            "linecolor": "#506784",
            "showbackground": true,
            "ticks": "",
            "zerolinecolor": "#C8D4E3"
           },
           "zaxis": {
            "backgroundcolor": "rgb(17,17,17)",
            "gridcolor": "#506784",
            "gridwidth": 2,
            "linecolor": "#506784",
            "showbackground": true,
            "ticks": "",
            "zerolinecolor": "#C8D4E3"
           }
          },
          "shapedefaults": {
           "line": {
            "color": "#f2f5fa"
           }
          },
          "sliderdefaults": {
           "bgcolor": "#C8D4E3",
           "bordercolor": "rgb(17,17,17)",
           "borderwidth": 1,
           "tickwidth": 0
          },
          "ternary": {
           "aaxis": {
            "gridcolor": "#506784",
            "linecolor": "#506784",
            "ticks": ""
           },
           "baxis": {
            "gridcolor": "#506784",
            "linecolor": "#506784",
            "ticks": ""
           },
           "bgcolor": "rgb(17,17,17)",
           "caxis": {
            "gridcolor": "#506784",
            "linecolor": "#506784",
            "ticks": ""
           }
          },
          "title": {
           "x": 0.05
          },
          "updatemenudefaults": {
           "bgcolor": "#506784",
           "borderwidth": 0
          },
          "xaxis": {
           "automargin": true,
           "gridcolor": "#283442",
           "linecolor": "#506784",
           "ticks": "",
           "title": {
            "standoff": 15
           },
           "zerolinecolor": "#283442",
           "zerolinewidth": 2
          },
          "yaxis": {
           "automargin": true,
           "gridcolor": "#283442",
           "linecolor": "#506784",
           "ticks": "",
           "title": {
            "standoff": 15
           },
           "zerolinecolor": "#283442",
           "zerolinewidth": 2
          }
         }
        },
        "title": {
         "text": "Total Expense by Month"
        },
        "xaxis": {
         "anchor": "y",
         "categoryarray": [
          "Mon",
          "Tue",
          "Wed",
          "Thu",
          "Fri",
          "Sat",
          "Sun"
         ],
         "categoryorder": "array",
         "domain": [
          0,
          1
         ],
         "title": {
          "text": "weekDay"
         }
        },
        "yaxis": {
         "anchor": "x",
         "domain": [
          0,
          1
         ],
         "title": {
          "text": "cost"
         }
        }
       }
      }
     },
     "metadata": {},
     "output_type": "display_data"
    }
   ],
   "source": [
    "import plotly.express as px\n",
    "\n",
    "# Define the correct month order\n",
    "month_order = [\"Mon\", 'Tue', 'Wed', 'Thu', 'Fri', 'Sat', 'Sun']\n",
    "\n",
    "# Sort the dataframe by month number to ensure correct order\n",
    "\n",
    "# df = df.filter(pl.col('controllable') > 0)\n",
    "\n",
    "# gr = df.filter(pl.col('category') == 'gas')\n",
    "\n",
    "gr = df.group_by(['weekDay']).agg(pl.sum(\"cost\")) \n",
    "\n",
    "gr = gr.sort(\"weekDay\")\n",
    "\n",
    "\n",
    "# Create the plot with an explicit category order\n",
    "fig = px.bar(gr.to_pandas(), x=\"weekDay\", y=\"cost\",\n",
    "             title=\"Total Expense by Month\",\n",
    "             template='plotly_dark',\n",
    "             color_discrete_sequence=['#228B22'],\n",
    "             category_orders={\"weekDay\": month_order},)\n",
    "            #  text_auto=True)  # This adds text labels on top of the bars\n",
    "\n",
    "# # Add text labels for monthly totals\n",
    "fig.add_trace(go.Scatter(\n",
    "    x=gr[\"weekDay\"], \n",
    "    y=gr[\"cost\"],\n",
    "    text=gr[\"cost\"].to_pandas().round(0).astype(int),\n",
    "    mode='text',  \n",
    "    textposition=\"top center\", \n",
    "    showlegend=False  # Hide legend for this trace\n",
    "))\n",
    "\n",
    "avg_cost = gr[\"cost\"].mean()\n",
    "\n",
    "fig.add_shape(\n",
    "    type=\"line\",\n",
    "    x0=month_order[0], x1=month_order[-1],  # Span the full width\n",
    "    y0=avg_cost, y1=avg_cost,  # Keep it at the average level\n",
    "    line=dict(color=\"white\", width=2, dash=\"dash\")  # Customize the line style\n",
    ")\n",
    "\n",
    "# Add a text annotation to label the line\n",
    "fig.add_annotation(\n",
    "    x=month_order[-1], y=avg_cost + 200,\n",
    "    text=f\"Avg: {avg_cost:.0f}\",  # Format to round off decimals\n",
    "    showarrow=False,\n",
    "    font=dict(size=12, color=\"white\")\n",
    ")\n",
    "\n",
    "fig.show()"
   ]
  },
  {
   "cell_type": "markdown",
   "id": "0c5c525f",
   "metadata": {},
   "source": [
    "#### Unknowns"
   ]
  },
  {
   "cell_type": "code",
   "execution_count": 208,
   "id": "e52c8022",
   "metadata": {},
   "outputs": [
    {
     "data": {
      "text/plain": [
       "[]"
      ]
     },
     "execution_count": 208,
     "metadata": {},
     "output_type": "execute_result"
    }
   ],
   "source": [
    "list(df.filter(pl.col('category') == 'unknown')['description'].unique())"
   ]
  },
  {
   "cell_type": "code",
   "execution_count": 209,
   "id": "02b00a9e",
   "metadata": {},
   "outputs": [
    {
     "data": {
      "text/plain": [
       "[]"
      ]
     },
     "execution_count": 209,
     "metadata": {},
     "output_type": "execute_result"
    }
   ],
   "source": [
    "list(df.filter((pl.col('category') == 'unknown') & (pl.col('month') == 2))['description'].unique())\n"
   ]
  },
  {
   "cell_type": "markdown",
   "id": "aa832a01",
   "metadata": {},
   "source": [
    "#### Junk"
   ]
  },
  {
   "cell_type": "code",
   "execution_count": null,
   "id": "04c88e75",
   "metadata": {},
   "outputs": [],
   "source": []
  }
 ],
 "metadata": {
  "kernelspec": {
   "display_name": "Python 3",
   "language": "python",
   "name": "python3"
  },
  "language_info": {
   "codemirror_mode": {
    "name": "ipython",
    "version": 3
   },
   "file_extension": ".py",
   "mimetype": "text/x-python",
   "name": "python",
   "nbconvert_exporter": "python",
   "pygments_lexer": "ipython3",
   "version": "3.10.8"
  }
 },
 "nbformat": 4,
 "nbformat_minor": 5
}
