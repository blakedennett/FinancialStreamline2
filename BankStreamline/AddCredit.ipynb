{
 "cells": [
  {
   "cell_type": "markdown",
   "id": "9bed8f81",
   "metadata": {},
   "source": [
    "#### Notes for later"
   ]
  },
  {
   "cell_type": "code",
   "execution_count": 1,
   "id": "7e231118",
   "metadata": {},
   "outputs": [],
   "source": [
    "import polars as pl\n",
    "import plotly.express as px\n",
    "import pandas as pd\n",
    "import plotly.graph_objects as go\n",
    "import matplotlib.pyplot as plt\n",
    "from matplotlib.dates import DateFormatter, date2num\n",
    "import time"
   ]
  },
  {
   "cell_type": "markdown",
   "id": "7a2f2b87",
   "metadata": {},
   "source": [
    "## Pull from file / make dates"
   ]
  },
  {
   "cell_type": "code",
   "execution_count": 2,
   "id": "f6cb0fcd",
   "metadata": {},
   "outputs": [
    {
     "data": {
      "text/html": [
       "<div><style>\n",
       ".dataframe > thead > tr > th,\n",
       ".dataframe > tbody > tr > td {\n",
       "  text-align: right;\n",
       "  white-space: pre-wrap;\n",
       "}\n",
       "</style>\n",
       "<small>shape: (10, 11)</small><table border=\"1\" class=\"dataframe\"><thead><tr><th>Post Date</th><th>description</th><th>cost</th><th>month</th><th>day</th><th>year</th><th>date</th><th>monthName</th><th>weekDay</th><th>quarter</th><th>cardType</th></tr><tr><td>str</td><td>str</td><td>f64</td><td>i32</td><td>i32</td><td>i32</td><td>str</td><td>str</td><td>str</td><td>u32</td><td>str</td></tr></thead><tbody><tr><td>&quot;4/30/2025&quot;</td><td>&quot;EL DORADO 7002…</td><td>20.32</td><td>4</td><td>30</td><td>2025</td><td>&quot;2025-4-30&quot;</td><td>&quot;Apr&quot;</td><td>&quot;Wed&quot;</td><td>2</td><td>&quot;Credit&quot;</td></tr><tr><td>&quot;4/30/2025&quot;</td><td>&quot;4TE*SOUTH ARKA…</td><td>206.1</td><td>4</td><td>30</td><td>2025</td><td>&quot;2025-4-30&quot;</td><td>&quot;Apr&quot;</td><td>&quot;Wed&quot;</td><td>2</td><td>&quot;Credit&quot;</td></tr><tr><td>&quot;4/28/2025&quot;</td><td>&quot;DOLLAR GENERAL…</td><td>6.78</td><td>4</td><td>28</td><td>2025</td><td>&quot;2025-4-28&quot;</td><td>&quot;Apr&quot;</td><td>&quot;Mon&quot;</td><td>2</td><td>&quot;Credit&quot;</td></tr><tr><td>&quot;4/25/2025&quot;</td><td>&quot;CORNER POST   …</td><td>12.23</td><td>4</td><td>25</td><td>2025</td><td>&quot;2025-4-25&quot;</td><td>&quot;Apr&quot;</td><td>&quot;Fri&quot;</td><td>2</td><td>&quot;Credit&quot;</td></tr><tr><td>&quot;4/24/2025&quot;</td><td>&quot;AR.GOV/STPAYME…</td><td>22.61</td><td>4</td><td>24</td><td>2025</td><td>&quot;2025-4-24&quot;</td><td>&quot;Apr&quot;</td><td>&quot;Thu&quot;</td><td>2</td><td>&quot;Credit&quot;</td></tr><tr><td>&quot;4/24/2025&quot;</td><td>&quot;AR.GOV/STPAYME…</td><td>22.61</td><td>4</td><td>24</td><td>2025</td><td>&quot;2025-4-24&quot;</td><td>&quot;Apr&quot;</td><td>&quot;Thu&quot;</td><td>2</td><td>&quot;Credit&quot;</td></tr><tr><td>&quot;4/24/2025&quot;</td><td>&quot;MELVINS DISCOU…</td><td>18.89</td><td>4</td><td>24</td><td>2025</td><td>&quot;2025-4-24&quot;</td><td>&quot;Apr&quot;</td><td>&quot;Thu&quot;</td><td>2</td><td>&quot;Credit&quot;</td></tr><tr><td>&quot;4/23/2025&quot;</td><td>&quot;MURPHY7520ATWA…</td><td>29.41</td><td>4</td><td>23</td><td>2025</td><td>&quot;2025-4-23&quot;</td><td>&quot;Apr&quot;</td><td>&quot;Wed&quot;</td><td>2</td><td>&quot;Credit&quot;</td></tr><tr><td>&quot;4/22/2025&quot;</td><td>&quot;WAL-MART #0530…</td><td>38.99</td><td>4</td><td>22</td><td>2025</td><td>&quot;2025-4-22&quot;</td><td>&quot;Apr&quot;</td><td>&quot;Tue&quot;</td><td>2</td><td>&quot;Credit&quot;</td></tr><tr><td>&quot;4/22/2025&quot;</td><td>&quot;AUTOZONE #0159…</td><td>10.96</td><td>4</td><td>22</td><td>2025</td><td>&quot;2025-4-22&quot;</td><td>&quot;Apr&quot;</td><td>&quot;Tue&quot;</td><td>2</td><td>&quot;Credit&quot;</td></tr></tbody></table></div>"
      ],
      "text/plain": [
       "shape: (10, 11)\n",
       "┌───────────┬───────────────────────┬───────┬───────┬───┬───────────┬─────────┬─────────┬──────────┐\n",
       "│ Post Date ┆ description           ┆ cost  ┆ month ┆ … ┆ monthName ┆ weekDay ┆ quarter ┆ cardType │\n",
       "│ ---       ┆ ---                   ┆ ---   ┆ ---   ┆   ┆ ---       ┆ ---     ┆ ---     ┆ ---      │\n",
       "│ str       ┆ str                   ┆ f64   ┆ i32   ┆   ┆ str       ┆ str     ┆ u32     ┆ str      │\n",
       "╞═══════════╪═══════════════════════╪═══════╪═══════╪═══╪═══════════╪═════════╪═════════╪══════════╡\n",
       "│ 4/30/2025 ┆ EL DORADO 7002 DSMV   ┆ 20.32 ┆ 4     ┆ … ┆ Apr       ┆ Wed     ┆ 2       ┆ Credit   │\n",
       "│           ┆ EL DORA…              ┆       ┆       ┆   ┆           ┆         ┆         ┆          │\n",
       "│ 4/30/2025 ┆ 4TE*SOUTH ARKANSAS    ┆ 206.1 ┆ 4     ┆ … ┆ Apr       ┆ Wed     ┆ 2       ┆ Credit   │\n",
       "│           ┆ REGION870-863…        ┆       ┆       ┆   ┆           ┆         ┆         ┆          │\n",
       "│ 4/28/2025 ┆ DOLLAR GENERAL #22817 ┆ 6.78  ┆ 4     ┆ … ┆ Apr       ┆ Mon     ┆ 2       ┆ Credit   │\n",
       "│           ┆ EL DORA…              ┆       ┆       ┆   ┆           ┆         ┆         ┆          │\n",
       "│ 4/25/2025 ┆ CORNER POST           ┆ 12.23 ┆ 4     ┆ … ┆ Apr       ┆ Fri     ┆ 2       ┆ Credit   │\n",
       "│           ┆ EL DORA…              ┆       ┆       ┆   ┆           ┆         ┆         ┆          │\n",
       "│ …         ┆ …                     ┆ …     ┆ …     ┆ … ┆ …         ┆ …       ┆ …       ┆ …        │\n",
       "│ 4/24/2025 ┆ MELVINS DISCOUNT      ┆ 18.89 ┆ 4     ┆ … ┆ Apr       ┆ Thu     ┆ 2       ┆ Credit   │\n",
       "│           ┆ PHARMACYEL DORA…      ┆       ┆       ┆   ┆           ┆         ┆         ┆          │\n",
       "│ 4/23/2025 ┆ MURPHY7520ATWALMART   ┆ 29.41 ┆ 4     ┆ … ┆ Apr       ┆ Wed     ┆ 2       ┆ Credit   │\n",
       "│           ┆ EL DORA…              ┆       ┆       ┆   ┆           ┆         ┆         ┆          │\n",
       "│ 4/22/2025 ┆ WAL-MART #0530        ┆ 38.99 ┆ 4     ┆ … ┆ Apr       ┆ Tue     ┆ 2       ┆ Credit   │\n",
       "│           ┆ EL DORA…              ┆       ┆       ┆   ┆           ┆         ┆         ┆          │\n",
       "│ 4/22/2025 ┆ AUTOZONE #0159        ┆ 10.96 ┆ 4     ┆ … ┆ Apr       ┆ Tue     ┆ 2       ┆ Credit   │\n",
       "│           ┆ EL DORA…              ┆       ┆       ┆   ┆           ┆         ┆         ┆          │\n",
       "└───────────┴───────────────────────┴───────┴───────┴───┴───────────┴─────────┴─────────┴──────────┘"
      ]
     },
     "execution_count": 2,
     "metadata": {},
     "output_type": "execute_result"
    }
   ],
   "source": [
    "last_month = time.localtime().tm_mon - 1\n",
    "\n",
    "current_yr = time.localtime().tm_year\n",
    "\n",
    "# handling if last month was January\n",
    "if last_month == 0:\n",
    "    last_month = 12\n",
    "    current_yr = current_yr - 1\n",
    "\n",
    "\n",
    "# current_month = 4\n",
    "# current_yr = 2025\n",
    "\n",
    "df = pl.read_csv(r'C:\\Users\\Blake Dennett\\Downloads\\StreamlineRepo\\FinancialStreamline\\BankStreamline\\Data\\CreditHistory.csv')\n",
    "\n",
    "\n",
    "# date work\n",
    "df = df.with_columns(pl.col(\"Post Date\")\n",
    "                        .str.split(\"/\")\n",
    "                        .alias(\"split_str\")\n",
    "                        .list.to_struct()) \\\n",
    "                        .unnest('split_str') \\\n",
    "                        .rename({'field_0':'month', 'field_1':'day', 'field_2':'year'}) \\\n",
    "                        .cast({'day':pl.Int32, 'month':pl.Int32, 'year':pl.Int32}) \\\n",
    "        .filter((pl.col('month') == last_month) & \n",
    "                (pl.col('year') == current_yr)) \\\n",
    "        .with_columns(date = pl.concat_str([pl.col('year').cast(pl.Utf8), pl.lit('-'), pl.col('month').cast(pl.Utf8), pl.lit('-'), pl.col('day').cast(pl.Utf8)], separator=\"\")) \\\n",
    "        .with_columns(monthName = pl.col(\"date\").str.strptime(pl.Date, \"%Y-%m-%d\").dt.strftime(\"%b\")) \\\n",
    "        .with_columns(weekDay = pl.col(\"date\").str.strptime(pl.Date, \"%Y-%m-%d\").dt.strftime(\"%a\")) \\\n",
    "        .with_columns(quarter = pl.col(\"date\").str.strptime(pl.Date, \"%Y-%m-%d\").dt.quarter())\n",
    "\n",
    "        \n",
    "# The gate/clean up        \n",
    "df = df.filter(pl.col('Amount') < 0) \\\n",
    "        .drop('Category', 'Reference Number') \\\n",
    "        .rename({'Amount':'cost', 'Description': 'description'}) \\\n",
    "        .with_columns(cardType = pl.lit('Credit')) \\\n",
    "        .with_columns(cost = abs(pl.col('cost')))\n",
    "\n",
    "\n",
    "df.limit(10)"
   ]
  },
  {
   "cell_type": "markdown",
   "id": "24723014",
   "metadata": {},
   "source": [
    "# Categorize"
   ]
  },
  {
   "cell_type": "code",
   "execution_count": null,
   "id": "33fa7e27",
   "metadata": {},
   "outputs": [
    {
     "data": {
      "text/html": [
       "<div><style>\n",
       ".dataframe > thead > tr > th,\n",
       ".dataframe > tbody > tr > td {\n",
       "  text-align: right;\n",
       "  white-space: pre-wrap;\n",
       "}\n",
       "</style>\n",
       "<small>shape: (10, 12)</small><table border=\"1\" class=\"dataframe\"><thead><tr><th>date</th><th>category</th><th>description</th><th>cost</th><th>controllable</th><th>monthName</th><th>month</th><th>day</th><th>year</th><th>weekDay</th><th>cardType</th><th>quarter</th></tr><tr><td>str</td><td>str</td><td>str</td><td>f64</td><td>i16</td><td>str</td><td>i32</td><td>i32</td><td>i32</td><td>str</td><td>str</td><td>u32</td></tr></thead><tbody><tr><td>&quot;2025-4-30&quot;</td><td>&quot;unknown&quot;</td><td>&quot;EL DORADO 7002…</td><td>20.32</td><td>1</td><td>&quot;Apr&quot;</td><td>4</td><td>30</td><td>2025</td><td>&quot;Wed&quot;</td><td>&quot;Credit&quot;</td><td>2</td></tr><tr><td>&quot;2025-4-30&quot;</td><td>&quot;unknown&quot;</td><td>&quot;4TE*SOUTH ARKA…</td><td>206.1</td><td>1</td><td>&quot;Apr&quot;</td><td>4</td><td>30</td><td>2025</td><td>&quot;Wed&quot;</td><td>&quot;Credit&quot;</td><td>2</td></tr><tr><td>&quot;2025-4-28&quot;</td><td>&quot;food&quot;</td><td>&quot;DOLLAR GENERAL…</td><td>6.78</td><td>1</td><td>&quot;Apr&quot;</td><td>4</td><td>28</td><td>2025</td><td>&quot;Mon&quot;</td><td>&quot;Credit&quot;</td><td>2</td></tr><tr><td>&quot;2025-4-25&quot;</td><td>&quot;unknown&quot;</td><td>&quot;CORNER POST   …</td><td>12.23</td><td>1</td><td>&quot;Apr&quot;</td><td>4</td><td>25</td><td>2025</td><td>&quot;Fri&quot;</td><td>&quot;Credit&quot;</td><td>2</td></tr><tr><td>&quot;2025-4-24&quot;</td><td>&quot;unknown&quot;</td><td>&quot;AR.GOV/STPAYME…</td><td>22.61</td><td>1</td><td>&quot;Apr&quot;</td><td>4</td><td>24</td><td>2025</td><td>&quot;Thu&quot;</td><td>&quot;Credit&quot;</td><td>2</td></tr><tr><td>&quot;2025-4-24&quot;</td><td>&quot;unknown&quot;</td><td>&quot;AR.GOV/STPAYME…</td><td>22.61</td><td>1</td><td>&quot;Apr&quot;</td><td>4</td><td>24</td><td>2025</td><td>&quot;Thu&quot;</td><td>&quot;Credit&quot;</td><td>2</td></tr><tr><td>&quot;2025-4-24&quot;</td><td>&quot;unknown&quot;</td><td>&quot;MELVINS DISCOU…</td><td>18.89</td><td>1</td><td>&quot;Apr&quot;</td><td>4</td><td>24</td><td>2025</td><td>&quot;Thu&quot;</td><td>&quot;Credit&quot;</td><td>2</td></tr><tr><td>&quot;2025-4-23&quot;</td><td>&quot;gas&quot;</td><td>&quot;MURPHY7520ATWA…</td><td>29.41</td><td>0</td><td>&quot;Apr&quot;</td><td>4</td><td>23</td><td>2025</td><td>&quot;Wed&quot;</td><td>&quot;Credit&quot;</td><td>2</td></tr><tr><td>&quot;2025-4-22&quot;</td><td>&quot;wmt&quot;</td><td>&quot;WAL-MART #0530…</td><td>38.99</td><td>1</td><td>&quot;Apr&quot;</td><td>4</td><td>22</td><td>2025</td><td>&quot;Tue&quot;</td><td>&quot;Credit&quot;</td><td>2</td></tr><tr><td>&quot;2025-4-22&quot;</td><td>&quot;car&quot;</td><td>&quot;AUTOZONE #0159…</td><td>10.96</td><td>0</td><td>&quot;Apr&quot;</td><td>4</td><td>22</td><td>2025</td><td>&quot;Tue&quot;</td><td>&quot;Credit&quot;</td><td>2</td></tr></tbody></table></div>"
      ],
      "text/plain": [
       "shape: (10, 12)\n",
       "┌───────────┬──────────┬─────────────────────────┬───────┬───┬──────┬─────────┬──────────┬─────────┐\n",
       "│ date      ┆ category ┆ description             ┆ cost  ┆ … ┆ year ┆ weekDay ┆ cardType ┆ quarter │\n",
       "│ ---       ┆ ---      ┆ ---                     ┆ ---   ┆   ┆ ---  ┆ ---     ┆ ---      ┆ ---     │\n",
       "│ str       ┆ str      ┆ str                     ┆ f64   ┆   ┆ i32  ┆ str     ┆ str      ┆ u32     │\n",
       "╞═══════════╪══════════╪═════════════════════════╪═══════╪═══╪══════╪═════════╪══════════╪═════════╡\n",
       "│ 2025-4-30 ┆ unknown  ┆ EL DORADO 7002 DSMV     ┆ 20.32 ┆ … ┆ 2025 ┆ Wed     ┆ Credit   ┆ 2       │\n",
       "│           ┆          ┆ EL DORA…                ┆       ┆   ┆      ┆         ┆          ┆         │\n",
       "│ 2025-4-30 ┆ unknown  ┆ 4TE*SOUTH ARKANSAS      ┆ 206.1 ┆ … ┆ 2025 ┆ Wed     ┆ Credit   ┆ 2       │\n",
       "│           ┆          ┆ REGION870-863…          ┆       ┆   ┆      ┆         ┆          ┆         │\n",
       "│ 2025-4-28 ┆ food     ┆ DOLLAR GENERAL #22817   ┆ 6.78  ┆ … ┆ 2025 ┆ Mon     ┆ Credit   ┆ 2       │\n",
       "│           ┆          ┆ EL DORA…                ┆       ┆   ┆      ┆         ┆          ┆         │\n",
       "│ 2025-4-25 ┆ unknown  ┆ CORNER POST             ┆ 12.23 ┆ … ┆ 2025 ┆ Fri     ┆ Credit   ┆ 2       │\n",
       "│           ┆          ┆ EL DORA…                ┆       ┆   ┆      ┆         ┆          ┆         │\n",
       "│ …         ┆ …        ┆ …                       ┆ …     ┆ … ┆ …    ┆ …       ┆ …        ┆ …       │\n",
       "│ 2025-4-24 ┆ unknown  ┆ MELVINS DISCOUNT        ┆ 18.89 ┆ … ┆ 2025 ┆ Thu     ┆ Credit   ┆ 2       │\n",
       "│           ┆          ┆ PHARMACYEL DORA…        ┆       ┆   ┆      ┆         ┆          ┆         │\n",
       "│ 2025-4-23 ┆ gas      ┆ MURPHY7520ATWALMART     ┆ 29.41 ┆ … ┆ 2025 ┆ Wed     ┆ Credit   ┆ 2       │\n",
       "│           ┆          ┆ EL DORA…                ┆       ┆   ┆      ┆         ┆          ┆         │\n",
       "│ 2025-4-22 ┆ wmt      ┆ WAL-MART #0530          ┆ 38.99 ┆ … ┆ 2025 ┆ Tue     ┆ Credit   ┆ 2       │\n",
       "│           ┆          ┆ EL DORA…                ┆       ┆   ┆      ┆         ┆          ┆         │\n",
       "│ 2025-4-22 ┆ car      ┆ AUTOZONE #0159          ┆ 10.96 ┆ … ┆ 2025 ┆ Tue     ┆ Credit   ┆ 2       │\n",
       "│           ┆          ┆ EL DORA…                ┆       ┆   ┆      ┆         ┆          ┆         │\n",
       "└───────────┴──────────┴─────────────────────────┴───────┴───┴──────┴─────────┴──────────┴─────────┘"
      ]
     },
     "execution_count": 3,
     "metadata": {},
     "output_type": "execute_result"
    }
   ],
   "source": [
    "df = df.with_columns(category = \n",
    "                  # ======================= Food =======================\n",
    "    pl.when(pl.col('description').str.contains('McDon|CORPORATE|CHICK-FIL-A|SLIM CHICKENS')).then(pl.lit('food'))\n",
    "    .when(pl.col('description').str.contains('MADDIES PLACE|RAISING CANES|Subway|HICKORY')).then(pl.lit('food'))\n",
    "    .when(pl.col('description').str.contains('JAMBA|PIZZA|GOODCENTS|SONIC|TACO BELL|BUFFET')).then(pl.lit('food'))\n",
    "    .when(pl.col('description').str.contains('Waffle House|DAIRY QUEEN|COLDSTONE|MCGRAWS')).then(pl.lit('food'))\n",
    "    .when(pl.col('description').str.contains('LITTLE CAESARS|MCDON|WENDY|APPLEBEES|PERCY')).then(pl.lit('food'))\n",
    "    .when(pl.col('description').str.contains('EL SUR|BAREFOOT BISTRO|YAMATO|SMOOTHIE|CREAMERY')).then(pl.lit('food'))\n",
    "    .when(pl.col('description').str.contains('DOLLAR GENERAL|DOLLAR TREE|FLYING BURGER|WWW.HOMECHEF.IL')).then(pl.lit('food'))\n",
    "    .when(pl.col('description').str.contains('DOMINO.S|POPEYES|COCA COLA|LA VILLA MEXICAN|PJ\\'S COFFEE')).then(pl.lit('food'))\n",
    "    .when(pl.col('description').str.contains('CRCKR BRRL|OFF THE RAIL CAFE|HOUSE-WYLIE|SWOLE FOOD')).then(pl.lit('food'))\n",
    "    .when(pl.col('description').str.contains('DC FUDDRUCKERS|THE BLACK CAT CAFE|RHEA LANA|BYUI FOOD')).then(pl.lit('food'))\n",
    "    .when(pl.col('description').str.contains('WHATABURGER|CUPBOP|TASTY DONUTS')).then(pl.lit('food'))\n",
    "                  # ======================= subscriptions =======================\n",
    "    .when(pl.col('description').str.contains('Adobe|Spotify|Phtoshp Lightrm|Peacock')).then(pl.lit('subscriptions'))\n",
    "    .when(pl.col('description').str.contains('WMT PLUS|HEALTHWORKS|APPLE.COM/BILL')).then(pl.lit('subscriptions'))\n",
    "                  # ======================= wmt =======================\n",
    "    .when(pl.col('description').str.contains('WM SUPER|Wal-Mart|WAL-MART|BROOKSHIRES|BROULIM|ALBERTSONS')).then(pl.lit('wmt'))\n",
    "    .when(pl.col('description').str.contains('WALGR|EVERYBODYS ANTIQUE')).then(pl.lit('wmt'))\n",
    "    .when(pl.col('description').str.contains('Walmart|WALMART') &\n",
    "          ~(pl.col('description').str.contains('MURPHY'))).then(pl.lit('wmt'))\n",
    "                  # ======================= gas =======================\n",
    "    .when(pl.col('description').str.contains('MURPHY') & \n",
    "          ~pl.col('description').str.contains('DEPOSIT')).then(pl.lit('gas'))\n",
    "    .when(pl.col('description').str.contains('SHELL|CHEVRON|CIRCLE K|LOVE\\'S')).then(pl.lit('gas'))\n",
    "                  # ======================= internet =======================\n",
    "    .when(pl.col('description').str.contains('VIASAT')).then(pl.lit('internet'))\n",
    "                  # ======================= shopping =======================\n",
    "    .when(pl.col('description').str.contains('T J MAXX|OLD NAVY|SHEIN|REAL DEALS|SALLY BEAUTY')).then(pl.lit('shopping'))\n",
    "    .when(pl.col('description').str.contains('LDS DIST ONLINE STORE|DC ULTA|DC H&amp|SEPHORA.COM')).then(pl.lit('shopping'))\n",
    "    .when(pl.col('description').str.contains('American Eagle|SPORTSMANS WAREHOUSE')).then(pl.lit('shopping'))\n",
    "                  # ======================= amazon =======================\n",
    "    .when(pl.col('description').str.contains('AMZN|AMAZON|Amazon.com|temu.com|eBay')).then(pl.lit('amazon'))\n",
    "                  # ======================= fun =======================\n",
    "    .when(pl.col('description').str.contains('Amazon Prime|YouTube|ZOO|MUSEUM|AQUARIUM|LION.S CLUB GOLF')).then(pl.lit('fun'))\n",
    "    .when(pl.col('description').str.contains('COMFORT INN|CINEMA|HOLIDAY INN|El Dorado Golf|PlayStation')).then(pl.lit('fun'))\n",
    "    .when(pl.col('description').str.contains('EXCALIBUR FAMILY FUN|AIRBNB|EXPEDIA|EL DORADO GOLF')).then(pl.lit('fun'))\n",
    "                  # ======================= power =======================\n",
    "    .when(pl.col('description').str.contains('ENTERGY')).then(pl.lit('power'))\n",
    "                  # ======================= car =======================\n",
    "    .when(pl.col('description').str.contains('O.REILLY|MUFFLEX MUFFLER|AUTOZONE|DC TAKE 5|KARL MALONE FORD')).then(pl.lit('car'))\n",
    "                  # ======================= progressive =======================\n",
    "    .when(pl.col('description').str.contains('PROG DIRECT')).then(pl.lit('progressive'))\n",
    "                  # ======================= water =======================\n",
    "    .when(pl.col('description').str.contains('SHARE CHECK')).then(pl.lit('water'))\n",
    "                  # ======================= tithing =======================\n",
    "    .when(pl.col('description').str.contains('Ch JesusChrist  DONATION')).then(pl.lit('tithing'))\n",
    "                  # ======================= rent =======================\n",
    "    .when((pl.col('description').str.contains('VENMO')) & (pl.col('cost') == 775)).then(pl.lit('rent'))\n",
    "    .when((pl.col('description').str.contains('ACH Withdrawal ELECTRONIC WITHDRAWAL')) & (pl.col('cost') == 775)).then(pl.lit('rent'))\n",
    "    .otherwise(pl.lit('unknown'))\n",
    ")\n",
    "\n",
    "\n",
    "controllables = ['food', 'wmt', 'shopping', 'subscriptions', 'fun', 'unknown', 'amazon', 'food']\n",
    "uncontrollables = ['tithing', 'progressive', 'power', 'gas', 'water', 'internet', 'rent', 'car']\n",
    "\n",
    "df = df.with_columns(controllable = pl.when(pl.col('category').is_in(controllables)).then(pl.lit(1))\n",
    "                                    .when(pl.col('category').is_in(uncontrollables)).then(pl.lit(0))\n",
    "                                    .otherwise(pl.lit('error'))) \\\n",
    "                                    .cast({'controllable':pl.Int16})\n",
    "                                    \n",
    "\n",
    "df = df.select(['date', 'category', 'description', 'cost', 'controllable', 'monthName', 'month', 'day', 'year', 'weekDay', 'cardType', 'quarter'])\n",
    "\n",
    "df.limit(10)\n",
    "\n",
    "# list(df.filter(pl.col('Category') == 'wmt')['description'].unique())\n",
    "# list(df.filter(pl.col('Category') == 'gas')['description'].unique())\n",
    "# list(df.filter(pl.col('Category') == 'unknown')['description'].unique())"
   ]
  },
  {
   "cell_type": "markdown",
   "id": "16b8832f",
   "metadata": {},
   "source": [
    "### Look at last month's unknowns"
   ]
  },
  {
   "cell_type": "code",
   "execution_count": 4,
   "id": "4580dd8b",
   "metadata": {},
   "outputs": [
    {
     "data": {
      "text/plain": [
       "['CORNER POST              EL DORADO    AR',\n",
       " 'APPLE.COM/BILL           866-712-7753 CA',\n",
       " '365 VEND LLC             TROY         MI',\n",
       " 'AR.GOV/STPAYMENT         EGOV.COM     AR',\n",
       " 'EL DORADO 7002 DSMV      EL DORADO    AR',\n",
       " 'SOUTH ARKANSAS REGIONAL HEL DORADO    AR',\n",
       " '4TE*SOUTH ARKANSAS REGION870-863-2000 AR',\n",
       " 'MELVINS DISCOUNT PHARMACYEL DORADO    AR',\n",
       " 'MY LOCAL TAXES           479-282-1958 AR',\n",
       " 'PHR*SAMAHealthCareService870-8622400  AR']"
      ]
     },
     "execution_count": 4,
     "metadata": {},
     "output_type": "execute_result"
    }
   ],
   "source": [
    "list(df.filter(pl.col('category') == 'unknown')['description'].unique())"
   ]
  },
  {
   "cell_type": "markdown",
   "id": "35640c84",
   "metadata": {},
   "source": [
    "#### Make sure correct month/year is being loaded"
   ]
  },
  {
   "cell_type": "code",
   "execution_count": null,
   "id": "136d13c4",
   "metadata": {},
   "outputs": [
    {
     "name": "stdout",
     "output_type": "stream",
     "text": [
      "[4]\n",
      "['Apr']\n",
      "['Thu', 'Sun', 'Fri', 'Wed', 'Mon', 'Tue']\n",
      "[2025]\n",
      "shape: (1, 1)\n",
      "┌──────────┐\n",
      "│ date     │\n",
      "│ ---      │\n",
      "│ str      │\n",
      "╞══════════╡\n",
      "│ 2025-4-1 │\n",
      "└──────────┘\n",
      "shape: (1, 1)\n",
      "┌──────────┐\n",
      "│ date     │\n",
      "│ ---      │\n",
      "│ str      │\n",
      "╞══════════╡\n",
      "│ 2025-4-9 │\n",
      "└──────────┘\n"
     ]
    }
   ],
   "source": [
    "print(list(df['month'].unique()))\n",
    "print(list(df['monthName'].unique()))\n",
    "print(list(df['weekDay'].unique()))\n",
    "print(list(df['year'].unique()))\n",
    "print(df.select(pl.col(\"date\").min()))\n",
    "print(df.select(pl.col(\"date\").max())) # broken, looks at str, not date"
   ]
  },
  {
   "cell_type": "markdown",
   "id": "351f72b4",
   "metadata": {},
   "source": [
    "### Check number of rows (30ish per month)\n",
    "Apr: 32"
   ]
  },
  {
   "cell_type": "code",
   "execution_count": 7,
   "id": "b9df166e",
   "metadata": {},
   "outputs": [
    {
     "data": {
      "text/plain": [
       "32"
      ]
     },
     "execution_count": 7,
     "metadata": {},
     "output_type": "execute_result"
    }
   ],
   "source": [
    "len(df)"
   ]
  },
  {
   "cell_type": "markdown",
   "id": "b9ea61bc",
   "metadata": {},
   "source": [
    "### Load the data (handle w/ caution)"
   ]
  },
  {
   "cell_type": "code",
   "execution_count": null,
   "id": "f6195399",
   "metadata": {},
   "outputs": [],
   "source": [
    "# path = r'C:\\Users\\Blake Dennett\\Downloads\\BankStreamline\\Data\\BankDataProd.csv'\n",
    "\n",
    "\n",
    "# with open(path, mode=\"a\") as f:\n",
    "#    df.write_csv(f, has_header=False)"
   ]
  },
  {
   "cell_type": "code",
   "execution_count": null,
   "id": "3bb31de5",
   "metadata": {},
   "outputs": [],
   "source": []
  }
 ],
 "metadata": {
  "kernelspec": {
   "display_name": "Python 3",
   "language": "python",
   "name": "python3"
  },
  "language_info": {
   "codemirror_mode": {
    "name": "ipython",
    "version": 3
   },
   "file_extension": ".py",
   "mimetype": "text/x-python",
   "name": "python",
   "nbconvert_exporter": "python",
   "pygments_lexer": "ipython3",
   "version": "3.10.8"
  }
 },
 "nbformat": 4,
 "nbformat_minor": 5
}
