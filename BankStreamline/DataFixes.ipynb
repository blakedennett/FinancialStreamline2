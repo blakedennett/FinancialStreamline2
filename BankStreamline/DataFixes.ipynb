{
 "cells": [
  {
   "cell_type": "code",
   "execution_count": 1,
   "id": "d7187f8b",
   "metadata": {},
   "outputs": [],
   "source": [
    "import polars as pl\n",
    "import plotly.express as px\n",
    "import pandas as pd\n",
    "import plotly.graph_objects as go\n",
    "import matplotlib.pyplot as plt\n",
    "from matplotlib.dates import DateFormatter, date2num\n",
    "import time"
   ]
  },
  {
   "cell_type": "markdown",
   "id": "82c87eb3",
   "metadata": {},
   "source": [
    "#### Pull Data"
   ]
  },
  {
   "cell_type": "code",
   "execution_count": null,
   "id": "8943cc70",
   "metadata": {},
   "outputs": [
    {
     "data": {
      "text/html": [
       "<div><style>\n",
       ".dataframe > thead > tr > th,\n",
       ".dataframe > tbody > tr > td {\n",
       "  text-align: right;\n",
       "  white-space: pre-wrap;\n",
       "}\n",
       "</style>\n",
       "<small>shape: (3, 12)</small><table border=\"1\" class=\"dataframe\"><thead><tr><th>date</th><th>category</th><th>description</th><th>cost</th><th>controllable</th><th>monthName</th><th>month</th><th>day</th><th>year</th><th>weekDay</th><th>cardType</th><th>quarter</th></tr><tr><td>str</td><td>str</td><td>str</td><td>f64</td><td>i64</td><td>str</td><td>i64</td><td>i64</td><td>i64</td><td>str</td><td>str</td><td>i64</td></tr></thead><tbody><tr><td>&quot;2025-3-31&quot;</td><td>&quot;food&quot;</td><td>&quot;DC THE BLACK C…</td><td>54.61</td><td>1</td><td>&quot;Mar&quot;</td><td>3</td><td>31</td><td>2025</td><td>&quot;Mon&quot;</td><td>&quot;Debit&quot;</td><td>1</td></tr><tr><td>&quot;2025-3-31&quot;</td><td>&quot;amazon&quot;</td><td>&quot;DC eBay O*08-1…</td><td>125.74</td><td>1</td><td>&quot;Mar&quot;</td><td>3</td><td>31</td><td>2025</td><td>&quot;Mon&quot;</td><td>&quot;Debit&quot;</td><td>1</td></tr><tr><td>&quot;2025-3-28&quot;</td><td>&quot;wmt&quot;</td><td>&quot;POS 0328 0135 …</td><td>58.47</td><td>1</td><td>&quot;Mar&quot;</td><td>3</td><td>28</td><td>2025</td><td>&quot;Fri&quot;</td><td>&quot;Debit&quot;</td><td>1</td></tr></tbody></table></div>"
      ],
      "text/plain": [
       "shape: (3, 12)\n",
       "┌───────────┬──────────┬────────────────────────┬────────┬───┬──────┬─────────┬──────────┬─────────┐\n",
       "│ date      ┆ category ┆ description            ┆ cost   ┆ … ┆ year ┆ weekDay ┆ cardType ┆ quarter │\n",
       "│ ---       ┆ ---      ┆ ---                    ┆ ---    ┆   ┆ ---  ┆ ---     ┆ ---      ┆ ---     │\n",
       "│ str       ┆ str      ┆ str                    ┆ f64    ┆   ┆ i64  ┆ str     ┆ str      ┆ i64     │\n",
       "╞═══════════╪══════════╪════════════════════════╪════════╪═══╪══════╪═════════╪══════════╪═════════╡\n",
       "│ 2025-3-31 ┆ food     ┆ DC THE BLACK CAT CAFE  ┆ 54.61  ┆ … ┆ 2025 ┆ Mon     ┆ Debit    ┆ 1       │\n",
       "│           ┆          ┆ EL DORADO …            ┆        ┆   ┆      ┆         ┆          ┆         │\n",
       "│ 2025-3-31 ┆ amazon   ┆ DC eBay                ┆ 125.74 ┆ … ┆ 2025 ┆ Mon     ┆ Debit    ┆ 1       │\n",
       "│           ┆          ┆ O*08-12892-27822 San   ┆        ┆   ┆      ┆         ┆          ┆         │\n",
       "│           ┆          ┆ Jos…                   ┆        ┆   ┆      ┆         ┆          ┆         │\n",
       "│ 2025-3-28 ┆ wmt      ┆ POS 0328 0135 698593   ┆ 58.47  ┆ … ┆ 2025 ┆ Fri     ┆ Debit    ┆ 1       │\n",
       "│           ┆          ┆ Walmart.com…           ┆        ┆   ┆      ┆         ┆          ┆         │\n",
       "└───────────┴──────────┴────────────────────────┴────────┴───┴──────┴─────────┴──────────┴─────────┘"
      ]
     },
     "execution_count": 2,
     "metadata": {},
     "output_type": "execute_result"
    }
   ],
   "source": [
    "df = pl.read_csv(r'C:\\Users\\Blake Dennett\\Downloads\\StreamlineRepo\\FinancialStreamline\\BankStreamline\\Data\\BankDataProd.csv')\n",
    "\n",
    "df.limit(3)"
   ]
  },
  {
   "cell_type": "markdown",
   "id": "25971895",
   "metadata": {},
   "source": [
    "#### Edit dataframe"
   ]
  },
  {
   "cell_type": "code",
   "execution_count": 7,
   "id": "b70430c2",
   "metadata": {},
   "outputs": [
    {
     "data": {
      "text/html": [
       "<div><style>\n",
       ".dataframe > thead > tr > th,\n",
       ".dataframe > tbody > tr > td {\n",
       "  text-align: right;\n",
       "  white-space: pre-wrap;\n",
       "}\n",
       "</style>\n",
       "<small>shape: (853, 12)</small><table border=\"1\" class=\"dataframe\"><thead><tr><th>date</th><th>category</th><th>description</th><th>cost</th><th>controllable</th><th>monthName</th><th>month</th><th>day</th><th>year</th><th>weekDay</th><th>cardType</th><th>quarter</th></tr><tr><td>str</td><td>str</td><td>str</td><td>f64</td><td>i64</td><td>str</td><td>i64</td><td>i64</td><td>i64</td><td>str</td><td>str</td><td>i64</td></tr></thead><tbody><tr><td>&quot;2025-3-31&quot;</td><td>&quot;food&quot;</td><td>&quot;DC THE BLACK C…</td><td>54.61</td><td>1</td><td>&quot;Mar&quot;</td><td>3</td><td>31</td><td>2025</td><td>&quot;Mon&quot;</td><td>&quot;Debit&quot;</td><td>1</td></tr><tr><td>&quot;2025-3-31&quot;</td><td>&quot;amazon&quot;</td><td>&quot;DC eBay O*08-1…</td><td>125.74</td><td>1</td><td>&quot;Mar&quot;</td><td>3</td><td>31</td><td>2025</td><td>&quot;Mon&quot;</td><td>&quot;Debit&quot;</td><td>1</td></tr><tr><td>&quot;2025-3-28&quot;</td><td>&quot;wmt&quot;</td><td>&quot;POS 0328 0135 …</td><td>58.47</td><td>1</td><td>&quot;Mar&quot;</td><td>3</td><td>28</td><td>2025</td><td>&quot;Fri&quot;</td><td>&quot;Debit&quot;</td><td>1</td></tr><tr><td>&quot;2025-3-27&quot;</td><td>&quot;wmt&quot;</td><td>&quot;POS 0327 0005 …</td><td>6.42</td><td>1</td><td>&quot;Mar&quot;</td><td>3</td><td>27</td><td>2025</td><td>&quot;Thu&quot;</td><td>&quot;Debit&quot;</td><td>1</td></tr><tr><td>&quot;2025-3-25&quot;</td><td>&quot;subscriptions&quot;</td><td>&quot;DC Spotify USA…</td><td>11.99</td><td>1</td><td>&quot;Mar&quot;</td><td>3</td><td>25</td><td>2025</td><td>&quot;Tue&quot;</td><td>&quot;Debit&quot;</td><td>1</td></tr><tr><td>&quot;2025-3-24&quot;</td><td>&quot;water&quot;</td><td>&quot;SHARE CHECK&quot;</td><td>25.62</td><td>0</td><td>&quot;Mar&quot;</td><td>3</td><td>24</td><td>2025</td><td>&quot;Mon&quot;</td><td>&quot;Debit&quot;</td><td>1</td></tr><tr><td>&quot;2025-3-24&quot;</td><td>&quot;food&quot;</td><td>&quot;POS 0324 1312 …</td><td>1.75</td><td>1</td><td>&quot;Mar&quot;</td><td>3</td><td>24</td><td>2025</td><td>&quot;Mon&quot;</td><td>&quot;Debit&quot;</td><td>1</td></tr><tr><td>&quot;2025-3-24&quot;</td><td>&quot;internet&quot;</td><td>&quot;VIASAT, INC.  …</td><td>137.66</td><td>0</td><td>&quot;Mar&quot;</td><td>3</td><td>24</td><td>2025</td><td>&quot;Mon&quot;</td><td>&quot;Debit&quot;</td><td>1</td></tr><tr><td>&quot;2025-3-24&quot;</td><td>&quot;wmt&quot;</td><td>&quot;POS 0324 0328 …</td><td>64.23</td><td>1</td><td>&quot;Mar&quot;</td><td>3</td><td>24</td><td>2025</td><td>&quot;Mon&quot;</td><td>&quot;Debit&quot;</td><td>1</td></tr><tr><td>&quot;2025-3-24&quot;</td><td>&quot;amazon&quot;</td><td>&quot;DC AMAZON MKTP…</td><td>6.5</td><td>1</td><td>&quot;Mar&quot;</td><td>3</td><td>24</td><td>2025</td><td>&quot;Mon&quot;</td><td>&quot;Debit&quot;</td><td>1</td></tr><tr><td>&quot;2025-3-24&quot;</td><td>&quot;wmt&quot;</td><td>&quot;POS 0323 0058 …</td><td>10.45</td><td>1</td><td>&quot;Mar&quot;</td><td>3</td><td>24</td><td>2025</td><td>&quot;Mon&quot;</td><td>&quot;Debit&quot;</td><td>1</td></tr><tr><td>&quot;2025-3-24&quot;</td><td>&quot;wmt&quot;</td><td>&quot;POS 0323 0056 …</td><td>5.42</td><td>1</td><td>&quot;Mar&quot;</td><td>3</td><td>24</td><td>2025</td><td>&quot;Mon&quot;</td><td>&quot;Debit&quot;</td><td>1</td></tr><tr><td>&hellip;</td><td>&hellip;</td><td>&hellip;</td><td>&hellip;</td><td>&hellip;</td><td>&hellip;</td><td>&hellip;</td><td>&hellip;</td><td>&hellip;</td><td>&hellip;</td><td>&hellip;</td><td>&hellip;</td></tr><tr><td>&quot;2025-4-10&quot;</td><td>&quot;food&quot;</td><td>&quot;SQ *EL DORADO …</td><td>7.44</td><td>1</td><td>&quot;Apr&quot;</td><td>4</td><td>10</td><td>2025</td><td>&quot;Thu&quot;</td><td>&quot;Credit&quot;</td><td>2</td></tr><tr><td>&quot;2025-4-9&quot;</td><td>&quot;misc&quot;</td><td>&quot;MY LOCAL TAXES…</td><td>80.82</td><td>1</td><td>&quot;Apr&quot;</td><td>4</td><td>9</td><td>2025</td><td>&quot;Wed&quot;</td><td>&quot;Credit&quot;</td><td>2</td></tr><tr><td>&quot;2025-4-7&quot;</td><td>&quot;subscriptions&quot;</td><td>&quot;APPLE.COM/BILL…</td><td>15.99</td><td>1</td><td>&quot;Apr&quot;</td><td>4</td><td>7</td><td>2025</td><td>&quot;Mon&quot;</td><td>&quot;Credit&quot;</td><td>2</td></tr><tr><td>&quot;2025-4-6&quot;</td><td>&quot;misc&quot;</td><td>&quot;SOUTH ARKANSAS…</td><td>10.95</td><td>1</td><td>&quot;Apr&quot;</td><td>4</td><td>6</td><td>2025</td><td>&quot;Sun&quot;</td><td>&quot;Credit&quot;</td><td>2</td></tr><tr><td>&quot;2025-4-3&quot;</td><td>&quot;misc&quot;</td><td>&quot;SOUTH ARKANSAS…</td><td>8.55</td><td>1</td><td>&quot;Apr&quot;</td><td>4</td><td>3</td><td>2025</td><td>&quot;Thu&quot;</td><td>&quot;Credit&quot;</td><td>2</td></tr><tr><td>&quot;2025-4-3&quot;</td><td>&quot;misc&quot;</td><td>&quot;365 VEND LLC  …</td><td>3.2</td><td>1</td><td>&quot;Apr&quot;</td><td>4</td><td>3</td><td>2025</td><td>&quot;Thu&quot;</td><td>&quot;Credit&quot;</td><td>2</td></tr><tr><td>&quot;2025-4-3&quot;</td><td>&quot;misc&quot;</td><td>&quot;365 VEND LLC  …</td><td>2.35</td><td>1</td><td>&quot;Apr&quot;</td><td>4</td><td>3</td><td>2025</td><td>&quot;Thu&quot;</td><td>&quot;Credit&quot;</td><td>2</td></tr><tr><td>&quot;2025-4-2&quot;</td><td>&quot;misc&quot;</td><td>&quot;SOUTH ARKANSAS…</td><td>1.31</td><td>1</td><td>&quot;Apr&quot;</td><td>4</td><td>2</td><td>2025</td><td>&quot;Wed&quot;</td><td>&quot;Credit&quot;</td><td>2</td></tr><tr><td>&quot;2025-4-2&quot;</td><td>&quot;misc&quot;</td><td>&quot;SOUTH ARKANSAS…</td><td>7.0</td><td>1</td><td>&quot;Apr&quot;</td><td>4</td><td>2</td><td>2025</td><td>&quot;Wed&quot;</td><td>&quot;Credit&quot;</td><td>2</td></tr><tr><td>&quot;2025-4-2&quot;</td><td>&quot;misc&quot;</td><td>&quot;SOUTH ARKANSAS…</td><td>9.87</td><td>1</td><td>&quot;Apr&quot;</td><td>4</td><td>2</td><td>2025</td><td>&quot;Wed&quot;</td><td>&quot;Credit&quot;</td><td>2</td></tr><tr><td>&quot;2025-4-2&quot;</td><td>&quot;misc&quot;</td><td>&quot;SOUTH ARKANSAS…</td><td>3.28</td><td>1</td><td>&quot;Apr&quot;</td><td>4</td><td>2</td><td>2025</td><td>&quot;Wed&quot;</td><td>&quot;Credit&quot;</td><td>2</td></tr><tr><td>&quot;2025-4-1&quot;</td><td>&quot;misc&quot;</td><td>&quot;SOUTH ARKANSAS…</td><td>6.57</td><td>1</td><td>&quot;Apr&quot;</td><td>4</td><td>1</td><td>2025</td><td>&quot;Tue&quot;</td><td>&quot;Credit&quot;</td><td>2</td></tr></tbody></table></div>"
      ],
      "text/plain": [
       "shape: (853, 12)\n",
       "┌───────────┬──────────┬────────────────────────┬────────┬───┬──────┬─────────┬──────────┬─────────┐\n",
       "│ date      ┆ category ┆ description            ┆ cost   ┆ … ┆ year ┆ weekDay ┆ cardType ┆ quarter │\n",
       "│ ---       ┆ ---      ┆ ---                    ┆ ---    ┆   ┆ ---  ┆ ---     ┆ ---      ┆ ---     │\n",
       "│ str       ┆ str      ┆ str                    ┆ f64    ┆   ┆ i64  ┆ str     ┆ str      ┆ i64     │\n",
       "╞═══════════╪══════════╪════════════════════════╪════════╪═══╪══════╪═════════╪══════════╪═════════╡\n",
       "│ 2025-3-31 ┆ food     ┆ DC THE BLACK CAT CAFE  ┆ 54.61  ┆ … ┆ 2025 ┆ Mon     ┆ Debit    ┆ 1       │\n",
       "│           ┆          ┆ EL DORADO …            ┆        ┆   ┆      ┆         ┆          ┆         │\n",
       "│ 2025-3-31 ┆ amazon   ┆ DC eBay                ┆ 125.74 ┆ … ┆ 2025 ┆ Mon     ┆ Debit    ┆ 1       │\n",
       "│           ┆          ┆ O*08-12892-27822 San   ┆        ┆   ┆      ┆         ┆          ┆         │\n",
       "│           ┆          ┆ Jos…                   ┆        ┆   ┆      ┆         ┆          ┆         │\n",
       "│ 2025-3-28 ┆ wmt      ┆ POS 0328 0135 698593   ┆ 58.47  ┆ … ┆ 2025 ┆ Fri     ┆ Debit    ┆ 1       │\n",
       "│           ┆          ┆ Walmart.com…           ┆        ┆   ┆      ┆         ┆          ┆         │\n",
       "│ 2025-3-27 ┆ wmt      ┆ POS 0327 0005 524132   ┆ 6.42   ┆ … ┆ 2025 ┆ Thu     ┆ Debit    ┆ 1       │\n",
       "│           ┆          ┆ Walmart.com…           ┆        ┆   ┆      ┆         ┆          ┆         │\n",
       "│ …         ┆ …        ┆ …                      ┆ …      ┆ … ┆ …    ┆ …       ┆ …        ┆ …       │\n",
       "│ 2025-4-2  ┆ misc     ┆ SOUTH ARKANSAS         ┆ 7.0    ┆ … ┆ 2025 ┆ Wed     ┆ Credit   ┆ 2       │\n",
       "│           ┆          ┆ REGIONAL HEL DORA…     ┆        ┆   ┆      ┆         ┆          ┆         │\n",
       "│ 2025-4-2  ┆ misc     ┆ SOUTH ARKANSAS         ┆ 9.87   ┆ … ┆ 2025 ┆ Wed     ┆ Credit   ┆ 2       │\n",
       "│           ┆          ┆ REGIONAL HEL DORA…     ┆        ┆   ┆      ┆         ┆          ┆         │\n",
       "│ 2025-4-2  ┆ misc     ┆ SOUTH ARKANSAS         ┆ 3.28   ┆ … ┆ 2025 ┆ Wed     ┆ Credit   ┆ 2       │\n",
       "│           ┆          ┆ REGIONAL HEL DORA…     ┆        ┆   ┆      ┆         ┆          ┆         │\n",
       "│ 2025-4-1  ┆ misc     ┆ SOUTH ARKANSAS         ┆ 6.57   ┆ … ┆ 2025 ┆ Tue     ┆ Credit   ┆ 2       │\n",
       "│           ┆          ┆ REGIONAL HEL DORA…     ┆        ┆   ┆      ┆         ┆          ┆         │\n",
       "└───────────┴──────────┴────────────────────────┴────────┴───┴──────┴─────────┴──────────┴─────────┘"
      ]
     },
     "execution_count": 7,
     "metadata": {},
     "output_type": "execute_result"
    }
   ],
   "source": [
    "# nf = df.with_columns(category = pl.when(pl.col('description').str.contains('AIRBNB|EXPEDIA')).then(pl.lit('fun')) \\\n",
    "#         .otherwise(pl.col('category')))\n",
    "\n",
    "\n",
    "nf = df.with_columns(category = pl.when(pl.col('category') == 'unknown').then(pl.lit('misc')) \\\n",
    "        .otherwise(pl.col('category')))\n",
    "\n",
    "\n",
    "\n",
    "# nf = df.with_columns(quarter = pl.col(\"date\").str.strptime(pl.Date, \"%Y-%m-%d\").dt.quarter())\n",
    "                                    \n",
    "\n",
    "# nf = nf.select(['date', 'category', 'description', 'cost', 'controllable', 'monthName', 'month', 'day', 'year', 'weekDay', 'cardType', 'quarter'])\n",
    "# nf = nf.cast({'controllable':pl.Int16})\n",
    "\n",
    "\n",
    "# nf['cost'].min()\n",
    "\n",
    "# nf.filter(pl.col('controllable') == 'error')\n",
    "# nf.filter((pl.col('category') == 'fun') & (pl.col('description').str.contains('EXPEDIA|AIRBNB')))\n",
    "# nf.filter(pl.col('description').str.contains('DEPOSIT'))\n",
    "\n",
    "nf"
   ]
  },
  {
   "cell_type": "markdown",
   "id": "8ddec840",
   "metadata": {},
   "source": [
    "#### Check for duplicates"
   ]
  },
  {
   "cell_type": "code",
   "execution_count": 8,
   "id": "d5fd5acc",
   "metadata": {},
   "outputs": [
    {
     "data": {
      "text/html": [
       "<div><style>\n",
       ".dataframe > thead > tr > th,\n",
       ".dataframe > tbody > tr > td {\n",
       "  text-align: right;\n",
       "  white-space: pre-wrap;\n",
       "}\n",
       "</style>\n",
       "<small>shape: (2, 12)</small><table border=\"1\" class=\"dataframe\"><thead><tr><th>date</th><th>category</th><th>description</th><th>cost</th><th>controllable</th><th>monthName</th><th>month</th><th>day</th><th>year</th><th>weekDay</th><th>cardType</th><th>quarter</th></tr><tr><td>str</td><td>str</td><td>str</td><td>f64</td><td>i64</td><td>str</td><td>i64</td><td>i64</td><td>i64</td><td>str</td><td>str</td><td>i64</td></tr></thead><tbody><tr><td>&quot;2025-3-3&quot;</td><td>&quot;misc&quot;</td><td>&quot;VENMO         …</td><td>1.0</td><td>1</td><td>&quot;Mar&quot;</td><td>3</td><td>3</td><td>2025</td><td>&quot;Mon&quot;</td><td>&quot;Debit&quot;</td><td>1</td></tr><tr><td>&quot;2025-3-3&quot;</td><td>&quot;misc&quot;</td><td>&quot;VENMO         …</td><td>1.0</td><td>1</td><td>&quot;Mar&quot;</td><td>3</td><td>3</td><td>2025</td><td>&quot;Mon&quot;</td><td>&quot;Debit&quot;</td><td>1</td></tr></tbody></table></div>"
      ],
      "text/plain": [
       "shape: (2, 12)\n",
       "┌──────────┬──────────┬───────────────────────────┬──────┬───┬──────┬─────────┬──────────┬─────────┐\n",
       "│ date     ┆ category ┆ description               ┆ cost ┆ … ┆ year ┆ weekDay ┆ cardType ┆ quarter │\n",
       "│ ---      ┆ ---      ┆ ---                       ┆ ---  ┆   ┆ ---  ┆ ---     ┆ ---      ┆ ---     │\n",
       "│ str      ┆ str      ┆ str                       ┆ f64  ┆   ┆ i64  ┆ str     ┆ str      ┆ i64     │\n",
       "╞══════════╪══════════╪═══════════════════════════╪══════╪═══╪══════╪═════════╪══════════╪═════════╡\n",
       "│ 2025-3-3 ┆ misc     ┆ VENMO           PAYMENT   ┆ 1.0  ┆ … ┆ 2025 ┆ Mon     ┆ Debit    ┆ 1       │\n",
       "│          ┆          ┆ 250302                    ┆      ┆   ┆      ┆         ┆          ┆         │\n",
       "│ 2025-3-3 ┆ misc     ┆ VENMO           PAYMENT   ┆ 1.0  ┆ … ┆ 2025 ┆ Mon     ┆ Debit    ┆ 1       │\n",
       "│          ┆          ┆ 250302                    ┆      ┆   ┆      ┆         ┆          ┆         │\n",
       "└──────────┴──────────┴───────────────────────────┴──────┴───┴──────┴─────────┴──────────┴─────────┘"
      ]
     },
     "execution_count": 8,
     "metadata": {},
     "output_type": "execute_result"
    }
   ],
   "source": [
    "nf.filter(nf.is_duplicated())\n",
    "# len(nf.filter(nf.is_duplicated()))"
   ]
  },
  {
   "cell_type": "markdown",
   "id": "e29b3406",
   "metadata": {},
   "source": [
    "#### check nf length\n",
    "- Mar: 784\n",
    "- Apr: 853"
   ]
  },
  {
   "cell_type": "code",
   "execution_count": 9,
   "id": "b24eecd0",
   "metadata": {},
   "outputs": [
    {
     "data": {
      "text/plain": [
       "853"
      ]
     },
     "execution_count": 9,
     "metadata": {},
     "output_type": "execute_result"
    }
   ],
   "source": [
    "len(nf)"
   ]
  },
  {
   "cell_type": "markdown",
   "id": "d169ef5a",
   "metadata": {},
   "source": [
    "#### Update file (use w/ caution)"
   ]
  },
  {
   "cell_type": "code",
   "execution_count": null,
   "id": "53426824",
   "metadata": {},
   "outputs": [],
   "source": [
    "# path = r'C:\\Users\\Blake Dennett\\Downloads\\BankStreamline\\Data\\BankDataProd.csv'\n",
    "\n",
    "\n",
    "# with open(path, mode=\"w\") as f:\n",
    "#    nf.write_csv(f, has_header=True)"
   ]
  },
  {
   "cell_type": "markdown",
   "id": "f66340aa",
   "metadata": {},
   "source": [
    "#### Adhoc looking at data"
   ]
  },
  {
   "cell_type": "code",
   "execution_count": 57,
   "id": "20af6955",
   "metadata": {},
   "outputs": [
    {
     "data": {
      "text/plain": [
       "[1, 2, 3, 4]"
      ]
     },
     "execution_count": 57,
     "metadata": {},
     "output_type": "execute_result"
    }
   ],
   "source": [
    "# list(df.filter(pl.col('category') == 'unknown')['description'].unique())\n",
    "list(nf['quarter'].unique())\n",
    "\n",
    "# maybe car words: 'O.REILLY|O.REILLY|MUFFLEX MUFFLER|AUTOZONE|DC TAKE 5|KARL MALONE FORD', "
   ]
  },
  {
   "cell_type": "code",
   "execution_count": null,
   "id": "a206f188",
   "metadata": {},
   "outputs": [],
   "source": []
  }
 ],
 "metadata": {
  "kernelspec": {
   "display_name": "Python 3",
   "language": "python",
   "name": "python3"
  },
  "language_info": {
   "codemirror_mode": {
    "name": "ipython",
    "version": 3
   },
   "file_extension": ".py",
   "mimetype": "text/x-python",
   "name": "python",
   "nbconvert_exporter": "python",
   "pygments_lexer": "ipython3",
   "version": "3.10.8"
  }
 },
 "nbformat": 4,
 "nbformat_minor": 5
}
